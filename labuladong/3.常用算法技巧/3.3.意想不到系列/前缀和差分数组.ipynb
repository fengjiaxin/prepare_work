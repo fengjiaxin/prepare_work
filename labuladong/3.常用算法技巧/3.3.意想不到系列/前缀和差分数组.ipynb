{
 "cells": [
  {
   "cell_type": "code",
   "execution_count": 1,
   "metadata": {},
   "outputs": [],
   "source": [
    "# 前缀和主要适用的场景是原始数组不会被修改的情况下，频繁查询某个区间的累加和。\n",
    "# 有一个数组nums\n",
    "# 统计一个sum[i] = sum(nums[:i+1])\n",
    "class preSum:\n",
    "    def __init__(self,nums):\n",
    "        # prefixs[i] 表示的是nums[0] + ... + nums[i]\n",
    "        self.prefixs = []\n",
    "        for num in nums:\n",
    "            if len(self.prefixs) == 0:\n",
    "                self.prefixs.append(num)\n",
    "            else:\n",
    "                self.prefixs.append(num + self.prefixs[-1])\n",
    "    \n",
    "    def query(self,i,j):\n",
    "        if i == 0:\n",
    "            return self.prefixs[j]\n",
    "        else:\n",
    "            return self.prefixs[j] - self.prefixs[i-1]"
   ]
  },
  {
   "cell_type": "code",
   "execution_count": 2,
   "metadata": {},
   "outputs": [
    {
     "data": {
      "text/plain": [
       "4"
      ]
     },
     "execution_count": 2,
     "metadata": {},
     "output_type": "execute_result"
    }
   ],
   "source": [
    "nums = [3,5,2,-2,4,1]\n",
    "ps = preSum(nums)\n",
    "ps.query(2,4)"
   ]
  },
  {
   "cell_type": "code",
   "execution_count": 3,
   "metadata": {},
   "outputs": [],
   "source": [
    "# 差分数组的主要适用场景是频繁对原始数组的某个区间的元素进行增减。\n",
    "class Difference:\n",
    "    def __init__(self,nums):\n",
    "        # diff[i] 代表nums[i]和nums[i-1]的差 diff[0] = nums[0]\n",
    "        self.diff = []\n",
    "        for i,num in enumerate(nums):\n",
    "            if i == 0:\n",
    "                self.diff.append(num)\n",
    "            else:\n",
    "                self.diff.append(num - nums[i-1])\n",
    "    \n",
    "    def increment(self,i,j,val):\n",
    "        self.diff[i] += val\n",
    "        if j + 1 < len(self.diff):\n",
    "            self.diff[j+1] -= val\n",
    "    \n",
    "    def result(self):\n",
    "        nums = []\n",
    "        for d in self.diff:\n",
    "            if len(nums) == 0:\n",
    "                nums.append(d)\n",
    "            else:\n",
    "                nums.append(nums[-1] + d)\n",
    "        return nums"
   ]
  },
  {
   "cell_type": "code",
   "execution_count": 4,
   "metadata": {},
   "outputs": [],
   "source": [
    "def corpFlightBookings(books,n):\n",
    "    nums = [0 for _ in range(n)]\n",
    "    df = Difference(nums)\n",
    "    for start,end,val in books:\n",
    "        df.increment(start,end,val)\n",
    "    return df.result()"
   ]
  },
  {
   "cell_type": "code",
   "execution_count": 5,
   "metadata": {},
   "outputs": [
    {
     "data": {
      "text/plain": [
       "[0, 10, 55, 45, 25]"
      ]
     },
     "execution_count": 5,
     "metadata": {},
     "output_type": "execute_result"
    }
   ],
   "source": [
    "books = [[1,2,10],[2,3,20],[2,5,25]]\n",
    "n = 5\n",
    "corpFlightBookings(books,n)"
   ]
  }
 ],
 "metadata": {
  "kernelspec": {
   "display_name": "Python 3",
   "language": "python",
   "name": "python3"
  },
  "language_info": {
   "codemirror_mode": {
    "name": "ipython",
    "version": 3
   },
   "file_extension": ".py",
   "mimetype": "text/x-python",
   "name": "python",
   "nbconvert_exporter": "python",
   "pygments_lexer": "ipython3",
   "version": "3.6.10"
  }
 },
 "nbformat": 4,
 "nbformat_minor": 4
}
