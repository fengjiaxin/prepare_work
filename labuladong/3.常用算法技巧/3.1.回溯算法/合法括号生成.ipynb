{
 "cells": [
  {
   "cell_type": "code",
   "execution_count": 6,
   "metadata": {},
   "outputs": [],
   "source": [
    "# 合法括号生成\n",
    "# 做选择：就是(  和   )\n",
    "# 结束条件:\n",
    "# 1.如果已经存在的情况下 左括号少，不合法\n",
    "# 2.如果剩余数量是-1，也不合法\n",
    "# 3.之后都不剩，才可以\n",
    "def generate(n):\n",
    "    res = []\n",
    "    def backtrack(path,left,right):\n",
    "        if left > right:\n",
    "            return\n",
    "        if left < 0 or right < 0:\n",
    "            return\n",
    "        if left == 0 and right == 0:\n",
    "            res.append(\"\".join(path))\n",
    "        \n",
    "        path.append(\"(\")\n",
    "        backtrack(path,left-1,right)\n",
    "        path.pop(-1)\n",
    "        \n",
    "        path.append(\")\")\n",
    "        backtrack(path,left,right - 1)\n",
    "        path.pop(-1)\n",
    "    backtrack([],n,n)\n",
    "    return res"
   ]
  },
  {
   "cell_type": "code",
   "execution_count": 7,
   "metadata": {},
   "outputs": [
    {
     "data": {
      "text/plain": [
       "['(((())))',\n",
       " '((()()))',\n",
       " '((())())',\n",
       " '((()))()',\n",
       " '(()(()))',\n",
       " '(()()())',\n",
       " '(()())()',\n",
       " '(())(())',\n",
       " '(())()()',\n",
       " '()((()))',\n",
       " '()(()())',\n",
       " '()(())()',\n",
       " '()()(())',\n",
       " '()()()()']"
      ]
     },
     "execution_count": 7,
     "metadata": {},
     "output_type": "execute_result"
    }
   ],
   "source": [
    "generate(4)"
   ]
  }
 ],
 "metadata": {
  "kernelspec": {
   "display_name": "Python 3",
   "language": "python",
   "name": "python3"
  },
  "language_info": {
   "codemirror_mode": {
    "name": "ipython",
    "version": 3
   },
   "file_extension": ".py",
   "mimetype": "text/x-python",
   "name": "python",
   "nbconvert_exporter": "python",
   "pygments_lexer": "ipython3",
   "version": "3.6.10"
  }
 },
 "nbformat": 4,
 "nbformat_minor": 4
}
