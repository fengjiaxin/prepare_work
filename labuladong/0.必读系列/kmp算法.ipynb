{
 "cells": [
  {
   "cell_type": "code",
   "execution_count": 1,
   "metadata": {},
   "outputs": [],
   "source": [
    "# kmp算法，这个应该是真的难\n",
    "# 核心思想：当出现字符串不匹配时，可以知道一部分之前已经匹配的文本内容，\n",
    "# 可以利用这些信息避免从头再去做匹配了\n",
    "\n",
    "# 举个简单的例子吧\n",
    "# 模式串： aabaac\n",
    "# 假设i是字符串的指针 j是模式串的指针，假设j走到c字符串这个位置\n",
    "# c不匹配，但是前面aabaa都匹配上了，应该充分利用这个信息\n",
    "# aabaa这个字符串的最大前后缀长度为2,此时j指针应该跳到b这个字符串\n",
    "# 这个查询数据就是next数据\n",
    "# 假设在j位置不匹配，那么根据next数据，j应该移动到next[j]\n",
    "# 此时模式串移动位数 = j - next[j] 移动位数应该>= 1，不然就原地循环了\n",
    "# 根据这个定义\n",
    "# next[j]应该是模式串前j个字符串(不包括p[j])的最大公共前后缀长度\n",
    "# 并且next[0] = -1"
   ]
  },
  {
   "cell_type": "code",
   "execution_count": 2,
   "metadata": {},
   "outputs": [],
   "source": [
    "# kmp算法流程：\n",
    "# 1. 假设现在文本串S匹配到 i 位置，模式串P匹配到 j 位置\n",
    "#   如果j = -1，或者当前字符匹配成功（即S[i] == P[j]），都令i++，j++，继续匹配下一个字符；\n",
    "#   如果j != -1，且当前字符匹配失败（即S[i] != P[j]），则令 i 不变，j = next[j]。此举意味着失配时，模式串P相对于文本串S向右移动了j - next [j] 位。\n",
    "\n",
    "def kmpSearch(s,p,nextNums):\n",
    "    i = 0\n",
    "    j = 0\n",
    "    sLen = len(s)\n",
    "    pLen = len(p)\n",
    "    while i < sLen and j < pLen:\n",
    "        if j == -1 or s[i] == p[j]:\n",
    "            i += 1\n",
    "            j += 1\n",
    "        else:\n",
    "            j = nextNums[j]\n",
    "    if j == pLen:\n",
    "        return i - j\n",
    "    return -1"
   ]
  },
  {
   "cell_type": "code",
   "execution_count": null,
   "metadata": {},
   "outputs": [],
   "source": [
    "def getNext(p):\n",
    "    length = len(p)\n",
    "    nextArr = [0 for _ in range(length)]\n",
    "    nextArr[0] = -1\n",
    "    k = -1\n",
    "    j = 0\n",
    "    # next数组最多求出前j个字符的最大公共前缀\n",
    "    while j < length - 1:\n",
    "        if k == -1 or p[k] == p[j]:\n",
    "            j += 1\n",
    "            k += 1\n",
    "            nextArr[j] = k\n",
    "        else:\n",
    "            k = nextArr[k]\n",
    "    return nextArr"
   ]
  }
 ],
 "metadata": {
  "kernelspec": {
   "display_name": "Python 3",
   "language": "python",
   "name": "python3"
  },
  "language_info": {
   "codemirror_mode": {
    "name": "ipython",
    "version": 3
   },
   "file_extension": ".py",
   "mimetype": "text/x-python",
   "name": "python",
   "nbconvert_exporter": "python",
   "pygments_lexer": "ipython3",
   "version": "3.6.10"
  }
 },
 "nbformat": 4,
 "nbformat_minor": 4
}
