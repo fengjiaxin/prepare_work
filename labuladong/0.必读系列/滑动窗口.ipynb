{
 "cells": [
  {
   "cell_type": "code",
   "execution_count": 11,
   "metadata": {},
   "outputs": [],
   "source": [
    "# 模板\n",
    "# left = 0;right = 0;window = {}\n",
    "# while right < len(s):\n",
    "#     # 增大窗口\n",
    "#     window.add(s[right])\n",
    "#     right += 1\n",
    "#     while {window needs shrink}:\n",
    "#         # 缩小窗口\n",
    "#         window.remove(s[left])\n",
    "#         left += 1"
   ]
  },
  {
   "cell_type": "code",
   "execution_count": 12,
   "metadata": {},
   "outputs": [],
   "source": [
    "# 1.leetcode 76 最小覆盖子串:字符串s覆盖t\n",
    "def minWindow(s,t):\n",
    "    needs = {}\n",
    "    window = {}\n",
    "    for c in t:\n",
    "        needs[c] = needs.get(c,0) + 1\n",
    "\n",
    "    left = 0;right = 0;valid = 0;\n",
    "    start = 0;length = len(s) + 1\n",
    "    while right < len(s):\n",
    "        cur = s[right]\n",
    "        right += 1\n",
    "        if cur in needs:\n",
    "            window[cur] = window.get(cur,0) + 1\n",
    "            if window[cur] == needs[cur]:\n",
    "                valid += 1  \n",
    "        while valid == len(needs):\n",
    "            # 更新最小覆盖子串\n",
    "            if (right - left < length):\n",
    "                start = left\n",
    "                length = right - left\n",
    "                \n",
    "            prev = s[left]\n",
    "            left += 1\n",
    "            if prev in needs:\n",
    "                if window[prev] == needs[prev]:\n",
    "                    valid -= 1\n",
    "                window[prev] -= 1\n",
    "                \n",
    "    return \"\" if length == len(s) + 1 else s[start:start + length]      "
   ]
  },
  {
   "cell_type": "code",
   "execution_count": 13,
   "metadata": {},
   "outputs": [
    {
     "data": {
      "text/plain": [
       "'BANC'"
      ]
     },
     "execution_count": 13,
     "metadata": {},
     "output_type": "execute_result"
    }
   ],
   "source": [
    "s = \"EBBANCF\"\n",
    "t = \"ABC\"\n",
    "minWindow(s,t)"
   ]
  },
  {
   "cell_type": "code",
   "execution_count": 14,
   "metadata": {},
   "outputs": [],
   "source": [
    "# 2.leetcode 567 字符串排列 判断s2是否包含s1的排列 \n",
    "# 相当给你一个S和一个T，请问你S中是否存在一个子串，包含T中所有字符且不包含其他字符\n",
    "def checkIn(s1,s2):\n",
    "    window = {}\n",
    "    needs = {}\n",
    "    for c in s1:\n",
    "        needs[c] = needs.get(c,0) + 1\n",
    "    left = 0;right = 0;valid = 0\n",
    "    while right < len(s2):\n",
    "        cur = s2[right]\n",
    "        right += 1\n",
    "        if cur in needs:\n",
    "            window[cur] = window.get(cur,0) + 1\n",
    "            if window[cur] == needs[cur]:\n",
    "                valid += 1\n",
    "        while right - left >= len(s1):\n",
    "            if valid == len(needs):\n",
    "                return True\n",
    "            prev = s2[left]\n",
    "            left += 1\n",
    "            if prev in needs:\n",
    "                if window[prev] == needs[prev]:\n",
    "                    valid -= 1\n",
    "                window[prev] -= 1\n",
    "    return False"
   ]
  },
  {
   "cell_type": "code",
   "execution_count": 15,
   "metadata": {},
   "outputs": [
    {
     "data": {
      "text/plain": [
       "True"
      ]
     },
     "execution_count": 15,
     "metadata": {},
     "output_type": "execute_result"
    }
   ],
   "source": [
    "s1 = 'ab'\n",
    "s2 = 'eidbaooo'\n",
    "checkIn(s1,s2)"
   ]
  },
  {
   "cell_type": "code",
   "execution_count": 16,
   "metadata": {},
   "outputs": [
    {
     "data": {
      "text/plain": [
       "False"
      ]
     },
     "execution_count": 16,
     "metadata": {},
     "output_type": "execute_result"
    }
   ],
   "source": [
    "s1 = 'ab'\n",
    "s2 = 'eidboaoo'\n",
    "checkIn(s1,s2)"
   ]
  },
  {
   "cell_type": "code",
   "execution_count": 17,
   "metadata": {},
   "outputs": [],
   "source": [
    "# 3.leetcode 438 找所有字母异位词 \n",
    "# 输入一个串S，一个串T，找到S中所有T的排列，返回它们的起始索引。\n",
    "def findAnas(s,p):\n",
    "    window = {}\n",
    "    needs = {}\n",
    "    for c in p:\n",
    "        needs[c] = needs.get(c,0) + 1\n",
    "    left = 0;right = 0;valid = 0\n",
    "    res = []\n",
    "    while right < len(s):\n",
    "        curr = s[right]\n",
    "        right += 1\n",
    "        if curr in needs:\n",
    "            window[curr] = window.get(curr,0) + 1\n",
    "            if window[curr] == needs[curr]:\n",
    "                valid += 1\n",
    "        while right - left >= len(p):\n",
    "            if valid == len(needs):\n",
    "                res.append(left)\n",
    "            prev = s[left]\n",
    "            left += 1\n",
    "            if prev in needs:\n",
    "                if window[prev] == needs[prev]:\n",
    "                    valid -= 1\n",
    "                window[prev] -= 1\n",
    "    return res   "
   ]
  },
  {
   "cell_type": "code",
   "execution_count": 19,
   "metadata": {},
   "outputs": [
    {
     "data": {
      "text/plain": [
       "[0, 6]"
      ]
     },
     "execution_count": 19,
     "metadata": {},
     "output_type": "execute_result"
    }
   ],
   "source": [
    "s = \"cbaebabacd\"\n",
    "p = \"abc\"\n",
    "findAnas(s,p)"
   ]
  },
  {
   "cell_type": "code",
   "execution_count": 20,
   "metadata": {},
   "outputs": [],
   "source": [
    "# 4.leetcode 最长无重复子串\n",
    "def longUniq(s):\n",
    "    window = {}\n",
    "    res = 0;left = 0;right = 0\n",
    "    while right < len(s):\n",
    "        c = s[right]\n",
    "        right += 1\n",
    "        window[c] = window.get(c,0) + 1\n",
    "        while window[c] > 1:\n",
    "            prev = s[left]\n",
    "            left += 1\n",
    "            window[prev] -= 1\n",
    "        res = max(res,right - left)\n",
    "    return res"
   ]
  },
  {
   "cell_type": "code",
   "execution_count": 10,
   "metadata": {},
   "outputs": [
    {
     "data": {
      "text/plain": [
       "3"
      ]
     },
     "execution_count": 10,
     "metadata": {},
     "output_type": "execute_result"
    }
   ],
   "source": [
    "s = \"pwwkew\"\n",
    "longUniq(s)"
   ]
  }
 ],
 "metadata": {
  "kernelspec": {
   "display_name": "Python 3",
   "language": "python",
   "name": "python3"
  },
  "language_info": {
   "codemirror_mode": {
    "name": "ipython",
    "version": 3
   },
   "file_extension": ".py",
   "mimetype": "text/x-python",
   "name": "python",
   "nbconvert_exporter": "python",
   "pygments_lexer": "ipython3",
   "version": "3.6.10"
  }
 },
 "nbformat": 4,
 "nbformat_minor": 4
}
