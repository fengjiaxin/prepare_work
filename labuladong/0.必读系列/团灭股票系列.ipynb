{
 "cells": [
  {
   "cell_type": "code",
   "execution_count": 1,
   "metadata": {},
   "outputs": [],
   "source": [
    "# 股票，就是几天，最多可以交易k次的话，最多能获得多少价值\n",
    "# 动态规划，就是状态和选择\n",
    "# 状态可能的纬度，第i天，最多可以交易的次数k,目前持有股票状态0/1\n",
    "# 选择的话就是买 卖 不动\n",
    "# 不过不是可以随便选择的，只有没有股票的时候才能买，持有股票的时候才能卖\n",
    "# dp[i][k][0]:表示第i天还可以交易k次不持有股票可获得的最大利润\n",
    "# dp[i][k][1]:表示第i天还可以交易k次持有股票可获得的最大利润\n",
    "# 转移矩阵：\n",
    "# dp[i][k][0] = max(dp[i-1][k][1] + nums[i],dp[i-1][k][0])\n",
    "# (昨天持有，卖了，昨天没持有，今天不动)\n",
    "# dp[i][k][1] = max(dp[i-1][k-1][0] - nums[i],dp[i-1][k][1])\n",
    "# (昨天没持有，今天买， 昨天持有，今天不动)\n",
    "\n",
    "# 考虑了转移矩阵后，base case呢\n",
    "# dp[-1][k][0] = 0 最初不持有股票的利润是0\n",
    "# dp[-1][k][1] = float(\"-inf\") 最初不可能持有股票，所以给负无穷\n",
    "# dp[i][0][0] = 0 不让交易的话，持有股票利润为0\n",
    "# dp[i][0][1] = float(\"-inf\"),不允许交易的情况下，是不可能持有股票的"
   ]
  },
  {
   "cell_type": "code",
   "execution_count": 12,
   "metadata": {},
   "outputs": [],
   "source": [
    "def maxValue(nums,k):\n",
    "    length = len(nums)\n",
    "    dp = [[[0,0] for _ in range(k+1)] for _ in range(length + 1)]\n",
    "    # base case\n",
    "    for i in range(k+1):\n",
    "        dp[0][i][1] = float(\"-inf\")\n",
    "    for i in range(length + 1):\n",
    "        dp[i][0][1] = float(\"-inf\")\n",
    "    for i in range(1,length + 1):\n",
    "        v = nums[i-1]\n",
    "        for j in range(1,k+1):\n",
    "            dp[i][j][0] = max(dp[i-1][j][1] + v,dp[i-1][j][0])\n",
    "            dp[i][j][1] = max(dp[i-1][j-1][0] - v,dp[i-1][j][1])\n",
    "#     print(dp)\n",
    "    return dp[length][k][0]"
   ]
  },
  {
   "cell_type": "code",
   "execution_count": 11,
   "metadata": {},
   "outputs": [
    {
     "name": "stdout",
     "output_type": "stream",
     "text": [
      "[[[0, -inf], [0, -inf], [0, -inf]], [[0, -inf], [0, -3], [0, -3]], [[0, -inf], [0, -2], [0, -2]], [[0, -inf], [4, -2], [4, -2]], [[0, -inf], [4, -2], [4, -1]], [[0, -inf], [4, 0], [4, 4]], [[0, -inf], [4, 0], [7, 4]]]\n"
     ]
    },
    {
     "data": {
      "text/plain": [
       "7"
      ]
     },
     "execution_count": 11,
     "metadata": {},
     "output_type": "execute_result"
    }
   ],
   "source": [
    "nums = [3,2,6,5,0,3]\n",
    "k = 2\n",
    "maxValue(nums,k)"
   ]
  },
  {
   "cell_type": "code",
   "execution_count": null,
   "metadata": {},
   "outputs": [],
   "source": []
  }
 ],
 "metadata": {
  "kernelspec": {
   "display_name": "Python 3",
   "language": "python",
   "name": "python3"
  },
  "language_info": {
   "codemirror_mode": {
    "name": "ipython",
    "version": 3
   },
   "file_extension": ".py",
   "mimetype": "text/x-python",
   "name": "python",
   "nbconvert_exporter": "python",
   "pygments_lexer": "ipython3",
   "version": "3.6.10"
  }
 },
 "nbformat": 4,
 "nbformat_minor": 4
}
