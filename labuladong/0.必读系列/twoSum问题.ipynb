{
 "cells": [
  {
   "cell_type": "code",
   "execution_count": 1,
   "metadata": {},
   "outputs": [],
   "source": [
    "# 这个问题的最基本形式是这样：给你一个数组和一个整数target，\n",
    "# 可以保证数组中存在两个数的和为target，请你返回这两个数的索引。"
   ]
  },
  {
   "cell_type": "code",
   "execution_count": 2,
   "metadata": {},
   "outputs": [],
   "source": [
    "# 这种方法两种思路：1.对数组排序 2，使用hash算法"
   ]
  },
  {
   "cell_type": "code",
   "execution_count": 3,
   "metadata": {},
   "outputs": [],
   "source": [
    "# 使用hash算法吧,返回一个就行\n",
    "def towsum(arr,target):\n",
    "    index = {}\n",
    "    length = len(arr)\n",
    "    for i in range(length):\n",
    "        index[arr[i]] = i\n",
    "    for i in range(length):\n",
    "        left_num = target - arr[i]\n",
    "        if left_num in index and index[left_num] != i:\n",
    "            return [left_num,i]\n",
    "    return [-1,-1]"
   ]
  },
  {
   "cell_type": "code",
   "execution_count": 4,
   "metadata": {},
   "outputs": [],
   "source": [
    "# 如果给定是有序的，那么就是双指针进行判断\n",
    "# 如果假设输入一个数组 nums 和一个目标和 target，请你返回 nums 中能够凑出 target 的两个元素的值"
   ]
  },
  {
   "cell_type": "code",
   "execution_count": 5,
   "metadata": {},
   "outputs": [],
   "source": [
    "def twoSum2(arr,target):\n",
    "    arr.sort()\n",
    "    low = 0\n",
    "    high = len(arr) - 1\n",
    "    while low < high:\n",
    "        s = arr[low] + arr[high]\n",
    "        if s < target:\n",
    "            low += 1\n",
    "        elif s > target:\n",
    "            hight -= 1\n",
    "        else:\n",
    "            return [arr[low],arr[high]]\n",
    "    return [-1,-1]"
   ]
  },
  {
   "cell_type": "code",
   "execution_count": 6,
   "metadata": {},
   "outputs": [],
   "source": [
    "# nums 中可能有多对儿元素之和都等于 target，\n",
    "# 请你的算法返回所有和为 target 的元素对儿，其中不能出现重复。"
   ]
  },
  {
   "cell_type": "code",
   "execution_count": null,
   "metadata": {},
   "outputs": [],
   "source": [
    "# 在更新指针的时候，需要保证指针指向的值和原来不同\n",
    "def twoSum3(arr,target):\n",
    "    arr.sort()\n",
    "    low = 0\n",
    "    high = len(arr) - 1\n",
    "    res = []\n",
    "    while low < high:\n",
    "        left = arr[low]\n",
    "        right = arr[high]\n",
    "        s = left + right\n",
    "        if s < target:\n",
    "            while (low < high and arr[low] == left):\n",
    "                low += 1\n",
    "        elif s > target:\n",
    "            while (low < high and arr[high] == right):\n",
    "                high -= 1\n",
    "        else:\n",
    "            res.append((left,right))\n",
    "            while (low < high and arr[low] == left):\n",
    "                left += 1\n",
    "            while (low < high and arr[high] == right):\n",
    "                high -= 1\n",
    "    return res\n",
    "    "
   ]
  }
 ],
 "metadata": {
  "kernelspec": {
   "display_name": "Python 3",
   "language": "python",
   "name": "python3"
  },
  "language_info": {
   "codemirror_mode": {
    "name": "ipython",
    "version": 3
   },
   "file_extension": ".py",
   "mimetype": "text/x-python",
   "name": "python",
   "nbconvert_exporter": "python",
   "pygments_lexer": "ipython3",
   "version": "3.6.10"
  }
 },
 "nbformat": 4,
 "nbformat_minor": 4
}
