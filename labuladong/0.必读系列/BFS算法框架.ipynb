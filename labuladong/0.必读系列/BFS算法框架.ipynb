{
 "cells": [
  {
   "cell_type": "code",
   "execution_count": 2,
   "metadata": {},
   "outputs": [],
   "source": [
    "# bfs算法大多数都是和队列一起进行的\n",
    "def minDepth(root):\n",
    "    queue = []\n",
    "    depth = 1\n",
    "    queue.append(root)\n",
    "    while queue:\n",
    "        length = len(queue)\n",
    "        for _ in range(length):\n",
    "            curr = queue.pop(0)\n",
    "            if curr.left is None and curr.right is None:\n",
    "                return depth\n",
    "            if curr.left:\n",
    "                queue.append(curr.left)\n",
    "            if curr.right:\n",
    "                queue.append(curr.right)\n",
    "        depth += 1\n",
    "    return depth"
   ]
  },
  {
   "cell_type": "code",
   "execution_count": 5,
   "metadata": {},
   "outputs": [
    {
     "data": {
      "text/plain": [
       "'103'"
      ]
     },
     "execution_count": 5,
     "metadata": {},
     "output_type": "execute_result"
    }
   ],
   "source": [
    "s = \"123\"\n",
    "s[:1] + \"0\" + s[2:]"
   ]
  },
  {
   "cell_type": "code",
   "execution_count": 11,
   "metadata": {},
   "outputs": [],
   "source": [
    "# 拨动锁问题\n",
    "def lock(target,deadends):\n",
    "    # 从 “0000”开始拨动\n",
    "    visited = set()\n",
    "    queue = []\n",
    "    def plusOne(s,i):\n",
    "        num = int(s[i])\n",
    "        if num == 9:\n",
    "            next_num = 0\n",
    "        else:\n",
    "            next_num = num + 1\n",
    "        return s[:i] + str(next_num) + s[i+1:]\n",
    "    def minusOne(s,i):\n",
    "        num = int(s[i])\n",
    "        if num == 0:\n",
    "            next_num = 9\n",
    "        else:\n",
    "            next_num = num - 1\n",
    "        return s[:i] + str(next_num) + s[i+1:]\n",
    "    visited.add(\"0000\")\n",
    "    queue.append(\"0000\")\n",
    "    depth = 0\n",
    "    while queue:\n",
    "        size = len(queue)\n",
    "        for _ in range(size):\n",
    "            curr = queue.pop(0)\n",
    "            if curr == target:\n",
    "                return depth\n",
    "            if curr in deadends:\n",
    "                continue\n",
    "            for idx in range(4):\n",
    "                up = plusOne(curr,idx)\n",
    "                if up not in visited:\n",
    "                    queue.append(up)\n",
    "                    visited.add(up)\n",
    "                    \n",
    "                down = minusOne(curr,idx)\n",
    "                if down not in visited:\n",
    "                    queue.append(down)\n",
    "                    visited.add(down)\n",
    "        depth += 1  \n",
    "    return -1"
   ]
  },
  {
   "cell_type": "code",
   "execution_count": 12,
   "metadata": {},
   "outputs": [
    {
     "data": {
      "text/plain": [
       "1"
      ]
     },
     "execution_count": 12,
     "metadata": {},
     "output_type": "execute_result"
    }
   ],
   "source": [
    "deadends = [\"8888\"]\n",
    "target = \"0009\"\n",
    "lock(target,deadends)"
   ]
  }
 ],
 "metadata": {
  "kernelspec": {
   "display_name": "Python 3",
   "language": "python",
   "name": "python3"
  },
  "language_info": {
   "codemirror_mode": {
    "name": "ipython",
    "version": 3
   },
   "file_extension": ".py",
   "mimetype": "text/x-python",
   "name": "python",
   "nbconvert_exporter": "python",
   "pygments_lexer": "ipython3",
   "version": "3.7.4"
  }
 },
 "nbformat": 4,
 "nbformat_minor": 4
}
