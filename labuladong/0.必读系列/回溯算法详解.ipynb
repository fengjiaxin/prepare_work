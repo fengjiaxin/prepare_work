{
 "cells": [
  {
   "cell_type": "code",
   "execution_count": 1,
   "metadata": {},
   "outputs": [],
   "source": [
    "# 回溯算法就是一个决策树的遍历过程\n",
    "# 1.路径\n",
    "# 2.选择列表\n",
    "# 3.结束条件\n",
    "\n",
    "# 模板\n",
    "# res = []\n",
    "# def backtrack(路径，选择列表):\n",
    "#     if 满足结束条件:\n",
    "#         res.append(路径)\n",
    "#         return \n",
    "#     for 选择 in 选择列表:\n",
    "#         做选择\n",
    "#         backtrack(路径，选择列表)\n",
    "#         撤销选择"
   ]
  },
  {
   "cell_type": "code",
   "execution_count": 4,
   "metadata": {},
   "outputs": [],
   "source": [
    "# 1.全排列问题，不含重复字符\n",
    "def permute(nums):\n",
    "    length = len(nums)\n",
    "    res = []\n",
    "    def helper(path,left_nums):\n",
    "        if len(path) == length:\n",
    "            res.append(path.copy())\n",
    "            return\n",
    "        for i in range(len(left_nums)):\n",
    "            path.append(left_nums[i])\n",
    "            helper(path,left_nums[:i] + left_nums[i+1:])\n",
    "            path.pop(-1)\n",
    "    helper([],nums)\n",
    "    return res"
   ]
  },
  {
   "cell_type": "code",
   "execution_count": 5,
   "metadata": {},
   "outputs": [
    {
     "data": {
      "text/plain": [
       "[[1, 2, 3], [1, 3, 2], [2, 1, 3], [2, 3, 1], [3, 1, 2], [3, 2, 1]]"
      ]
     },
     "execution_count": 5,
     "metadata": {},
     "output_type": "execute_result"
    }
   ],
   "source": [
    "nums = [1,2,3]\n",
    "permute(nums)"
   ]
  },
  {
   "cell_type": "code",
   "execution_count": 18,
   "metadata": {},
   "outputs": [],
   "source": [
    "# 2.八皇后问题 （猿辅导面试挂了的题哎） 找到一个答案就行\n",
    "\n",
    "def queue(n):\n",
    "    board = [[\".\" for _ in range(n)] for _ in range(n)]\n",
    "    res = []\n",
    "    # 在board的第row行放置皇后\n",
    "    def backtrack(row):\n",
    "        if row == n:\n",
    "            res.append(board.copy())\n",
    "            return True\n",
    "        for idx in range(n):\n",
    "            if not isValid(board,row,idx):\n",
    "                continue\n",
    "            board[row][idx] = 'Q'\n",
    "            if backtrack(row + 1):\n",
    "                return True\n",
    "            board[row][idx] = '.'\n",
    "        return False\n",
    "    def isValid(board,row,col):\n",
    "        # 检查列\n",
    "        for i in range(row):\n",
    "            if board[i][col] == 'Q':\n",
    "                return False\n",
    "        # 检查斜对角\n",
    "        for i in range(row):\n",
    "            for j in range(len(board)):\n",
    "                if board[i][j] == 'Q':\n",
    "                    if i - row == j - col or i - row == col - j:\n",
    "                        return False\n",
    "        return True\n",
    "    backtrack(0)\n",
    "    return res      "
   ]
  },
  {
   "cell_type": "code",
   "execution_count": 19,
   "metadata": {},
   "outputs": [
    {
     "data": {
      "text/plain": [
       "[[['Q', '.', '.', '.', '.', '.', '.', '.'],\n",
       "  ['.', '.', '.', '.', 'Q', '.', '.', '.'],\n",
       "  ['.', '.', '.', '.', '.', '.', '.', 'Q'],\n",
       "  ['.', '.', '.', '.', '.', 'Q', '.', '.'],\n",
       "  ['.', '.', 'Q', '.', '.', '.', '.', '.'],\n",
       "  ['.', '.', '.', '.', '.', '.', 'Q', '.'],\n",
       "  ['.', 'Q', '.', '.', '.', '.', '.', '.'],\n",
       "  ['.', '.', '.', 'Q', '.', '.', '.', '.']]]"
      ]
     },
     "execution_count": 19,
     "metadata": {},
     "output_type": "execute_result"
    }
   ],
   "source": [
    "queue(8)"
   ]
  },
  {
   "cell_type": "code",
   "execution_count": null,
   "metadata": {},
   "outputs": [],
   "source": [
    "# 总结：回溯算法就是一个多叉树的遍历问题\n",
    "# def backtrack(...):\n",
    "#     for 选择 in 选择列表:\n",
    "#         做选择\n",
    "#         backtrack(...)\n",
    "#         撤销选择\n",
    "\n",
    "# 写backtrack函数时，需要维护走过的「路径」和当前可以做的「选择列表」，\n",
    "# 当触发「结束条件」时，将「路径」记入结果集。"
   ]
  }
 ],
 "metadata": {
  "kernelspec": {
   "display_name": "Python 3",
   "language": "python",
   "name": "python3"
  },
  "language_info": {
   "codemirror_mode": {
    "name": "ipython",
    "version": 3
   },
   "file_extension": ".py",
   "mimetype": "text/x-python",
   "name": "python",
   "nbconvert_exporter": "python",
   "pygments_lexer": "ipython3",
   "version": "3.7.4"
  }
 },
 "nbformat": 4,
 "nbformat_minor": 4
}
