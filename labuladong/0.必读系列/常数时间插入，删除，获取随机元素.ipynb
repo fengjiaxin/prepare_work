{
 "cells": [
  {
   "cell_type": "code",
   "execution_count": 2,
   "metadata": {},
   "outputs": [],
   "source": [
    "# 常数时间插入，删除，获取随机元素\n",
    "# 数组可以常数时间获取随机元素，但是如何常数时间插入，删除元素呢\n",
    "# 数组的话每次插入在tail,然后删除也是tail，就是常数时间\n",
    "# 那么一个想法就是每次插入都插入到tail,删除的时候找到这个元素的index,然后index和tail\n",
    "# 的元素交换，然后再删除tail,这不就是常数时间吗\n",
    "# 注意哈：当val不存在时，insert,也就是说这些元素是unique的\n",
    "\n",
    "class RandomSet:\n",
    "    def __init__(self):\n",
    "        self.data = []\n",
    "        # 存储val2index\n",
    "        self.val2idx = {}\n",
    "    def insert(self,num):\n",
    "        if num in self.val2idx:\n",
    "            return False\n",
    "        self.val2idx[num] = len(self.data)\n",
    "        self.data.append(num)\n",
    "        return True\n",
    "    \n",
    "    def remove(self,num):\n",
    "        if num not in self.val2idx:\n",
    "            return False\n",
    "        cur_idx = self.val2idx[num]\n",
    "        tail_num = self.data[-1]\n",
    "        self.val2idx[tail_num] = cur_idx\n",
    "        self.data[cur_idx] = tail_num\n",
    "        self.data.pop(-1)\n",
    "        del self.val2idx[num]\n",
    "        return True\n",
    "    \n",
    "    def getRandom(self):\n",
    "        return self.data[random.random()%len(self.data)]"
   ]
  }
 ],
 "metadata": {
  "kernelspec": {
   "display_name": "Python 3",
   "language": "python",
   "name": "python3"
  },
  "language_info": {
   "codemirror_mode": {
    "name": "ipython",
    "version": 3
   },
   "file_extension": ".py",
   "mimetype": "text/x-python",
   "name": "python",
   "nbconvert_exporter": "python",
   "pygments_lexer": "ipython3",
   "version": "3.6.10"
  }
 },
 "nbformat": 4,
 "nbformat_minor": 4
}
