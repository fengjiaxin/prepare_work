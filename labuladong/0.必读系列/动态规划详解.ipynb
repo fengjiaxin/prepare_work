{
 "cells": [
  {
   "cell_type": "code",
   "execution_count": 3,
   "metadata": {},
   "outputs": [],
   "source": [
    "# 动态规划，从底向上\n",
    "# 抽硬币问题\n",
    "def coinChange(coins,amount):\n",
    "    dp = [amount + 1 for _ in range(amount + 1)]\n",
    "    # dp[i] = x 代表凑够i的金额最少需要x个硬币\n",
    "    dp[0]= 0\n",
    "    for i in range(1,amount+1):\n",
    "        for coin in coins:\n",
    "            if i - coin < 0:\n",
    "                continue\n",
    "            dp[i] = min(dp[i],1 + dp[i-coin])\n",
    "    return dp[amount] if dp[amount] != amount + 1 else -1"
   ]
  },
  {
   "cell_type": "code",
   "execution_count": 4,
   "metadata": {},
   "outputs": [
    {
     "data": {
      "text/plain": [
       "3"
      ]
     },
     "execution_count": 4,
     "metadata": {},
     "output_type": "execute_result"
    }
   ],
   "source": [
    "coins = [1,2,5]\n",
    "amount = 11\n",
    "coinChange(coins,amount)"
   ]
  }
 ],
 "metadata": {
  "kernelspec": {
   "display_name": "Python 3",
   "language": "python",
   "name": "python3"
  },
  "language_info": {
   "codemirror_mode": {
    "name": "ipython",
    "version": 3
   },
   "file_extension": ".py",
   "mimetype": "text/x-python",
   "name": "python",
   "nbconvert_exporter": "python",
   "pygments_lexer": "ipython3",
   "version": "3.7.4"
  }
 },
 "nbformat": 4,
 "nbformat_minor": 4
}
