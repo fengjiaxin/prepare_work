{
 "cells": [
  {
   "cell_type": "code",
   "execution_count": 1,
   "metadata": {},
   "outputs": [],
   "source": [
    "# 最坏情况下，最少需要多少次可以找出刚好让鸡蛋不碎的楼层\n",
    "# 先感觉一下，假设鸡蛋在第i层没有碎\n",
    "# 那么测试1 ～n层 和 测试 i+1 ~ n-i层是一样的\n",
    "# 相当于第i层和第0层是等价的\n",
    "# 这就是重叠子问题了\n",
    "# 令dp[k][n]表示有k个鸡蛋测试n个楼层\n",
    "# base case dp[1][n] = n\n",
    "# dp[k][0] = 0\n",
    "# 转移矩阵\n",
    "# 如果第i层没碎，那么需要从dp[k][i-1]层获取最少值\n",
    "# 如果第i层碎了，需要从dp[k-1][n-i]层获取最少值\n",
    "# 因为我们要求的是最坏情况下扔鸡蛋的次数，\n",
    "# 所以鸡蛋在第i层楼碎没碎，取决于那种情况的结果更大"
   ]
  },
  {
   "cell_type": "code",
   "execution_count": 11,
   "metadata": {},
   "outputs": [],
   "source": [
    "def DropEgg(k,n):\n",
    "    mem = {}\n",
    "    def helper(k,n):\n",
    "        if k == 1:\n",
    "            return n\n",
    "        if n == 0:\n",
    "            return 0\n",
    "        if (k,n) in mem:\n",
    "            return mem[(k,n)]\n",
    "        res = float(\"inf\")\n",
    "        for i in range(1,n+1):\n",
    "            res = min(res,\n",
    "                      max(\n",
    "                          helper(k,n-i),\n",
    "                          helper(k-1,i-1)\n",
    "                      ) + 1\n",
    "                     )\n",
    "        mem[(k,n)] = res\n",
    "        return res\n",
    "    return helper(k,n)"
   ]
  },
  {
   "cell_type": "code",
   "execution_count": 14,
   "metadata": {},
   "outputs": [
    {
     "data": {
      "text/plain": [
       "14"
      ]
     },
     "execution_count": 14,
     "metadata": {},
     "output_type": "execute_result"
    }
   ],
   "source": [
    "DropEgg(2,100)"
   ]
  }
 ],
 "metadata": {
  "kernelspec": {
   "display_name": "Python 3",
   "language": "python",
   "name": "python3"
  },
  "language_info": {
   "codemirror_mode": {
    "name": "ipython",
    "version": 3
   },
   "file_extension": ".py",
   "mimetype": "text/x-python",
   "name": "python",
   "nbconvert_exporter": "python",
   "pygments_lexer": "ipython3",
   "version": "3.6.10"
  }
 },
 "nbformat": 4,
 "nbformat_minor": 4
}
