{
 "cells": [
  {
   "cell_type": "code",
   "execution_count": 1,
   "metadata": {},
   "outputs": [],
   "source": [
    "# 博弈问题，给一堆石子，返回每次只能选左边或者右边\n",
    "# 最后返回先手和后手得分之差\n",
    "# 假设两个人都特别聪明\n",
    "# 这又一个状态转移，假设石子为[i...j]，假设先手选择了左边，那么对于后手来说，相当于是[i_1...j]的先手\n",
    "# 那么dp[i][j]需要记录一个先手的得分和后手的得分\n",
    "# base case :\n",
    "# dp[i][i].first = nums[i]\n",
    "# dp[i][i].second = 0\n",
    "# 状态转移\n",
    "# 对于dp[i][j]来说\n",
    "# 如果选择左边，dp[i][j].first = nums[i] + dp[i+1][j].senond\n",
    "# 如果选择右边 dp[i][j].first = nums[j] + dp[i][j-1].second\n",
    "# 具体选择左边还是右边看哪个值大\n",
    "# 如果选择了左边\n",
    "# dp[i][j].second = dp[i+1][j].first\n",
    "# 选择了右边的话\n",
    "# dp[i][j].second = dp[i][j-1].first\n",
    "\n",
    "# 注意dp[i][j] 和dp[i+1][j],dp[i][j-1]相关\n",
    "# 画图可知，得斜着遍历"
   ]
  },
  {
   "cell_type": "code",
   "execution_count": 4,
   "metadata": {},
   "outputs": [],
   "source": [
    "def diffScore(nums):\n",
    "    length = len(nums)\n",
    "    # 构建一个三维矩阵\n",
    "    dp = [[[0,0] for i in range(length)] for _ in range(length)]\n",
    "    # base case\n",
    "    for i in range(length):\n",
    "        dp[i][i][0] = nums[i]\n",
    "    # 斜着遍历\n",
    "    # l代表这一斜的格子j比i大多少\n",
    "    for l in range(1,length):\n",
    "        for i in range(0,length - l):\n",
    "            j = i + l\n",
    "            # 状态转移\n",
    "            # 选择左边的最高得分\n",
    "            left = nums[i] + dp[i+1][j][1]\n",
    "            # 选择右边\n",
    "            right = nums[j] + dp[i][j-1][1]\n",
    "            if left > right:\n",
    "                dp[i][j][0] = left\n",
    "                dp[i][j][1] = dp[i+1][j][0]\n",
    "            else:\n",
    "                dp[i][j][0] = right\n",
    "                dp[i][j][1] = dp[i][j-1][0]\n",
    "    return dp[0][length-1][0] - dp[0][length-1][1]"
   ]
  },
  {
   "cell_type": "code",
   "execution_count": 5,
   "metadata": {},
   "outputs": [
    {
     "data": {
      "text/plain": [
       "-96"
      ]
     },
     "execution_count": 5,
     "metadata": {},
     "output_type": "execute_result"
    }
   ],
   "source": [
    "nums = [1,100,3]\n",
    "diffScore(nums)"
   ]
  }
 ],
 "metadata": {
  "kernelspec": {
   "display_name": "Python 3",
   "language": "python",
   "name": "python3"
  },
  "language_info": {
   "codemirror_mode": {
    "name": "ipython",
    "version": 3
   },
   "file_extension": ".py",
   "mimetype": "text/x-python",
   "name": "python",
   "nbconvert_exporter": "python",
   "pygments_lexer": "ipython3",
   "version": "3.6.10"
  }
 },
 "nbformat": 4,
 "nbformat_minor": 4
}
