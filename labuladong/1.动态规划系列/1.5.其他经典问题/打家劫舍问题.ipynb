{
 "cells": [
  {
   "cell_type": "code",
   "execution_count": 1,
   "metadata": {},
   "outputs": [],
   "source": [
    "# 打家劫舍为题就是不能偷相邻的两家能够获得的最大值\n",
    "# 假设dp[i]表示如果只抢nums[i:]能够获取最大值\n",
    "# 那么base case 是 dp[n-1] = nums[n-1]\n",
    "def robber(nums):\n",
    "    length = len(nums)\n",
    "    res = [None for _ in range(length)]\n",
    "    res[length - 1] = nums[length - 1]\n",
    "    for i in range(length -2,-1,-1):\n",
    "        if i == length -2:\n",
    "            res[i] = max(nums[i],res[i+1])\n",
    "        else:\n",
    "            res[i] = max(nums[i] + res[i+2],res[i+1])\n",
    "    return res[0]"
   ]
  },
  {
   "cell_type": "code",
   "execution_count": 2,
   "metadata": {},
   "outputs": [
    {
     "data": {
      "text/plain": [
       "4"
      ]
     },
     "execution_count": 2,
     "metadata": {},
     "output_type": "execute_result"
    }
   ],
   "source": [
    "nums = [1,2,3,1]\n",
    "robber(nums)"
   ]
  },
  {
   "cell_type": "code",
   "execution_count": 3,
   "metadata": {},
   "outputs": [],
   "source": [
    "# 如果是环形的话，首尾不能同时抢\n",
    "# 那么有3种情况\n",
    "# 1.头尾都不抢\n",
    "# 2.不抢头部\n",
    "# 3.不抢尾部\n",
    "# 一般来想，2，3应该会比1多，最差2如果没抢尾部就退化成1了，当然第二中情况可以选择是否抢尾部\n",
    "# 那问题就简单了，就是比较抢nums[0:n-1]和抢nums[1:n]哪个最大\n",
    "def circlue(nums):\n",
    "    # 如果只有一家\n",
    "    length = len(nums)\n",
    "    if length == 1:\n",
    "        return nums[0]\n",
    "    return max(robber(nums[1:]),robber(nums[0:length - 1]))"
   ]
  },
  {
   "cell_type": "code",
   "execution_count": 4,
   "metadata": {},
   "outputs": [
    {
     "data": {
      "text/plain": [
       "3"
      ]
     },
     "execution_count": 4,
     "metadata": {},
     "output_type": "execute_result"
    }
   ],
   "source": [
    "nums = [2,3,2]\n",
    "circlue(nums)"
   ]
  },
  {
   "cell_type": "code",
   "execution_count": 5,
   "metadata": {},
   "outputs": [],
   "source": [
    "# 第三种情况\n",
    "# 二叉树哈哈，不能抢相邻节点\n",
    "# 不如存储两种情况，抢还是不抢\n",
    "def treeRob(root):\n",
    "    r,n = helper(root)\n",
    "    return max(r,n)\n",
    "\n",
    "def helper(root):\n",
    "    if root is None:\n",
    "        return (0,0)\n",
    "    if root.left is None and root.right is None:\n",
    "        return (root.val,0)\n",
    "    # 那么对于root节点，抢还是不抢\n",
    "    left_1,left_2 = helper(root.left)\n",
    "    right_1,right_2 = helper(root.right)\n",
    "    # 如果抢\n",
    "    rob_root = root.val + left_2 + right_2\n",
    "    # 如果不抢\n",
    "    not_rob_root = left_1 + right_2\n",
    "    return rob_root,not_rob_root\n",
    "    \n",
    "    "
   ]
  }
 ],
 "metadata": {
  "kernelspec": {
   "display_name": "Python 3",
   "language": "python",
   "name": "python3"
  },
  "language_info": {
   "codemirror_mode": {
    "name": "ipython",
    "version": 3
   },
   "file_extension": ".py",
   "mimetype": "text/x-python",
   "name": "python",
   "nbconvert_exporter": "python",
   "pygments_lexer": "ipython3",
   "version": "3.6.10"
  }
 },
 "nbformat": 4,
 "nbformat_minor": 4
}
