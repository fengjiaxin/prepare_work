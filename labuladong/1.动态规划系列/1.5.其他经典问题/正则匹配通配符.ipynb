{
 "cells": [
  {
   "cell_type": "code",
   "execution_count": 1,
   "metadata": {},
   "outputs": [],
   "source": [
    "# 正则匹配，有字符s和模式p\n",
    "# 直观理解，应该是两个指针i,j遍历\n",
    "# 先不考虑*，判断是否匹配"
   ]
  },
  {
   "cell_type": "code",
   "execution_count": 2,
   "metadata": {},
   "outputs": [],
   "source": [
    "def isMatch1(s,p):\n",
    "    m = len(s)\n",
    "    n = len(p)\n",
    "    i = 0\n",
    "    j = 0\n",
    "    while i < m and j < n:\n",
    "        if s[i] == p[j] or p[j] == \".\":\n",
    "            i += 1\n",
    "            j += 1\n",
    "        else:\n",
    "            return False\n",
    "    return i == j"
   ]
  },
  {
   "cell_type": "code",
   "execution_count": 4,
   "metadata": {},
   "outputs": [],
   "source": [
    "# 现在考虑*，刚刚的思路是考虑s的第i个字符，p的第j个字符，需要考虑如果j+1是*的可能\n",
    "# if s[i] 匹配 p[j]\n",
    "#   如果p[j+1] = \"*\"的话，那么*有两种选择，匹配0次或者匹配多次\n",
    "#   否则  i++ j++\n",
    "# if s[i] 不匹配 p[j]\n",
    "#   如果p[j] == \"*\":\n",
    "#   那么只能匹配0次\n",
    "#   否则：不匹配了\n",
    "#  dp[i][j] 表示s[i:]是否可以匹配上p[j:]\n",
    "# 先不考虑基本情况\n",
    "def canMatch(s,p):\n",
    "    mem = {}\n",
    "    m = len(s)\n",
    "    n = len(p)\n",
    "    def dp(i,j):\n",
    "        if (i,j) in mem:\n",
    "            return mem[(i,j)]\n",
    "        if s[i] == p[j] or p[j] == \".\":\n",
    "            if j < n -1 and p[j] == \"*\":\n",
    "                return dp(i,j+2) or dp[i+1,j]\n",
    "            else:\n",
    "                return dp(i+1,j+1)\n",
    "        else:\n",
    "            if j < n -1 and p[j] == \"*\":\n",
    "                return dp(i,j+2)\n",
    "            return False  "
   ]
  },
  {
   "cell_type": "code",
   "execution_count": 5,
   "metadata": {},
   "outputs": [],
   "source": [
    "# 现在该考虑边界条件了\n",
    "# 如果j== n,那么判断i == m就行了\n",
    "# 单数如果i == m，那么不能简单的通过j == n判断\n",
    "# 如果p[j:]可以匹配空的字符串，那么应该返回True,那么有没有这种可能性\n",
    "# 有 ，如果是“x*y*z*”就行了，好了事情到这里终于能写出来了"
   ]
  },
  {
   "cell_type": "code",
   "execution_count": 8,
   "metadata": {},
   "outputs": [],
   "source": [
    "def canMatch(s,p):\n",
    "    memo = {}\n",
    "    m = len(s)\n",
    "    n = len(p)\n",
    "    def dp(i,j):\n",
    "        # base case\n",
    "        if (i,j) in memo:\n",
    "            return memo[(i,j)]\n",
    "        if j == n:\n",
    "            return i == m\n",
    "        if i == m:\n",
    "            # 还剩几个元素\n",
    "            if (n - j + 1)%2 == 1:\n",
    "                return False\n",
    "            for i in range(j+1,m,2):\n",
    "                if nums[i] != \"*\":\n",
    "                    return False\n",
    "            return True\n",
    "        res = False\n",
    "        # 正常情况\n",
    "        if s[i] == p[j] or p[j] == \".\":\n",
    "            if j < n - 1 and p[j+1] == \"*\":\n",
    "                res = dp(i,j+2) or dp(i+1,j)\n",
    "            else:\n",
    "                res = dp(i+1,j+1)\n",
    "        else:\n",
    "            if j < n - 1 and p[j+1] == \"*\":\n",
    "                res = dp(i,j+2)\n",
    "        memo[(i,j)] = res\n",
    "        return res\n",
    "    return dp(0,0)"
   ]
  },
  {
   "cell_type": "code",
   "execution_count": 9,
   "metadata": {},
   "outputs": [
    {
     "data": {
      "text/plain": [
       "True"
      ]
     },
     "execution_count": 9,
     "metadata": {},
     "output_type": "execute_result"
    }
   ],
   "source": [
    "s = \"zaaab\"\n",
    "p = \".a*b\"\n",
    "canMatch(s,p)"
   ]
  }
 ],
 "metadata": {
  "kernelspec": {
   "display_name": "Python 3",
   "language": "python",
   "name": "python3"
  },
  "language_info": {
   "codemirror_mode": {
    "name": "ipython",
    "version": 3
   },
   "file_extension": ".py",
   "mimetype": "text/x-python",
   "name": "python",
   "nbconvert_exporter": "python",
   "pygments_lexer": "ipython3",
   "version": "3.6.10"
  }
 },
 "nbformat": 4,
 "nbformat_minor": 4
}
