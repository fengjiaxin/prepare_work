{
 "cells": [
  {
   "cell_type": "code",
   "execution_count": 18,
   "metadata": {},
   "outputs": [],
   "source": [
    "# 射爆一个气球后，得分为nums[left] + nums[i] * nums[right]\n",
    "# left,right为射爆i后左右剩下的气球\n",
    "# 思考问题，假设dp[i][j]表示的是射(i,j)区间的所有气球得分最高数\n",
    "# 那么我们最终要求的就是dp[-1][length]\n",
    "# 如何求dp[i][j]\n",
    "# 假设最后射k,那么dp[i][j] = dp[i][k] + dp[k][j] + num[i] * num[k] * num[l]\n",
    "# dp[i][j]和左边和下边的相关，那么遍历的时候得先把左边的和下边的计算好\n",
    "def maxScore(nums):\n",
    "    nums.insert(0,1)\n",
    "    nums.append(1)\n",
    "    length = len(nums)\n",
    "    print(nums)\n",
    "    dp = [[0 for _ in range(length)] for _ in range(length)]\n",
    "    # 最终求的是dp[0][length-1]\n",
    "    for i in range(length-2,-1,-1):\n",
    "        for j in range(i+1,length):\n",
    "            for k in range(i+1,j):\n",
    "                dp[i][j] = max(dp[i][j],dp[i][k] + dp[k][j] + nums[i] * nums[k] * nums[j])\n",
    "    print(dp)\n",
    "    return dp[0][-1]"
   ]
  },
  {
   "cell_type": "code",
   "execution_count": 19,
   "metadata": {},
   "outputs": [
    {
     "name": "stdout",
     "output_type": "stream",
     "text": [
      "[1, 3, 1, 5, 8, 1]\n",
      "[[0, 0, 3, 30, 159, 167], [0, 0, 0, 15, 135, 159], [0, 0, 0, 0, 40, 48], [0, 0, 0, 0, 0, 40], [0, 0, 0, 0, 0, 0], [0, 0, 0, 0, 0, 0]]\n"
     ]
    },
    {
     "data": {
      "text/plain": [
       "167"
      ]
     },
     "execution_count": 19,
     "metadata": {},
     "output_type": "execute_result"
    }
   ],
   "source": [
    "nums = [3,1,5,8]\n",
    "maxScore(nums)"
   ]
  },
  {
   "cell_type": "code",
   "execution_count": null,
   "metadata": {},
   "outputs": [],
   "source": []
  }
 ],
 "metadata": {
  "kernelspec": {
   "display_name": "Python 3",
   "language": "python",
   "name": "python3"
  },
  "language_info": {
   "codemirror_mode": {
    "name": "ipython",
    "version": 3
   },
   "file_extension": ".py",
   "mimetype": "text/x-python",
   "name": "python",
   "nbconvert_exporter": "python",
   "pygments_lexer": "ipython3",
   "version": "3.6.10"
  }
 },
 "nbformat": 4,
 "nbformat_minor": 4
}
