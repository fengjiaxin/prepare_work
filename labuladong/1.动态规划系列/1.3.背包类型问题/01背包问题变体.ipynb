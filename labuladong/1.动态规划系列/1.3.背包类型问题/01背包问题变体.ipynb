{
 "cells": [
  {
   "cell_type": "code",
   "execution_count": 1,
   "metadata": {},
   "outputs": [],
   "source": [
    "# 分割等和子集\n",
    "# // 输入一个集合，返回是否能够分割成和相等的两个子集\n",
    "# bool canPartition(vector<int>& nums);"
   ]
  },
  {
   "cell_type": "code",
   "execution_count": 4,
   "metadata": {},
   "outputs": [],
   "source": [
    "# 和01背包有啥关系，将sum//2,判断能否用n个物品构建填充满\n",
    "# dp[i][x] = true:表示前i个物品可以装满x\n",
    "# base case:\n",
    "# 1.dp[x][0] = true\n",
    "# 2.dp[0][1...] = false\n",
    "def canPartition(nums):\n",
    "    sum_nums = sum(nums)\n",
    "    if sum_nums % 2 == 1:\n",
    "        return False\n",
    "    target_sum = sum_nums//2\n",
    "    n = len(nums)\n",
    "    dp = [[False for _ in range(target_sum+1)] for _ in range(n + 1)]\n",
    "    for i in range(n+1):\n",
    "        dp[i][0] = True\n",
    "    for i in range(1,n+1):\n",
    "        w = nums[i-1]\n",
    "        for j in range(1,target_sum + 1):\n",
    "            if j < w:\n",
    "                dp[i][j] = dp[i-1][j]\n",
    "            else:\n",
    "                dp[i][j] = dp[i-1][j] | dp[i-1][j-w]\n",
    "    return dp[n][target_sum]"
   ]
  },
  {
   "cell_type": "code",
   "execution_count": 5,
   "metadata": {},
   "outputs": [
    {
     "data": {
      "text/plain": [
       "True"
      ]
     },
     "execution_count": 5,
     "metadata": {},
     "output_type": "execute_result"
    }
   ],
   "source": [
    "nums = [1,5,11,5]\n",
    "canPartition(nums)"
   ]
  }
 ],
 "metadata": {
  "kernelspec": {
   "display_name": "Python 3",
   "language": "python",
   "name": "python3"
  },
  "language_info": {
   "codemirror_mode": {
    "name": "ipython",
    "version": 3
   },
   "file_extension": ".py",
   "mimetype": "text/x-python",
   "name": "python",
   "nbconvert_exporter": "python",
   "pygments_lexer": "ipython3",
   "version": "3.6.10"
  }
 },
 "nbformat": 4,
 "nbformat_minor": 4
}
