{
 "cells": [
  {
   "cell_type": "code",
   "execution_count": 1,
   "metadata": {},
   "outputs": [],
   "source": [
    "# 给你一个可装载重量为W的背包和N个物品，每个物品有重量和价值两个属性。\n",
    "# 其中第i个物品的重量为wt[i]，价值为val[i]，\n",
    "# 现在让你用这个背包装物品，最多能装的价值是多少？"
   ]
  },
  {
   "cell_type": "code",
   "execution_count": 2,
   "metadata": {},
   "outputs": [],
   "source": [
    "# 就是动态规划，有什么难的\n",
    "# dp[i][w]:表示前i个物品，重量为w的情况下最大价值为dp[i][w]\n",
    "# 最终求dp[N][W]\n",
    "# base case\n",
    "# dp[0][...] = 0:没有物品的话最大价值是0\n",
    "# dp[...][0] = 0:重量为0的话最大价值是0\n",
    "# 第i个物品有两种选择(放，不放) 并且放的前提是重量容得下\n",
    "def maxVal(w,n,wt,val):\n",
    "    dp = [[0 for _ in range(w+1)] for _ in range(n+1)]\n",
    "    for i in range(1,n+1):\n",
    "        cur_v = val[i-1]\n",
    "        cur_w = wt[i-1]\n",
    "        for j in range(1,w+1):\n",
    "            # 重量不够，只能不放\n",
    "            if j < cur_w:\n",
    "                dp[i][j] = dp[i-1][j]\n",
    "            else:\n",
    "                dp[i][j] = max(dp[i-1][j],dp[i-1][j-cur_w] + cur_v)\n",
    "    return dp[n][w]"
   ]
  },
  {
   "cell_type": "code",
   "execution_count": 3,
   "metadata": {},
   "outputs": [
    {
     "data": {
      "text/plain": [
       "6"
      ]
     },
     "execution_count": 3,
     "metadata": {},
     "output_type": "execute_result"
    }
   ],
   "source": [
    "n = 3\n",
    "w = 4\n",
    "wt = [2, 1, 3]\n",
    "val = [4, 2, 3]\n",
    "maxVal(w,n,wt,val)"
   ]
  }
 ],
 "metadata": {
  "kernelspec": {
   "display_name": "Python 3",
   "language": "python",
   "name": "python3"
  },
  "language_info": {
   "codemirror_mode": {
    "name": "ipython",
    "version": 3
   },
   "file_extension": ".py",
   "mimetype": "text/x-python",
   "name": "python",
   "nbconvert_exporter": "python",
   "pygments_lexer": "ipython3",
   "version": "3.6.10"
  }
 },
 "nbformat": 4,
 "nbformat_minor": 4
}
