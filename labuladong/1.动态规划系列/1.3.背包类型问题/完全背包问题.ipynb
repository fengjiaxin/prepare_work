{
 "cells": [
  {
   "cell_type": "code",
   "execution_count": 8,
   "metadata": {},
   "outputs": [],
   "source": [
    "# 有一个背包，最大容量为amount，有一系列物品coins，每个物品的重量为coins[i]，\n",
    "# 每个物品的数量无限。请问有多少种方法，能够把背包恰好装满？\n",
    "# dp[n][w] 表示使用前n个硬币，凑够w有dp[n][w]种方法\n",
    "# base case \n",
    "# dp[0][...] = 0\n",
    "# dp[...][0] = 1 不放\n",
    "def change(amount, coins):\n",
    "    n = len(coins)\n",
    "    dp = [[0 for _ in range(amount+1)] for _ in range(n+1)]\n",
    "    for i in range(n+1):\n",
    "        dp[i][0] = 1\n",
    "    for i in range(1,n+1):\n",
    "        coin = coins[i-1]\n",
    "        for j in range(1,amount+1):\n",
    "            if j < coin:\n",
    "                dp[i][j] = dp[i-1][j]\n",
    "            else:\n",
    "                dp[i][j] = dp[i-1][j] + dp[i][j-coin]\n",
    "    return dp[n][amount]"
   ]
  },
  {
   "cell_type": "code",
   "execution_count": 9,
   "metadata": {},
   "outputs": [
    {
     "data": {
      "text/plain": [
       "4"
      ]
     },
     "execution_count": 9,
     "metadata": {},
     "output_type": "execute_result"
    }
   ],
   "source": [
    "amount = 5\n",
    "coins = [1,2,5]\n",
    "change(amount, coins)"
   ]
  },
  {
   "cell_type": "code",
   "execution_count": null,
   "metadata": {},
   "outputs": [],
   "source": []
  }
 ],
 "metadata": {
  "kernelspec": {
   "display_name": "Python 3",
   "language": "python",
   "name": "python3"
  },
  "language_info": {
   "codemirror_mode": {
    "name": "ipython",
    "version": 3
   },
   "file_extension": ".py",
   "mimetype": "text/x-python",
   "name": "python",
   "nbconvert_exporter": "python",
   "pygments_lexer": "ipython3",
   "version": "3.6.10"
  }
 },
 "nbformat": 4,
 "nbformat_minor": 4
}
