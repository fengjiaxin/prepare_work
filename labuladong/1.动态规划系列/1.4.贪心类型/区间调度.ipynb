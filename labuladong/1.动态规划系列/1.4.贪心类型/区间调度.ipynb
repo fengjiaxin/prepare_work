{
 "cells": [
  {
   "cell_type": "code",
   "execution_count": 1,
   "metadata": {},
   "outputs": [],
   "source": [
    "# 区间调度，一涉及到区间问题，注意排序，然后分析画图\n",
    "# 最多参加多少个活动\n",
    "# 对每个活动的结束时间按照从低到高排序，然后将冲突的活动删除\n",
    "# 最后保留的区间就是最多参加的活动数\n",
    "def maxActivity(inters):\n",
    "    inters.sort(key = lambda x:x[1])\n",
    "    res = 1\n",
    "    prev_end = inters[0][1]\n",
    "    length = len(inters)\n",
    "    for i in range(1,length):\n",
    "        cur_start,cur_end = inters[i][0],inters[i][1]\n",
    "        if cur_start < prev_end:\n",
    "            continue\n",
    "        else:\n",
    "            res += 1\n",
    "            prev_end = cur_end\n",
    "    return res"
   ]
  },
  {
   "cell_type": "code",
   "execution_count": 2,
   "metadata": {},
   "outputs": [
    {
     "data": {
      "text/plain": [
       "2"
      ]
     },
     "execution_count": 2,
     "metadata": {},
     "output_type": "execute_result"
    }
   ],
   "source": [
    "inters = [[1,3],[2,4],[3,6]]\n",
    "maxActivity(inters)"
   ]
  }
 ],
 "metadata": {
  "kernelspec": {
   "display_name": "Python 3",
   "language": "python",
   "name": "python3"
  },
  "language_info": {
   "codemirror_mode": {
    "name": "ipython",
    "version": 3
   },
   "file_extension": ".py",
   "mimetype": "text/x-python",
   "name": "python",
   "nbconvert_exporter": "python",
   "pygments_lexer": "ipython3",
   "version": "3.6.10"
  }
 },
 "nbformat": 4,
 "nbformat_minor": 4
}
