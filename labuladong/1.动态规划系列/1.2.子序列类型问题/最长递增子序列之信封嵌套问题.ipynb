{
 "cells": [
  {
   "cell_type": "code",
   "execution_count": 1,
   "metadata": {},
   "outputs": [],
   "source": [
    "# 信封嵌套问题，就是得保证大的覆盖住小的\n",
    "# 先对宽度w进行升序排序，如果遇到w相同的情况，则按照高度h降序排序。\n",
    "# 之后把所有的h作为一个数组，在这个数组上计算 LIS 的长度就是答案。"
   ]
  },
  {
   "cell_type": "code",
   "execution_count": 8,
   "metadata": {},
   "outputs": [],
   "source": [
    "def maxLengths(nums):\n",
    "    length = len(nums)\n",
    "    top = [None for _ in range(length)]\n",
    "    piles = 0\n",
    "    for i in range(length):\n",
    "        left = 0\n",
    "        right = piles\n",
    "        poker = nums[i]\n",
    "        while left < right:\n",
    "            mid = left + (right - left)//2\n",
    "            if top[mid] < poker:\n",
    "                left = mid + 1\n",
    "            else:\n",
    "                right = mid\n",
    "        if left == piles:\n",
    "            piles += 1\n",
    "        top[left] = poker\n",
    "    return piles"
   ]
  },
  {
   "cell_type": "code",
   "execution_count": 11,
   "metadata": {},
   "outputs": [],
   "source": [
    "def maxEnvs(envs):\n",
    "    # 首先对w按照升序排列，如果w相等，对h进行降序排列\n",
    "    # 为什么对w相等的h降序排列。如果不是降序的话，那么同一个w可能有多个升序的h\n",
    "    # 但是一个w不能覆盖\n",
    "    envs.sort(key = lambda x:(x[0],-x[1]))\n",
    "    nums = [x[1] for x in envs]\n",
    "    print(nums)\n",
    "    return maxLengths(nums)"
   ]
  },
  {
   "cell_type": "code",
   "execution_count": 12,
   "metadata": {},
   "outputs": [
    {
     "name": "stdout",
     "output_type": "stream",
     "text": [
      "[3, 4, 7, 4]\n"
     ]
    },
    {
     "data": {
      "text/plain": [
       "3"
      ]
     },
     "execution_count": 12,
     "metadata": {},
     "output_type": "execute_result"
    }
   ],
   "source": [
    "envs = [[5,4],[6,4],[6,7],[2,3]]\n",
    "maxEnvs(envs)"
   ]
  }
 ],
 "metadata": {
  "kernelspec": {
   "display_name": "Python 3",
   "language": "python",
   "name": "python3"
  },
  "language_info": {
   "codemirror_mode": {
    "name": "ipython",
    "version": 3
   },
   "file_extension": ".py",
   "mimetype": "text/x-python",
   "name": "python",
   "nbconvert_exporter": "python",
   "pygments_lexer": "ipython3",
   "version": "3.6.10"
  }
 },
 "nbformat": 4,
 "nbformat_minor": 4
}
