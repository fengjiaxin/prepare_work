{
 "cells": [
  {
   "cell_type": "code",
   "execution_count": 1,
   "metadata": {},
   "outputs": [],
   "source": [
    "# 最大子序列和\n",
    "# 暴力解决就是计算每个区间的值，求最大\n",
    "# 如何用动态规划呢\n",
    "# 1.假设dp[i]表示以i结尾的最大子数组，最后遍历一遍数组，就能得到最大和了\n",
    "def maxSubArray(nums):\n",
    "    length = len(nums)\n",
    "    dp = [None for _ in range(length)]\n",
    "    dp[0] = nums[0]\n",
    "    for i in range(1,length):\n",
    "        if dp[i-1] > 0:\n",
    "            dp[i] = dp[i-1] + nums[i]\n",
    "        else:\n",
    "            dp[i] = nums[i]\n",
    "    return max(dp)"
   ]
  },
  {
   "cell_type": "code",
   "execution_count": 2,
   "metadata": {},
   "outputs": [
    {
     "data": {
      "text/plain": [
       "6"
      ]
     },
     "execution_count": 2,
     "metadata": {},
     "output_type": "execute_result"
    }
   ],
   "source": [
    "nums = [-2,1,-3,4,-1,2,1,-5,4]\n",
    "maxSubArray(nums)"
   ]
  }
 ],
 "metadata": {
  "kernelspec": {
   "display_name": "Python 3",
   "language": "python",
   "name": "python3"
  },
  "language_info": {
   "codemirror_mode": {
    "name": "ipython",
    "version": 3
   },
   "file_extension": ".py",
   "mimetype": "text/x-python",
   "name": "python",
   "nbconvert_exporter": "python",
   "pygments_lexer": "ipython3",
   "version": "3.6.10"
  }
 },
 "nbformat": 4,
 "nbformat_minor": 4
}
