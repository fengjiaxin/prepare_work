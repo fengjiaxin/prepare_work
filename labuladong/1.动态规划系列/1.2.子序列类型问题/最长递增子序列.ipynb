{
 "cells": [
  {
   "cell_type": "code",
   "execution_count": 1,
   "metadata": {},
   "outputs": [],
   "source": [
    "# 这个题有意思\n",
    "# 最长递增子序列\n",
    "# 1.第一种算法\n",
    "# dp[i]表示以nums[i]为结尾的最长子序列\n",
    "# base case dp[i] = 1\n",
    "# 已知dp[0...i-1]，如何求dp[i],从0-> i-1，找到前面比nums[i]小的值+1\n",
    "def lengthOfLIS(nums):\n",
    "    length = len(nums)\n",
    "    dp = [1 for _ in range(length)]\n",
    "    for i in range(1,length):\n",
    "        for j in range(i):\n",
    "            if nums[j] < nums[i]:\n",
    "                dp[i] = max(dp[i],dp[j] + 1)\n",
    "    return max(dp)"
   ]
  },
  {
   "cell_type": "code",
   "execution_count": 2,
   "metadata": {},
   "outputs": [
    {
     "data": {
      "text/plain": [
       "4"
      ]
     },
     "execution_count": 2,
     "metadata": {},
     "output_type": "execute_result"
    }
   ],
   "source": [
    "nums = [10,9,2,5,3,7,101,18]\n",
    "lengthOfLIS(nums)"
   ]
  },
  {
   "cell_type": "code",
   "execution_count": 9,
   "metadata": {},
   "outputs": [],
   "source": [
    "# 另外一种解法，模仿扑克牌的方法\n",
    "# 只能把点数小的牌压到点数比它大的牌上；\n",
    "# 如果当前牌点数较大没有可以放置的堆，则新建一个堆，把这张牌放进去；\n",
    "# 如果当前牌有多个堆可供选择，则选择最左边的那一堆放置。\n",
    "def lengthOfLIS2(nums):\n",
    "    length = len(nums)\n",
    "    top = [None for _ in range(length)]\n",
    "    piles = 0\n",
    "    for i in range(length):\n",
    "        left = 0\n",
    "        right = piles\n",
    "        poker = nums[i]\n",
    "        # 从[left,right)中找出第一个比nums[i]大的堆\n",
    "        while left < right:\n",
    "            mid = left + (right - left)//2\n",
    "            if top[mid] < poker:\n",
    "                left = mid + 1\n",
    "            else:\n",
    "                right = mid\n",
    "        if left == piles:\n",
    "            piles += 1\n",
    "        top[left] = poker\n",
    "    return piles"
   ]
  },
  {
   "cell_type": "code",
   "execution_count": 10,
   "metadata": {},
   "outputs": [
    {
     "data": {
      "text/plain": [
       "4"
      ]
     },
     "execution_count": 10,
     "metadata": {},
     "output_type": "execute_result"
    }
   ],
   "source": [
    "nums = [10,9,2,5,3,7,101,18]\n",
    "lengthOfLIS2(nums)"
   ]
  },
  {
   "cell_type": "code",
   "execution_count": null,
   "metadata": {},
   "outputs": [],
   "source": []
  }
 ],
 "metadata": {
  "kernelspec": {
   "display_name": "Python 3",
   "language": "python",
   "name": "python3"
  },
  "language_info": {
   "codemirror_mode": {
    "name": "ipython",
    "version": 3
   },
   "file_extension": ".py",
   "mimetype": "text/x-python",
   "name": "python",
   "nbconvert_exporter": "python",
   "pygments_lexer": "ipython3",
   "version": "3.6.10"
  }
 },
 "nbformat": 4,
 "nbformat_minor": 4
}
