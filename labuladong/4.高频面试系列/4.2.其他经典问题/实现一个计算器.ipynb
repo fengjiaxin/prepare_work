{
 "cells": [
  {
   "cell_type": "code",
   "execution_count": 4,
   "metadata": {},
   "outputs": [],
   "source": [
    "# 实现计算器难就难在有括号\n",
    "# 1.先假设输入没有括号，那么使用栈就可以操作\n",
    "# 核心就是碰到运算符的时候对之前的结果进行入栈\n",
    "def cal(s1):\n",
    "    stack = []\n",
    "    num = 0\n",
    "    sign = \"+\"\n",
    "    length = len(s1)\n",
    "    for i,ch in enumerate(s1):\n",
    "        if ch.isdigit():\n",
    "            num = 10 * num + int(ch)\n",
    "        if (not ch.isdigit() and ch != \" \") or i == length -1:\n",
    "            if sign == \"+\":\n",
    "                stack.append(num)\n",
    "            elif sign == \"-\":\n",
    "                stack.append(-num)\n",
    "            elif sign == \"*\":\n",
    "                stack[-1] = stack[-1] * num\n",
    "            elif sign == '/':\n",
    "                stack[-1] = stack[-1]//num\n",
    "            num = 0\n",
    "            sign = ch\n",
    "    return sum(stack)\n",
    "        "
   ]
  },
  {
   "cell_type": "code",
   "execution_count": 5,
   "metadata": {},
   "outputs": [
    {
     "data": {
      "text/plain": [
       "-5"
      ]
     },
     "execution_count": 5,
     "metadata": {},
     "output_type": "execute_result"
    }
   ],
   "source": [
    "s = \"2 - 3 * 4 + 5\"\n",
    "cal(s)"
   ]
  },
  {
   "cell_type": "code",
   "execution_count": 6,
   "metadata": {},
   "outputs": [],
   "source": [
    "# 问题来了，如果有括号咋办\n",
    "# cal (3 * (4 - 2) + 5)\n",
    "# = 3 * cal(4-2) + 5\n",
    "# ()具有递归意义，如果遇到( 开始递归，遇到）结束递归"
   ]
  },
  {
   "cell_type": "code",
   "execution_count": 19,
   "metadata": {},
   "outputs": [],
   "source": [
    "def cal1(s1):\n",
    "    stack = []\n",
    "    num = 0\n",
    "    sign = \"+\"\n",
    "    while len(s1) > 0:\n",
    "        ch = s1.pop(0)\n",
    "        if ch.isdigit():\n",
    "            num = 10 * num + int(ch)\n",
    "        if ch == \"(\":\n",
    "            num = cal1(s1)\n",
    "            \n",
    "        if (not ch.isdigit() and ch != \" \") or len(s1) == 0:\n",
    "           \n",
    "            if sign == \"+\":\n",
    "                stack.append(num)\n",
    "            elif sign == \"-\":\n",
    "                stack.append(-num)\n",
    "            elif sign == \"*\":\n",
    "                stack[-1] = stack[-1] * num\n",
    "            elif sign == '/':\n",
    "                stack[-1] = stack[-1]//num\n",
    "            num = 0\n",
    "            sign = ch\n",
    "            \n",
    "        if ch == \")\":\n",
    "            break\n",
    "    return sum(stack)"
   ]
  },
  {
   "cell_type": "code",
   "execution_count": 20,
   "metadata": {},
   "outputs": [
    {
     "data": {
      "text/plain": [
       "11"
      ]
     },
     "execution_count": 20,
     "metadata": {},
     "output_type": "execute_result"
    }
   ],
   "source": [
    "s = \"3 * (4 - 2) + 5\"\n",
    "cal1(list(s))"
   ]
  }
 ],
 "metadata": {
  "kernelspec": {
   "display_name": "Python 3",
   "language": "python",
   "name": "python3"
  },
  "language_info": {
   "codemirror_mode": {
    "name": "ipython",
    "version": 3
   },
   "file_extension": ".py",
   "mimetype": "text/x-python",
   "name": "python",
   "nbconvert_exporter": "python",
   "pygments_lexer": "ipython3",
   "version": "3.6.10"
  }
 },
 "nbformat": 4,
 "nbformat_minor": 4
}
