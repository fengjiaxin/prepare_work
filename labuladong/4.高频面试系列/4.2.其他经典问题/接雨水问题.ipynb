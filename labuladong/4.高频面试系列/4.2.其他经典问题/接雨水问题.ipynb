{
 "cells": [
  {
   "cell_type": "code",
   "execution_count": 1,
   "metadata": {},
   "outputs": [],
   "source": [
    "# 这个思想就是计算每个位置能容多少水\n",
    "# 那么这个位置能容纳多少水呢？\n",
    "# 假设位置为i,那么i能容纳的水为nums[:i]和nums[i+1:]的高度有关系\n",
    "# 假设lmax[i]存储的是nums[0:i+1]的最大高度\n",
    "# rmax[i]存储的是nums[i:]的最大高度\n",
    "# 那么res += min(lmax[i],rmax[i]) - nums[i]"
   ]
  },
  {
   "cell_type": "code",
   "execution_count": 10,
   "metadata": {},
   "outputs": [],
   "source": [
    "def trap(nums):\n",
    "    length = len(nums)\n",
    "    lmax = [x for x in nums]\n",
    "    rmax = [x for x in nums]\n",
    "    for i in range(1,length):\n",
    "        lmax[i] = max(lmax[i],lmax[i-1])\n",
    "    \n",
    "    for i in range(length-2,0,-1):\n",
    "        rmax[i] = max(rmax[i+1],rmax[i])\n",
    "    res = 0\n",
    "    for i in range(1,length - 1):\n",
    "        res += min(lmax[i],rmax[i]) - nums[i]\n",
    "    return res"
   ]
  },
  {
   "cell_type": "code",
   "execution_count": 11,
   "metadata": {},
   "outputs": [
    {
     "data": {
      "text/plain": [
       "6"
      ]
     },
     "execution_count": 11,
     "metadata": {},
     "output_type": "execute_result"
    }
   ],
   "source": [
    "nums = [0,1,0,2,1,0,1,3,2,1,2,1]\n",
    "trap(nums)"
   ]
  },
  {
   "cell_type": "code",
   "execution_count": 14,
   "metadata": {},
   "outputs": [],
   "source": [
    "# 另外一种解决方法 左右指针\n",
    "# 左右指针，i,j\n",
    "# 如果左指针处的最大值 < 右指针的最大值，说明决定性因素是左边，右边再高也没用了\n",
    "def trap2(nums):\n",
    "    length = len(nums)\n",
    "    lmax = nums[0]\n",
    "    rmax = nums[length - 1]\n",
    "    left = 1\n",
    "    right = length -  2\n",
    "    res = 0\n",
    "    while left <= right:\n",
    "        lmax = max(lmax,nums[left])\n",
    "        rmax = max(rmax,nums[right])\n",
    "        if lmax <= rmax:\n",
    "            res += lmax - nums[left]\n",
    "            left += 1\n",
    "        else:\n",
    "            res += rmax - nums[right]\n",
    "            right -= 1\n",
    "    return res"
   ]
  },
  {
   "cell_type": "code",
   "execution_count": 15,
   "metadata": {},
   "outputs": [
    {
     "data": {
      "text/plain": [
       "6"
      ]
     },
     "execution_count": 15,
     "metadata": {},
     "output_type": "execute_result"
    }
   ],
   "source": [
    "nums = [0,1,0,2,1,0,1,3,2,1,2,1]\n",
    "trap2(nums)"
   ]
  }
 ],
 "metadata": {
  "kernelspec": {
   "display_name": "Python 3",
   "language": "python",
   "name": "python3"
  },
  "language_info": {
   "codemirror_mode": {
    "name": "ipython",
    "version": 3
   },
   "file_extension": ".py",
   "mimetype": "text/x-python",
   "name": "python",
   "nbconvert_exporter": "python",
   "pygments_lexer": "ipython3",
   "version": "3.6.10"
  }
 },
 "nbformat": 4,
 "nbformat_minor": 4
}
