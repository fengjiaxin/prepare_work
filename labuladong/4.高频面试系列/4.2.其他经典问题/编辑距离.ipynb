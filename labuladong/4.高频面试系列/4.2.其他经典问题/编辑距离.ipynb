{
 "cells": [
  {
   "cell_type": "code",
   "execution_count": 1,
   "metadata": {},
   "outputs": [],
   "source": [
    "# 编辑距离问题就是给我们两个字符串s1和s2，只能用三种操作，\n",
    "# 1.增加\n",
    "# 2.删除\n",
    "# 3.替换\n",
    "# 让我们把s1变成s2，求最少的操作数\n",
    "def minDistance(s1,s2):\n",
    "    # 令dp[i][j]表示s1的前i个字符与s2的前j个字符的最小编辑距离\n",
    "    # base case:\n",
    "    # dp[0][j] = j\n",
    "    # dp[i][0] = i\n",
    "    m = len(s1)\n",
    "    n = len(s2)\n",
    "    dp = [[0 for _ in range(n+1)] for _ in range(m+1)]\n",
    "    for i in range(1,m):\n",
    "        dp[i][0] = i\n",
    "    for j in range(1,n):\n",
    "        dp[0][j] = j\n",
    "    for i in range(1,m+1):\n",
    "        for j in range(1,n+1):\n",
    "            if s1[i-1] == s2[j-1]:\n",
    "                dp[i][j] = dp[i-1][j-1]\n",
    "            else:\n",
    "                dp[i][j] = min(dp[i-1][j],min(dp[i][j-1],dp[i-1][j-1])) + 1\n",
    "    return dp[m][n]"
   ]
  },
  {
   "cell_type": "code",
   "execution_count": 2,
   "metadata": {},
   "outputs": [
    {
     "data": {
      "text/plain": [
       "3"
      ]
     },
     "execution_count": 2,
     "metadata": {},
     "output_type": "execute_result"
    }
   ],
   "source": [
    "s1 = \"horse\"\n",
    "s2 = 'ros'\n",
    "minDistance(s1,s2)"
   ]
  }
 ],
 "metadata": {
  "kernelspec": {
   "display_name": "Python 3",
   "language": "python",
   "name": "python3"
  },
  "language_info": {
   "codemirror_mode": {
    "name": "ipython",
    "version": 3
   },
   "file_extension": ".py",
   "mimetype": "text/x-python",
   "name": "python",
   "nbconvert_exporter": "python",
   "pygments_lexer": "ipython3",
   "version": "3.6.10"
  }
 },
 "nbformat": 4,
 "nbformat_minor": 4
}
