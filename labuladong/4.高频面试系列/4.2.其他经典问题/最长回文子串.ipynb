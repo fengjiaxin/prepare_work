{
 "cells": [
  {
   "cell_type": "code",
   "execution_count": 2,
   "metadata": {},
   "outputs": [],
   "source": [
    "# 最长回文子串，就是正着读反着读都一样\n",
    "# 如果字符串长度是奇数，从两边开始，如果是偶数，中间的两个字符要相等\n",
    "\n",
    "# 判断从[left,right]向两边扩展能得到的最长回文子串\n",
    "def palin(s,left,right):\n",
    "    while left >= 0 and right < len(s) and s[left] == s[right]:\n",
    "        left -= 1\n",
    "        right += 1\n",
    "    return s[left+1:right]\n",
    "\n",
    "\n",
    "def longestPalindome(s1):\n",
    "    length = len(s1)\n",
    "    max_res = \"\"\n",
    "    for i in range(length - 1):\n",
    "        a = palin(s1,i,i)\n",
    "        b = palin(s1,i,i+1)\n",
    "        if len(a) > len(max_res):\n",
    "            max_res = a\n",
    "        if len(b) > len(max_res):\n",
    "            max_res = b\n",
    "    return max_res"
   ]
  },
  {
   "cell_type": "code",
   "execution_count": 3,
   "metadata": {},
   "outputs": [
    {
     "data": {
      "text/plain": [
       "'bab'"
      ]
     },
     "execution_count": 3,
     "metadata": {},
     "output_type": "execute_result"
    }
   ],
   "source": [
    "s1 = \"babad\"\n",
    "longestPalindome(s1)"
   ]
  }
 ],
 "metadata": {
  "kernelspec": {
   "display_name": "Python 3",
   "language": "python",
   "name": "python3"
  },
  "language_info": {
   "codemirror_mode": {
    "name": "ipython",
    "version": 3
   },
   "file_extension": ".py",
   "mimetype": "text/x-python",
   "name": "python",
   "nbconvert_exporter": "python",
   "pygments_lexer": "ipython3",
   "version": "3.6.10"
  }
 },
 "nbformat": 4,
 "nbformat_minor": 4
}
