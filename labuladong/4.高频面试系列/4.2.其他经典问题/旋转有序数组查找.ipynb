{
 "cells": [
  {
   "cell_type": "code",
   "execution_count": 1,
   "metadata": {},
   "outputs": [],
   "source": [
    "def find(nums,target):\n",
    "    if len(nums) == 0:\n",
    "        return False\n",
    "    left = 0\n",
    "    right =len(nums) - 1\n",
    "    while left <= right:\n",
    "        mid = left + (right - left)//2\n",
    "        if nums[mid] == target:\n",
    "            return mid\n",
    "        # 如果左边是有序数组\n",
    "        if nums[mid] > nums[left]:\n",
    "            if nums[left] <= target < nums[mid]:\n",
    "                right = mid - 1\n",
    "            else:\n",
    "                left = mid + 1\n",
    "        # 右边数组是有序数组\n",
    "        if nums[mid] < nums[right]:\n",
    "            if nums[mid] < target <= nums[right]:\n",
    "                left = mid + 1\n",
    "            else:\n",
    "                right = mid - 1\n",
    "    return -1"
   ]
  },
  {
   "cell_type": "code",
   "execution_count": null,
   "metadata": {},
   "outputs": [],
   "source": []
  }
 ],
 "metadata": {
  "kernelspec": {
   "display_name": "Python 3",
   "language": "python",
   "name": "python3"
  },
  "language_info": {
   "codemirror_mode": {
    "name": "ipython",
    "version": 3
   },
   "file_extension": ".py",
   "mimetype": "text/x-python",
   "name": "python",
   "nbconvert_exporter": "python",
   "pygments_lexer": "ipython3",
   "version": "3.6.10"
  }
 },
 "nbformat": 4,
 "nbformat_minor": 4
}
