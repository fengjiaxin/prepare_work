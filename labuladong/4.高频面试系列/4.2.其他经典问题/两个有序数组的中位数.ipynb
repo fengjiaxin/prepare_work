{
 "cells": [
  {
   "cell_type": "code",
   "execution_count": null,
   "metadata": {},
   "outputs": [],
   "source": [
    "# 两个有序数组的中位数\n",
    "# 转换成从两个有序数组中寻找第k小的元素\n",
    "def minK(nums1,l1,h1,nums2,l2,h2,k):\n",
    "    m = h1 - l1 + 1\n",
    "    n = h2 - l2 + 1\n",
    "    if m > n:\n",
    "        return minK(nums2,l2,h2,nums1,l1,h1,k)\n",
    "    if m == 0:\n",
    "        return nums2[l2 + k - 1]\n",
    "    if k == 1:\n",
    "        return min(nums1[0],nums2[0])\n",
    "    na = min(m,k //2)\n",
    "    nb = k - na\n",
    "    va = nums1[l1 + na - 1]\n",
    "    vb = nums2[l2 + nb - 1]\n",
    "    if va == vb:\n",
    "        return va\n",
    "    elif va < vb:\n",
    "        return minK(nums1,l1+na,h1,nums2,l2,l2 + nb - 1,k - na)\n",
    "    else:\n",
    "        return minK(nums1,l1,l1 + na - 1,nums2,l2 + nb,h2,k - nb)"
   ]
  }
 ],
 "metadata": {
  "kernelspec": {
   "display_name": "Python 3",
   "language": "python",
   "name": "python3"
  },
  "language_info": {
   "codemirror_mode": {
    "name": "ipython",
    "version": 3
   },
   "file_extension": ".py",
   "mimetype": "text/x-python",
   "name": "python",
   "nbconvert_exporter": "python",
   "pygments_lexer": "ipython3",
   "version": "3.6.10"
  }
 },
 "nbformat": 4,
 "nbformat_minor": 4
}
