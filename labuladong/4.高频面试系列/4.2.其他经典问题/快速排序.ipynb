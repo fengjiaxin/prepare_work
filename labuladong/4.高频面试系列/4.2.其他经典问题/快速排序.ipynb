{
 "cells": [
  {
   "cell_type": "code",
   "execution_count": 14,
   "metadata": {},
   "outputs": [],
   "source": [
    "# 快速排序\n",
    "\n",
    "\n",
    "def partition(nums,low,high):\n",
    "    pivot = nums[low]\n",
    "    while low < high:\n",
    "        while high > low and nums[high] >= pivot:\n",
    "            high -= 1\n",
    "        nums[low] = nums[high]\n",
    "        while low < high and nums[low] <= pivot:\n",
    "            low += 1\n",
    "        nums[high] = nums[low]\n",
    "    nums[low] = pivot\n",
    "    return low\n",
    "            \n",
    "\n",
    "\n",
    "def quickSort(nums,low,high):\n",
    "    if low >= high:\n",
    "        return\n",
    "    index = partition(nums,low,high)\n",
    "    if index > low:\n",
    "        quickSort(nums,low,index - 1)\n",
    "    if index < high:\n",
    "        quickSort(nums,index+1,high)"
   ]
  },
  {
   "cell_type": "code",
   "execution_count": 15,
   "metadata": {},
   "outputs": [],
   "source": [
    "nums = [7,8,5,4,9,1]\n",
    "quickSort(nums,0,5)"
   ]
  },
  {
   "cell_type": "code",
   "execution_count": 16,
   "metadata": {},
   "outputs": [
    {
     "data": {
      "text/plain": [
       "[1, 4, 5, 7, 8, 9]"
      ]
     },
     "execution_count": 16,
     "metadata": {},
     "output_type": "execute_result"
    }
   ],
   "source": [
    "nums"
   ]
  },
  {
   "cell_type": "code",
   "execution_count": 22,
   "metadata": {},
   "outputs": [],
   "source": [
    "def quickSort(nums):\n",
    "    if len(nums) <= 1:\n",
    "        return nums\n",
    "    pivot = nums[0]\n",
    "    left = [x for x in nums[1:] if x <= pivot]\n",
    "    right = [x for x in nums[1:] if x > pivot]\n",
    "    return quickSort(left) + [pivot] + quickSort(right)"
   ]
  },
  {
   "cell_type": "code",
   "execution_count": 23,
   "metadata": {},
   "outputs": [
    {
     "data": {
      "text/plain": [
       "[1, 4, 5, 7, 8, 9]"
      ]
     },
     "execution_count": 23,
     "metadata": {},
     "output_type": "execute_result"
    }
   ],
   "source": [
    "nums = [7,8,5,4,9,1]\n",
    "quickSort(nums)"
   ]
  },
  {
   "cell_type": "code",
   "execution_count": null,
   "metadata": {},
   "outputs": [],
   "source": []
  }
 ],
 "metadata": {
  "kernelspec": {
   "display_name": "Python 3",
   "language": "python",
   "name": "python3"
  },
  "language_info": {
   "codemirror_mode": {
    "name": "ipython",
    "version": 3
   },
   "file_extension": ".py",
   "mimetype": "text/x-python",
   "name": "python",
   "nbconvert_exporter": "python",
   "pygments_lexer": "ipython3",
   "version": "3.6.10"
  }
 },
 "nbformat": 4,
 "nbformat_minor": 4
}
