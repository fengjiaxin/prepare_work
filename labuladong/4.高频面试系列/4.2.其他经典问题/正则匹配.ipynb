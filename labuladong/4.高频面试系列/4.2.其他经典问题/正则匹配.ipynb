{
 "cells": [
  {
   "cell_type": "code",
   "execution_count": 1,
   "metadata": {},
   "outputs": [],
   "source": [
    "class Solution:\n",
    "    def isMatch(self, s: str, p: str) -> bool:\n",
    "        # 双指针\n",
    "        # i指向s，j指向p\n",
    "        # dp[i][j] 表示s[i:]是否匹配上p[j:]\n",
    "        # 最终求的是dp_00\n",
    "        # 1.如果s[i]和p[j]匹配上\n",
    "        #   1.1 if p[j+1] = \"*\": dp[i][j] = dp[i][j+2] or dp[i+1][j]\n",
    "        #   1.2 else dp[i][j] = dp[i+1][j+1]\n",
    "        # 2.s[i] not match p[j]\n",
    "        #   2.1 p[j+1] = \"*\" : dp[i][j] = dp[i][j+2]\n",
    "        #   2.2 dp[i][j] = False\n",
    "        # 走到最后，如果j走完了，判断i== m就可以了\n",
    "        # 如果i走完了 ，如果p[j:]能匹配空也行\n",
    "        m = len(s)\n",
    "        n = len(p)\n",
    "        dp = [[False for _ in range(n+1)] for _ in range(m+1)]\n",
    "        dp[m][n] = True\n",
    "        for i in range(n-2,-1,-2):\n",
    "            if p[i+1] == \"*\":\n",
    "                dp[m][i] = dp[m][i+2]\n",
    "        for i in range(m-1,-1,-1):\n",
    "            for j in range(n-1,-1,-1):\n",
    "                if s[i] == p[j] or p[j] == \".\":\n",
    "                    if j + 1 < n and p[j+1] == \"*\":\n",
    "                        dp[i][j] = dp[i][j+2] or dp[i+1][j]\n",
    "                    else:\n",
    "                        dp[i][j] = dp[i+1][j+1]\n",
    "                else:\n",
    "                    if j + 1 < n and p[j+1] == \"*\":\n",
    "                        dp[i][j] = dp[i][j+2]\n",
    "                    else:\n",
    "                        dp[i][j] = False\n",
    "        return dp[0][0]\n",
    "\n"
   ]
  },
  {
   "cell_type": "code",
   "execution_count": null,
   "metadata": {},
   "outputs": [],
   "source": []
  }
 ],
 "metadata": {
  "kernelspec": {
   "display_name": "Python 3",
   "language": "python",
   "name": "python3"
  },
  "language_info": {
   "codemirror_mode": {
    "name": "ipython",
    "version": 3
   },
   "file_extension": ".py",
   "mimetype": "text/x-python",
   "name": "python",
   "nbconvert_exporter": "python",
   "pygments_lexer": "ipython3",
   "version": "3.6.10"
  }
 },
 "nbformat": 4,
 "nbformat_minor": 4
}
