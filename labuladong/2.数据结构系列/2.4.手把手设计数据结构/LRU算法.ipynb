{
 "cells": [
  {
   "cell_type": "code",
   "execution_count": 1,
   "metadata": {},
   "outputs": [],
   "source": [
    "# lru缓存机制\n",
    "# 1.在o(1)时间get ,put\n",
    "# 2.将get,put操作的元素提升为最近使用\n",
    "# 3.内存满了的话要删除最久不使用的\n",
    "\n",
    "# 1.数据结构，LinkedHashMap\n",
    "# 2.一个hashMap,存储key -> node\n",
    "# 3.一个双边链表，如果给定node，可以在O(1)时间删除"
   ]
  },
  {
   "cell_type": "code",
   "execution_count": 21,
   "metadata": {},
   "outputs": [],
   "source": [
    "class DNode:\n",
    "    def __init__(self,key,val):\n",
    "        self.key = key\n",
    "        self.val = val\n",
    "        self.prev = None\n",
    "        self.next = None\n",
    "        \n",
    "class DoubleLinkedList:\n",
    "    def __init__(self):\n",
    "        self.head = DNode(-1,-1)\n",
    "        self.tail = DNode(-1,-1)\n",
    "        self.head.next = self.tail\n",
    "        self.tail.prev = self.head\n",
    "    \n",
    "    def add_tail(self,node):\n",
    "        prev_node = self.tail.prev\n",
    "        prev_node.next = node\n",
    "        node.next = self.tail\n",
    "        node.prev = prev_node\n",
    "        self.tail.prev = node\n",
    "        \n",
    "    def delete(self,node):\n",
    "        prevN = node.prev\n",
    "        nextN = node.next\n",
    "        prevN.next = nextN\n",
    "        nextN.prev = prevN        "
   ]
  },
  {
   "cell_type": "code",
   "execution_count": 34,
   "metadata": {},
   "outputs": [],
   "source": [
    "class LRUCache:\n",
    "    def __init__(self,cap):\n",
    "        self.cap = cap\n",
    "        self.map = {}\n",
    "        self.dlist = DoubleLinkedList()\n",
    "    \n",
    "    # key在list中，将它提升到尾部\n",
    "    def makeRecent(self,node):\n",
    "        self.dlist.delete(node)\n",
    "        self.dlist.add_tail(node)\n",
    "        \n",
    "    def delNoUse(self):\n",
    "        head_node = self.dlist.head.next\n",
    "        self.dlist.delete(head_node)\n",
    "        del self.map[head_node.key]\n",
    "    \n",
    "    def get(self,key):\n",
    "        if key not in self.map:\n",
    "            return -1\n",
    "        # key 在map里\n",
    "        else :\n",
    "            node = self.map[key]\n",
    "            self.makeRecent(node)\n",
    "            return node.val\n",
    "    \n",
    "    def put(self,key,val):\n",
    "        if key in self.map:\n",
    "            node = self.map[key]\n",
    "            node.val = val\n",
    "            self.makeRecent(node)\n",
    "        else:\n",
    "            # 判断缓存是否满了\n",
    "            if len(self.map) == self.cap:\n",
    "                self.delNoUse()\n",
    "            node = DNode(key,val)\n",
    "            self.dlist.add_tail(node)\n",
    "            self.map[key] = node      "
   ]
  },
  {
   "cell_type": "code",
   "execution_count": 35,
   "metadata": {},
   "outputs": [],
   "source": [
    "cache = LRUCache(2);\n",
    "\n",
    "cache.put(1, 1);\n",
    "cache.put(2, 2);"
   ]
  },
  {
   "cell_type": "code",
   "execution_count": 36,
   "metadata": {},
   "outputs": [
    {
     "data": {
      "text/plain": [
       "1"
      ]
     },
     "execution_count": 36,
     "metadata": {},
     "output_type": "execute_result"
    }
   ],
   "source": [
    "cache.get(1)"
   ]
  },
  {
   "cell_type": "code",
   "execution_count": 37,
   "metadata": {},
   "outputs": [],
   "source": [
    "cache.put(3, 3)"
   ]
  },
  {
   "cell_type": "code",
   "execution_count": 38,
   "metadata": {},
   "outputs": [
    {
     "data": {
      "text/plain": [
       "-1"
      ]
     },
     "execution_count": 38,
     "metadata": {},
     "output_type": "execute_result"
    }
   ],
   "source": [
    "cache.get(2)"
   ]
  },
  {
   "cell_type": "code",
   "execution_count": 39,
   "metadata": {},
   "outputs": [],
   "source": [
    "cache.put(1, 4)"
   ]
  },
  {
   "cell_type": "code",
   "execution_count": 40,
   "metadata": {},
   "outputs": [
    {
     "data": {
      "text/plain": [
       "4"
      ]
     },
     "execution_count": 40,
     "metadata": {},
     "output_type": "execute_result"
    }
   ],
   "source": [
    "cache.get(1)"
   ]
  }
 ],
 "metadata": {
  "kernelspec": {
   "display_name": "Python 3",
   "language": "python",
   "name": "python3"
  },
  "language_info": {
   "codemirror_mode": {
    "name": "ipython",
    "version": 3
   },
   "file_extension": ".py",
   "mimetype": "text/x-python",
   "name": "python",
   "nbconvert_exporter": "python",
   "pygments_lexer": "ipython3",
   "version": "3.7.4"
  }
 },
 "nbformat": 4,
 "nbformat_minor": 4
}
