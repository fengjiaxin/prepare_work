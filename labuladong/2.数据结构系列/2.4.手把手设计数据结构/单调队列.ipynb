{
 "cells": [
  {
   "cell_type": "code",
   "execution_count": 10,
   "metadata": {},
   "outputs": [],
   "source": [
    "# 比如说力扣第 239 题「滑动窗口最大值」，难度 Hard：\n",
    "# 给你输入一个数组nums和一个正整数k，\n",
    "# 有一个大小为k的窗口在nums上从左至右滑动，请你输出每次窗口中k个元素的最大值。\n",
    "# 需要一个单调队列：其中单调队列中存储的元素降序排列，每次push元素的时候，都把比它小的pop\n",
    "class MonotoneQueue:\n",
    "    def __init__(self):\n",
    "        self.queue = []\n",
    "    def push(self,num):\n",
    "        while len(self.queue) > 0 and self.queue[-1] < num:\n",
    "            self.queue.pop(-1)\n",
    "        self.queue.append(num)\n",
    "    def getMax(self):\n",
    "        return self.queue[0]\n",
    "    def pop(self,num):\n",
    "        if self.getMax() == num:\n",
    "            self.queue.pop(0)"
   ]
  },
  {
   "cell_type": "code",
   "execution_count": 11,
   "metadata": {},
   "outputs": [],
   "source": [
    "def maxSlidingWindow(nums, k):\n",
    "    res = []\n",
    "    window = MonotoneQueue()\n",
    "    length = len(nums)\n",
    "    for i in range(length):\n",
    "        if i < k - 1:\n",
    "            window.push(nums[i])\n",
    "        else:\n",
    "            window.push(nums[i])\n",
    "            res.append(window.getMax())\n",
    "            window.pop(nums[i-k+1])\n",
    "    return res       "
   ]
  },
  {
   "cell_type": "code",
   "execution_count": 12,
   "metadata": {},
   "outputs": [
    {
     "data": {
      "text/plain": [
       "[3, 3, 5, 5, 6, 7]"
      ]
     },
     "execution_count": 12,
     "metadata": {},
     "output_type": "execute_result"
    }
   ],
   "source": [
    "nums = [1,3,-1,-3,5,3,6,7]\n",
    "k = 3\n",
    "maxSlidingWindow(nums, k)"
   ]
  }
 ],
 "metadata": {
  "kernelspec": {
   "display_name": "Python 3",
   "language": "python",
   "name": "python3"
  },
  "language_info": {
   "codemirror_mode": {
    "name": "ipython",
    "version": 3
   },
   "file_extension": ".py",
   "mimetype": "text/x-python",
   "name": "python",
   "nbconvert_exporter": "python",
   "pygments_lexer": "ipython3",
   "version": "3.7.4"
  }
 },
 "nbformat": 4,
 "nbformat_minor": 4
}
