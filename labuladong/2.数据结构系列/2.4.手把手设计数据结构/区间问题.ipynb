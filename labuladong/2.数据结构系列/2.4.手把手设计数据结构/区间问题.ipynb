{
 "cells": [
  {
   "cell_type": "code",
   "execution_count": 1,
   "metadata": {},
   "outputs": [],
   "source": [
    "# 区间问题，区间问题就两个技巧 1.排序 2.画图\n",
    "# 1.删除被覆盖区间\n",
    "def removeCovered(intervals):\n",
    "    cover = 0\n",
    "    # 对区间按照start排序\n",
    "    intervals.sort(key = lambda x:x[0])\n",
    "    first = intervals[0]\n",
    "    left = first[0]\n",
    "    right = first[1]\n",
    "    for i in range(1,len(intervals)):\n",
    "        ints = intervals[i]\n",
    "        start = ints[0]\n",
    "        end = ints[1]\n",
    "        # 第一种情况 完全覆盖\n",
    "        if start >= left and end <= right:\n",
    "            cover += 1\n",
    "        # 第二种情况 ，有交集\n",
    "        if start <= right and right <= end:\n",
    "            right = end\n",
    "        # 第三种情况，无交集\n",
    "        if start > right:\n",
    "            left = start\n",
    "            right = end\n",
    "    return len(intervals) - cover "
   ]
  },
  {
   "cell_type": "code",
   "execution_count": 3,
   "metadata": {},
   "outputs": [
    {
     "data": {
      "text/plain": [
       "2"
      ]
     },
     "execution_count": 3,
     "metadata": {},
     "output_type": "execute_result"
    }
   ],
   "source": [
    "ints = [[1,4],[3,6],[2,8]]\n",
    "removeCovered(ints)"
   ]
  },
  {
   "cell_type": "code",
   "execution_count": 4,
   "metadata": {},
   "outputs": [],
   "source": [
    "# 2.区间合并问题\n",
    "def merge(intervals):\n",
    "    # 排序\n",
    "    intervals.sort(key = lambda x:x[0])\n",
    "    res = []\n",
    "    res.append(intervals[0])\n",
    "    for i in range(1,len(intervals)):\n",
    "        curr = intervals[i]\n",
    "        start = curr[0];end = curr[1]\n",
    "        if start > res[-1][1]:\n",
    "            res.append(curr)\n",
    "        else:\n",
    "            res[-1][1] = max(res[-1][1],end)\n",
    "    return res"
   ]
  },
  {
   "cell_type": "code",
   "execution_count": 5,
   "metadata": {},
   "outputs": [
    {
     "data": {
      "text/plain": [
       "[[1, 6], [8, 10], [15, 18]]"
      ]
     },
     "execution_count": 5,
     "metadata": {},
     "output_type": "execute_result"
    }
   ],
   "source": [
    "ints = [[1,3],[2,6],[8,10],[15,18]]\n",
    "merge(ints)"
   ]
  },
  {
   "cell_type": "code",
   "execution_count": 12,
   "metadata": {},
   "outputs": [],
   "source": [
    "# 3.两个区间合并问题\n",
    "def mergeTwo(nums1,nums2):\n",
    "    length1 = len(nums1)\n",
    "    length2 = len(nums2)\n",
    "    i = 0;j = 0\n",
    "    res = []\n",
    "    while i < length1 and j < length2:\n",
    "        a1,a2 = nums1[i][0],nums1[i][1]\n",
    "        b1,b2 = nums2[j][0],nums2[j][1]\n",
    "        # 有交集的情况\n",
    "        if b1 <= a2 and b2 >= a1:\n",
    "            res.append([max(a1,b1),min(a2,b2)])\n",
    "        if a2 < b2:\n",
    "            i += 1\n",
    "        else:\n",
    "            j += 1\n",
    "    return res"
   ]
  },
  {
   "cell_type": "code",
   "execution_count": 13,
   "metadata": {},
   "outputs": [
    {
     "data": {
      "text/plain": [
       "[[1, 2], [5, 5], [8, 10], [15, 23], [24, 24], [25, 25]]"
      ]
     },
     "execution_count": 13,
     "metadata": {},
     "output_type": "execute_result"
    }
   ],
   "source": [
    "nums1 = [[0,2],[5,10],[13,23],[24,25]]\n",
    "nums2 = [[1,5],[8,12],[15,24],[25,26]]\n",
    "mergeTwo(nums1,nums2)"
   ]
  }
 ],
 "metadata": {
  "kernelspec": {
   "display_name": "Python 3",
   "language": "python",
   "name": "python3"
  },
  "language_info": {
   "codemirror_mode": {
    "name": "ipython",
    "version": 3
   },
   "file_extension": ".py",
   "mimetype": "text/x-python",
   "name": "python",
   "nbconvert_exporter": "python",
   "pygments_lexer": "ipython3",
   "version": "3.6.7"
  }
 },
 "nbformat": 4,
 "nbformat_minor": 4
}
