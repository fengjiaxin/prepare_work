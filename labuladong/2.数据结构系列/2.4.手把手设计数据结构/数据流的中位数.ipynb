{
 "cells": [
  {
   "cell_type": "code",
   "execution_count": 1,
   "metadata": {},
   "outputs": [],
   "source": [
    "# 数据流的中位数\n",
    "# 思路：将数据流分成两部分，第一部分是大一些的元素，第二部分是小一些的元素\n",
    "# 这两部分满足一些条件\n",
    "# 1.两部分元素个数的差值 <= 1\n",
    "# 2.大一些的最小元素> 小一些的最大元素 (需要时刻保持)\n",
    "# 应用到的数据结构是二叉堆，大一些的元素用最小堆存储，小一些的元素用最大堆存储"
   ]
  },
  {
   "cell_type": "code",
   "execution_count": 44,
   "metadata": {},
   "outputs": [],
   "source": [
    "# 假设最大堆，最小堆已经实现\n",
    "class MaxPq:\n",
    "    def __init__(self):\n",
    "        self.n = 0\n",
    "        self.queue = []\n",
    "        \n",
    "    def size(self):\n",
    "        return self.n\n",
    "    \n",
    "    def left(self,k):\n",
    "        return k * 2 + 1\n",
    "    \n",
    "    def right(self,k):\n",
    "        return k * 2 + 2\n",
    "    \n",
    "    def parent(self,k):\n",
    "        return (k-1)//2\n",
    "    \n",
    "    def exch(self,i,j):\n",
    "        temp = self.queue[i]\n",
    "        self.queue[i] = self.queue[j]\n",
    "        self.queue[j] = temp\n",
    "        \n",
    "    def less(self,i,j):\n",
    "        return True if self.queue[i] < self.queue[j] else False\n",
    "    \n",
    "    def swim(self,k):\n",
    "        while k > 0 and self.less(self.parent(k),k):\n",
    "            self.exch(k,self.parent(k))\n",
    "            k = self.parent(k)\n",
    "    \n",
    "    def sink(self,k):\n",
    "        while self.left(k) < self.n:\n",
    "            bigger_index = self.left(k)\n",
    "            if self.right(k) < self.n and self.less(bigger_index,self.right(k)):\n",
    "                bigger_index = self.right(k)\n",
    "            if self.less(bigger_index,k):\n",
    "                break\n",
    "            self.exch(k,bigger_index)\n",
    "            k = bigger_index\n",
    "            \n",
    "    def push(self,k):\n",
    "        self.queue.append(k)\n",
    "        self.swim(self.n)\n",
    "        self.n += 1\n",
    "        \n",
    "    def delMax(self):\n",
    "        res = self.queue[0]\n",
    "        self.n -= 1\n",
    "        self.exch(self.n,0)\n",
    "        self.queue.pop(-1)\n",
    "        self.sink(0)\n",
    "        return res\n",
    "        \n",
    "    def getMax(self):\n",
    "        return self.queue[0]"
   ]
  },
  {
   "cell_type": "code",
   "execution_count": 45,
   "metadata": {},
   "outputs": [
    {
     "name": "stdout",
     "output_type": "stream",
     "text": [
      "[8, 7, 6, 5, 4]\n",
      "8 4\n",
      "7 3\n",
      "6 2\n",
      "5 1\n",
      "4 0\n"
     ]
    }
   ],
   "source": [
    "nums = [5,7,6,8,4]\n",
    "maxPq = MaxPq()\n",
    "for num in nums:\n",
    "    maxPq.push(num)\n",
    "print(maxPq.queue)\n",
    "for i in range(5):\n",
    "    print(maxPq.delMax(),maxPq.size())"
   ]
  },
  {
   "cell_type": "code",
   "execution_count": 48,
   "metadata": {},
   "outputs": [],
   "source": [
    "# 最小堆\n",
    "class MinPq:\n",
    "    def __init__(self):\n",
    "        self.n = 0\n",
    "        self.queue = []\n",
    "        \n",
    "    def size(self):\n",
    "        return self.n\n",
    "    \n",
    "    def left(self,k):\n",
    "        return k * 2 + 1\n",
    "    \n",
    "    def right(self,k):\n",
    "        return k * 2 + 2\n",
    "    \n",
    "    def parent(self,k):\n",
    "        return (k-1)//2\n",
    "    \n",
    "    def exch(self,i,j):\n",
    "        temp = self.queue[i]\n",
    "        self.queue[i] = self.queue[j]\n",
    "        self.queue[j] = temp\n",
    "        \n",
    "    def less(self,i,j):\n",
    "        return True if self.queue[i] < self.queue[j] else False\n",
    "    \n",
    "    def swim(self,k):\n",
    "        while k > 0 and self.less(k,self.parent(k)):\n",
    "            self.exch(k,self.parent(k))\n",
    "            k = self.parent(k)\n",
    "    \n",
    "    def sink(self,k):\n",
    "        while self.left(k) < self.n:\n",
    "            smaller_index = self.left(k)\n",
    "            if self.right(k) < self.n and self.less(self.right(k),smaller_index):\n",
    "                smaller_index = self.right(k)\n",
    "            if self.less(k,smaller_index):\n",
    "                break\n",
    "            self.exch(k,smaller_index)\n",
    "            k = smaller_index\n",
    "            \n",
    "    def push(self,k):\n",
    "        self.queue.append(k)\n",
    "        self.swim(self.n)\n",
    "        self.n += 1\n",
    "        \n",
    "    def delMin(self):\n",
    "        res = self.queue[0]\n",
    "        self.n -= 1\n",
    "        self.exch(self.n,0)\n",
    "        self.queue.pop(-1)\n",
    "        self.sink(0)\n",
    "        return res\n",
    "        \n",
    "    def getMin(self):\n",
    "        return self.queue[0]"
   ]
  },
  {
   "cell_type": "code",
   "execution_count": 49,
   "metadata": {},
   "outputs": [
    {
     "name": "stdout",
     "output_type": "stream",
     "text": [
      "[4, 5, 6, 8, 7]\n",
      "4 4\n",
      "5 3\n",
      "6 2\n",
      "7 1\n",
      "8 0\n"
     ]
    }
   ],
   "source": [
    "nums = [5,7,6,8,4]\n",
    "minPq = MinPq()\n",
    "for num in nums:\n",
    "    minPq.push(num)\n",
    "print(minPq.queue)\n",
    "for i in range(5):\n",
    "    print(minPq.delMin(),minPq.size())"
   ]
  },
  {
   "cell_type": "code",
   "execution_count": 50,
   "metadata": {},
   "outputs": [],
   "source": [
    "class MedianFinder:\n",
    "    def __init__(self):\n",
    "        self.small = MaxPq()\n",
    "        self.larger = MinPq()\n",
    "    def findMedian(self):\n",
    "        if self.small.size() > self.larger.size():\n",
    "            return self.small.getMax()\n",
    "        elif self.small.size() < self.larger.size():\n",
    "            return self.larger.getMin()\n",
    "        else:\n",
    "            return (self.larger.getMin() + self.small.getMax())//2\n",
    "    def add(self,num):\n",
    "        # 想要往small中添加元素，先给larger添加元素，然后将larger的最小元素给\n",
    "        if self.small.size() <= self.larger.size():\n",
    "            self.larger.push(num)\n",
    "            pop_min = self.larger.delMin()\n",
    "            self.small.push(pop_min)\n",
    "        else:\n",
    "            # 向larger中添加元素\n",
    "            self.small.push(num)\n",
    "            pop_max = self.small.delMax()\n",
    "            self.larger.push(pop_max)"
   ]
  },
  {
   "cell_type": "code",
   "execution_count": 51,
   "metadata": {},
   "outputs": [
    {
     "data": {
      "text/plain": [
       "5"
      ]
     },
     "execution_count": 51,
     "metadata": {},
     "output_type": "execute_result"
    }
   ],
   "source": [
    "mf = MedianFinder()\n",
    "nums = [4,6,7,8,1,3]\n",
    "for num in nums:\n",
    "    mf.add(num)\n",
    "mf.findMedian()"
   ]
  },
  {
   "cell_type": "code",
   "execution_count": 52,
   "metadata": {},
   "outputs": [
    {
     "name": "stdout",
     "output_type": "stream",
     "text": [
      "[4, 3, 1]\n"
     ]
    }
   ],
   "source": [
    "print(mf.small.queue)"
   ]
  },
  {
   "cell_type": "code",
   "execution_count": 53,
   "metadata": {},
   "outputs": [
    {
     "name": "stdout",
     "output_type": "stream",
     "text": [
      "[6, 8, 7]\n"
     ]
    }
   ],
   "source": [
    "print(mf.larger.queue)"
   ]
  }
 ],
 "metadata": {
  "kernelspec": {
   "display_name": "Python 3",
   "language": "python",
   "name": "python3"
  },
  "language_info": {
   "codemirror_mode": {
    "name": "ipython",
    "version": 3
   },
   "file_extension": ".py",
   "mimetype": "text/x-python",
   "name": "python",
   "nbconvert_exporter": "python",
   "pygments_lexer": "ipython3",
   "version": "3.7.4"
  }
 },
 "nbformat": 4,
 "nbformat_minor": 4
}
