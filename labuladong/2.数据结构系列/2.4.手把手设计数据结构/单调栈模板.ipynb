{
 "cells": [
  {
   "cell_type": "code",
   "execution_count": 7,
   "metadata": {},
   "outputs": [],
   "source": [
    "# 单调栈，是指栈中的元素有序，方便处理下一个最大元素问题\n",
    "# 1.leetcode 496 下一个最大元素\n",
    "# 思路：放到栈中的数据，如果下一个元素比栈顶数据大，那么依次弹出栈顶元素\n",
    "def nextGreat(nums):\n",
    "    queue = []\n",
    "    length = len(nums)\n",
    "    res = [-1 for _ in range(length)]\n",
    "    for i in range(length):\n",
    "        if len(queue) == 0:\n",
    "            queue.append((i,nums[i]))\n",
    "        else:\n",
    "            if nums[i] <= queue[-1][1]:\n",
    "                queue.append((i,nums[i]))\n",
    "            else:\n",
    "                while len(queue) > 0 and queue[-1][1] < nums[i]:\n",
    "                    idx = queue.pop(-1)[0]\n",
    "                    res[idx] = nums[i]\n",
    "                queue.append((i,nums[i]))\n",
    "    return res"
   ]
  },
  {
   "cell_type": "code",
   "execution_count": 8,
   "metadata": {},
   "outputs": [
    {
     "data": {
      "text/plain": [
       "[4, 2, 4, -1, -1]"
      ]
     },
     "execution_count": 8,
     "metadata": {},
     "output_type": "execute_result"
    }
   ],
   "source": [
    "nums = [2,1,2,4,3]\n",
    "nextGreat(nums)"
   ]
  },
  {
   "cell_type": "code",
   "execution_count": 17,
   "metadata": {},
   "outputs": [],
   "source": [
    "# 2.等几天能等到下一个更暖和的天气\n",
    "# T = [73,74,75,71,69,76]，你返回[1,1,3,2,1,0]\n",
    "def waitDay(tems):\n",
    "    length = len(tems)\n",
    "    res = [0 for _ in range(length)]\n",
    "    queue = []\n",
    "    for i in range(length):\n",
    "        if len(queue) == 0:\n",
    "            queue.append((i,tems[i]))\n",
    "        else:\n",
    "            while len(queue) > 0 and queue[-1][1] < tems[i]:\n",
    "                idx = queue.pop(-1)[0]\n",
    "                res[idx] = i - idx\n",
    "            queue.append((i,tems[i]))\n",
    "    return res"
   ]
  },
  {
   "cell_type": "code",
   "execution_count": 18,
   "metadata": {},
   "outputs": [
    {
     "data": {
      "text/plain": [
       "[1, 1, 3, 2, 1, 0]"
      ]
     },
     "execution_count": 18,
     "metadata": {},
     "output_type": "execute_result"
    }
   ],
   "source": [
    "tems = [73,74,75,71,69,76]\n",
    "waitDay(tems)"
   ]
  },
  {
   "cell_type": "code",
   "execution_count": 31,
   "metadata": {},
   "outputs": [],
   "source": [
    "# 3.处理环形数组\n",
    "# 比如输入一个数组[2,1,2,4,3]，你返回数组[4,2,4,-1,4]\n",
    "# 思路：环形数组的话，可以输入两遍数组，这样就可以找到了\n",
    "def nextGreatCircle(nums):\n",
    "    length = len(nums)\n",
    "    res = [-1 for _ in range(length)]\n",
    "    queue = []\n",
    "    for i in range(2 * length):\n",
    "        idx = i % length\n",
    "        if len(queue) == 0:\n",
    "            queue.append((i,nums[idx]))\n",
    "        else:\n",
    "            while len(queue) > 0 and queue[-1][1] < nums[idx]:\n",
    "                item_id = queue.pop(-1)[0]\n",
    "                res[item_id%length] = nums[idx]\n",
    "            queue.append((i,nums[idx]))\n",
    "    return res            "
   ]
  },
  {
   "cell_type": "code",
   "execution_count": 32,
   "metadata": {},
   "outputs": [
    {
     "data": {
      "text/plain": [
       "[4, 2, 4, -1, 4]"
      ]
     },
     "execution_count": 32,
     "metadata": {},
     "output_type": "execute_result"
    }
   ],
   "source": [
    "nums = [2,1,2,4,3]\n",
    "nextGreatCircle(nums)"
   ]
  },
  {
   "cell_type": "code",
   "execution_count": null,
   "metadata": {},
   "outputs": [],
   "source": []
  }
 ],
 "metadata": {
  "kernelspec": {
   "display_name": "Python 3",
   "language": "python",
   "name": "python3"
  },
  "language_info": {
   "codemirror_mode": {
    "name": "ipython",
    "version": 3
   },
   "file_extension": ".py",
   "mimetype": "text/x-python",
   "name": "python",
   "nbconvert_exporter": "python",
   "pygments_lexer": "ipython3",
   "version": "3.7.4"
  }
 },
 "nbformat": 4,
 "nbformat_minor": 4
}
