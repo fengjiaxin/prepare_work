{
 "cells": [
  {
   "cell_type": "code",
   "execution_count": 1,
   "metadata": {},
   "outputs": [],
   "source": [
    "# LFU策略：淘汰访问频次最低的数据，如果有多个，淘汰最久未使用的key\n",
    "# 总结需要存储的东西它\n",
    "# 1.key value \n",
    "# 2.key freq\n",
    "# 3.freq ,list\n",
    "# 其中freq:list需要满足一个条件，可以在o(1)时间删除一个元素"
   ]
  },
  {
   "cell_type": "code",
   "execution_count": 6,
   "metadata": {},
   "outputs": [],
   "source": [
    "class LFUCache:\n",
    "    def __init__(self,cap):\n",
    "        self.cap = cap\n",
    "        self.min_freq = 0\n",
    "        self.k2v = {}\n",
    "        self.k2f = {}\n",
    "        self.f2l = {}\n",
    "        \n",
    "    def get(self,key):\n",
    "        if key not in self.k2v:\n",
    "            return -1\n",
    "        else:\n",
    "            # 增加key对应的freq\n",
    "            self.increaseFreqKey(key)\n",
    "            return self.k2v[key]\n",
    "        \n",
    "    def put(self,key,value):\n",
    "        if key in self.k2v:\n",
    "            self.k2v[key] = value\n",
    "            self.increaseFreqKey(key)\n",
    "            \n",
    "        else:\n",
    "            if len(self.k2v) == self.cap:\n",
    "                self.removeMinFreq()\n",
    "            self.k2v[key] = value\n",
    "            self.k2f[key] = 1\n",
    "            if 1 not in self.f2l:\n",
    "                self.f2l[1] = []\n",
    "            self.f2l[1].append(key)\n",
    "            self.min_freq = 1\n",
    "            \n",
    "    def increaseFreqKey(self,key):\n",
    "        curr_freq = self.k2f[key]\n",
    "        self.k2f[key] += 1\n",
    "        prev_list = self.f2l[curr_freq]\n",
    "        prev_list.remove(key)\n",
    "        if len(prev_list) == 0:\n",
    "            del self.f2l[curr_freq]\n",
    "            if curr_freq == self.min_freq:\n",
    "                self.min_freq += 1\n",
    "    \n",
    "    def removeMinFreq(self):\n",
    "        min_list = self.f2l[self.min_freq]\n",
    "        key = min_list.pop(0)\n",
    "        if len(min_list) == 0:\n",
    "            del self.f2l[self.min_freq]\n",
    "        del self.k2v[key]\n",
    "        del self.k2f[key]"
   ]
  },
  {
   "cell_type": "code",
   "execution_count": 7,
   "metadata": {},
   "outputs": [
    {
     "name": "stdout",
     "output_type": "stream",
     "text": [
      "10\n",
      "-1\n"
     ]
    }
   ],
   "source": [
    "cache = LFUCache(2);\n",
    "\n",
    "# // 插入两对 (key, val)，对应的 freq 为 1\n",
    "cache.put(1, 10);\n",
    "cache.put(2, 20);\n",
    "\n",
    "# // 查询 key 为 1 对应的 val\n",
    "# // 返回 10，同时键 1 对应的 freq 变为 2\n",
    "print(cache.get(1));\n",
    "\n",
    "# // 容量已满，淘汰 freq 最小的键 2\n",
    "# // 插入键值对 (3, 30)，对应的 freq 为 1\n",
    "cache.put(3, 30);   \n",
    "\n",
    "# // 键 2 已经被淘汰删除，返回 -1\n",
    "print(cache.get(2)); "
   ]
  }
 ],
 "metadata": {
  "kernelspec": {
   "display_name": "Python 3",
   "language": "python",
   "name": "python3"
  },
  "language_info": {
   "codemirror_mode": {
    "name": "ipython",
    "version": 3
   },
   "file_extension": ".py",
   "mimetype": "text/x-python",
   "name": "python",
   "nbconvert_exporter": "python",
   "pygments_lexer": "ipython3",
   "version": "3.6.10"
  }
 },
 "nbformat": 4,
 "nbformat_minor": 4
}
