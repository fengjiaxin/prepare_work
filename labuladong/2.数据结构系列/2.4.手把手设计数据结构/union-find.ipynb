{
 "cells": [
  {
   "cell_type": "code",
   "execution_count": 1,
   "metadata": {},
   "outputs": [],
   "source": [
    "# 并查集\n",
    "# 就是连接几个节点\n",
    "# 判断两个节点是否connect\n",
    "# 合并两个节点\n",
    "# 其实就是不断把树进行区分，合并成很多个不同的小堆，每个小堆有个节点"
   ]
  },
  {
   "cell_type": "code",
   "execution_count": 3,
   "metadata": {},
   "outputs": [],
   "source": [
    "class UF:\n",
    "    def __init__(self,n):\n",
    "        self.count = n\n",
    "        self.parent = [i for i in range(n)]\n",
    "        \n",
    "    def find(self,x):\n",
    "        while x != parent[x]:\n",
    "            x = parent[x]\n",
    "        return x\n",
    "    \n",
    "    def union(self,p,q):\n",
    "        rootP = self.find(p)\n",
    "        rottQ = self.find(q)\n",
    "        if rootP != rootQ:\n",
    "            self.parent[rootP] = rootQ\n",
    "            self.count -= 1\n",
    "    def count(self):\n",
    "        return self.count\n",
    "    \n",
    "    def connected(self,p,q):\n",
    "        return self.find(p) == self.find(q)"
   ]
  },
  {
   "cell_type": "code",
   "execution_count": 4,
   "metadata": {},
   "outputs": [],
   "source": [
    "# 这个有什么问题\n",
    "# 第一个就是union的时候是随便union的，如果把小的树放到大的树根下多好\n",
    "# 那么就需要加一个size 字段，表示i为根的树堆的个数\n",
    "# 第2个，如果我在find的过程中，跳这查询，如果x != parent[x],那么如果让x的父节点直接指向parent[x]的父节点\n",
    "# 在一定程度上压缩路径\n",
    "# a - > b -> c\n",
    "class UF1:\n",
    "    def __init__(self,n):\n",
    "        self.count = n\n",
    "        self.parent = [i for i in range(n)]\n",
    "        self.size = [1 for _ in range(n)]\n",
    "        \n",
    "    def find(self,x):\n",
    "        while x != self.parent[x]:\n",
    "            self.parent[x] = self.parent[parent[x]]\n",
    "            x = self.parent[x]\n",
    "        return x\n",
    "    \n",
    "    def union(self,p,q):\n",
    "        rootP = self.find(p)\n",
    "        rootQ = self.find(q)\n",
    "        if rootP != rootQ:\n",
    "            if self.size[rootP] < self.size[rootQ]:\n",
    "                self.parent[rootP] = rootQ\n",
    "                self.size[rootQ] += self.size[rootP]\n",
    "            else:\n",
    "                self.parent[rootQ] = rootP\n",
    "                self.size[rootP] += self.size[rootQ]\n",
    "    def connected(self,p,q):\n",
    "        return self.find(p) == self.find(q)"
   ]
  }
 ],
 "metadata": {
  "kernelspec": {
   "display_name": "Python 3",
   "language": "python",
   "name": "python3"
  },
  "language_info": {
   "codemirror_mode": {
    "name": "ipython",
    "version": 3
   },
   "file_extension": ".py",
   "mimetype": "text/x-python",
   "name": "python",
   "nbconvert_exporter": "python",
   "pygments_lexer": "ipython3",
   "version": "3.6.10"
  }
 },
 "nbformat": 4,
 "nbformat_minor": 4
}
