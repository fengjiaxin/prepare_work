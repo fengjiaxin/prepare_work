{
 "cells": [
  {
   "cell_type": "code",
   "execution_count": 10,
   "metadata": {},
   "outputs": [],
   "source": [
    "# 最大二叉堆\n",
    "# 其实有几个核心的方法\n",
    "class MaxPQ:\n",
    "    def __init__(self,cap):\n",
    "        self.queue = [None for _ in range(cap)]\n",
    "        self.n = 0\n",
    "        \n",
    "    def left(self,k):\n",
    "        return 2 * k + 1\n",
    "    \n",
    "    def right(self,k):\n",
    "        return 2 * k + 2\n",
    "    \n",
    "    def parent(self,k):\n",
    "        return (k-1)//2\n",
    "    \n",
    "    def less(self,x,y):\n",
    "        return True if self.queue[x] < self.queue[y] else False\n",
    "    \n",
    "    def exch(self,i,j):\n",
    "        temp = self.queue[i]\n",
    "        self.queue[i] = self.queue[j]\n",
    "        self.queue[j] = temp\n",
    "        \n",
    "    # 上浮\n",
    "    def swim(self,k):\n",
    "        while k > 0 and self.less(self.parent(k),k):\n",
    "            self.exch(k,self.parent(k))\n",
    "            k = self.parent(k)\n",
    "            \n",
    "    # 下沉\n",
    "    def sink(self,k):\n",
    "        while self.left(k) < self.n:\n",
    "            bigger_index = self.left(k)\n",
    "            # 找到左右子节点哪个最大\n",
    "            if self.right(k) < self.n and self.less(bigger_index,self.right(k)):\n",
    "                bigger_index = self.right(k)\n",
    "            if self.less(bigger_index,k):\n",
    "                break\n",
    "            self.exch(bigger_index,k)\n",
    "            k = bigger_index\n",
    "            \n",
    "    # 插入元素\n",
    "    def push(self,num):\n",
    "        self.queue[self.n] = num\n",
    "        self.swim(self.n)\n",
    "        self.n += 1\n",
    "    \n",
    "    # 删除最大元素\n",
    "    def delMax(self):\n",
    "        res = self.queue[0]\n",
    "        self.n -= 1\n",
    "        self.exch(self.n,0)\n",
    "        self.sink(0)\n",
    "        return res        "
   ]
  },
  {
   "cell_type": "code",
   "execution_count": 11,
   "metadata": {},
   "outputs": [
    {
     "name": "stdout",
     "output_type": "stream",
     "text": [
      "8\n",
      "7\n",
      "6\n",
      "5\n",
      "4\n"
     ]
    }
   ],
   "source": [
    "nums = [5,7,6,8,4]\n",
    "maxPq = MaxPQ(5)\n",
    "for num in nums:\n",
    "    maxPq.push(num)\n",
    "for i in range(5):\n",
    "    print(maxPq.delMax())"
   ]
  },
  {
   "cell_type": "code",
   "execution_count": null,
   "metadata": {},
   "outputs": [],
   "source": []
  }
 ],
 "metadata": {
  "kernelspec": {
   "display_name": "Python 3",
   "language": "python",
   "name": "python3"
  },
  "language_info": {
   "codemirror_mode": {
    "name": "ipython",
    "version": 3
   },
   "file_extension": ".py",
   "mimetype": "text/x-python",
   "name": "python",
   "nbconvert_exporter": "python",
   "pygments_lexer": "ipython3",
   "version": "3.7.4"
  }
 },
 "nbformat": 4,
 "nbformat_minor": 4
}
