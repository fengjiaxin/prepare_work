{
 "cells": [
  {
   "cell_type": "code",
   "execution_count": 1,
   "metadata": {},
   "outputs": [],
   "source": [
    "# 寻找重复子树\n",
    "# 两个树重复指的是树结构和值是一样的\n",
    "# 那么判断两个树重复，那得知道我这个树到底什么样\n",
    "# 可以将一个子树变成一个字符串\n",
    "# 就通过字符串的拼接就行了\n",
    "def treeStr(root):\n",
    "    if root is None:\n",
    "        return \"#\"\n",
    "    left_str = treeStr(root.left)\n",
    "    right_str = treeStr(root.right)\n",
    "    return left_str + right_str + str(root.val)\n",
    "\n",
    "# 那接下来就从root开始遍历就行了\n",
    "# 怎么保证unique呢\n",
    "# 记录每个树的频次，如果再遇到这个并且freq==1,那么可以将该子树加进去"
   ]
  },
  {
   "cell_type": "code",
   "execution_count": null,
   "metadata": {},
   "outputs": [],
   "source": [
    "res = []\n",
    "memo = {}\n",
    "def findDup(root):\n",
    "    traverse(root)\n",
    "    reutrn res\n",
    "    \n",
    "def traverse(root):\n",
    "    if root is None:\n",
    "        return \"#\"\n",
    "    left_str = traverse(root.left)\n",
    "    right_str = traverse(root.right)\n",
    "    val_str = left_str + right_str + str(root.val)\n",
    "    freq = memo.get(val_str,0)\n",
    "    if freq == 1:\n",
    "        res.append(root)\n",
    "    memo[val_str] = freq + 1\n",
    "    return val_str\n",
    "    "
   ]
  }
 ],
 "metadata": {
  "kernelspec": {
   "display_name": "Python 3",
   "language": "python",
   "name": "python3"
  },
  "language_info": {
   "codemirror_mode": {
    "name": "ipython",
    "version": 3
   },
   "file_extension": ".py",
   "mimetype": "text/x-python",
   "name": "python",
   "nbconvert_exporter": "python",
   "pygments_lexer": "ipython3",
   "version": "3.6.10"
  }
 },
 "nbformat": 4,
 "nbformat_minor": 4
}
