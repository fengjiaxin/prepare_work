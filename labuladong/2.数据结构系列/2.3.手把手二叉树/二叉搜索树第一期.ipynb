{
 "cells": [
  {
   "cell_type": "code",
   "execution_count": 1,
   "metadata": {},
   "outputs": [],
   "source": [
    "# 二叉搜索树有两个重要特征\n",
    "# 1.二叉搜索树的左子树的值 < root节点 < 二叉搜索树的右子树的节点\n",
    "# 2.root的left和right都是二叉搜索树\n",
    "\n",
    "# 还有一个性质：中序遍历得到结果是有序的"
   ]
  },
  {
   "cell_type": "code",
   "execution_count": 2,
   "metadata": {},
   "outputs": [],
   "source": [
    "# 1.二叉搜索树中的第k小的元素\n",
    "# 中序遍历是有序的，可以根据这个特性得到第k小的元素\n",
    "def kthSmall(root,k):\n",
    "    res = 0\n",
    "    rank = 0\n",
    "    def helper(root):\n",
    "        if root is None:\n",
    "            return\n",
    "        helper(root.left)\n",
    "        rank += 1\n",
    "        if rank == k:\n",
    "            res = root.val\n",
    "            return\n",
    "        helper(root.right)\n",
    "    helper(root)\n",
    "    return res"
   ]
  },
  {
   "cell_type": "code",
   "execution_count": null,
   "metadata": {},
   "outputs": [],
   "source": [
    "# 2.bst转化为累加树\n",
    "# 还是中序遍历，但是是降序排列\n",
    "def convert(root):\n",
    "    s = 0\n",
    "    def helper(root):\n",
    "        if root is None:\n",
    "            return\n",
    "        helper(root.right)\n",
    "        s += root.val\n",
    "        root.val = s\n",
    "        helper(root.left)\n",
    "    helper(root)\n",
    "    return root"
   ]
  }
 ],
 "metadata": {
  "kernelspec": {
   "display_name": "Python 3",
   "language": "python",
   "name": "python3"
  },
  "language_info": {
   "codemirror_mode": {
    "name": "ipython",
    "version": 3
   },
   "file_extension": ".py",
   "mimetype": "text/x-python",
   "name": "python",
   "nbconvert_exporter": "python",
   "pygments_lexer": "ipython3",
   "version": "3.6.10"
  }
 },
 "nbformat": 4,
 "nbformat_minor": 4
}
