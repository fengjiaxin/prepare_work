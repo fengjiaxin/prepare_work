{
 "cells": [
  {
   "cell_type": "code",
   "execution_count": 1,
   "metadata": {},
   "outputs": [],
   "source": [
    "# 二叉树就是递归调用，涉及到前序中序后序\n",
    "# 快速排序就是前序遍历\n",
    "# 归并排序就是后序遍历\n",
    "\n",
    "# 怎么理解\n",
    "# 1.快速排序\n",
    "def quickSort(nums,low,high):\n",
    "    index = partition(nums,low,high)\n",
    "    quickSort(low,index - 1)\n",
    "    quickSort(index + 1,high)\n",
    "# 先固定一个位置，然后递归处理左右子节点\n",
    "\n",
    "# 2.归并排序\n",
    "def mergeSort(nums,low,high):\n",
    "    mid = low + (high - low) // 2\n",
    "    mergeSort(nums,low,mid)\n",
    "    mergeSort(nums,mid+1,high)\n",
    "    merge(nums,low,mid,high)\n",
    "    "
   ]
  },
  {
   "cell_type": "code",
   "execution_count": 2,
   "metadata": {},
   "outputs": [],
   "source": [
    "# 写递归算法的关键是要明确函数的「定义」是什么，\n",
    "# 然后相信这个定义，利用这个定义推导最终结果，绝不要试图跳入递归。"
   ]
  },
  {
   "cell_type": "code",
   "execution_count": 3,
   "metadata": {},
   "outputs": [],
   "source": [
    "# 1.翻转二叉树\n",
    "def mirror(root):\n",
    "    if root is None:\n",
    "        return root\n",
    "    temp = root.left\n",
    "    root.left = root.right\n",
    "    root.right = temp\n",
    "    mirror(root.left)\n",
    "    mirror(root.right)\n",
    "    return root"
   ]
  },
  {
   "cell_type": "code",
   "execution_count": 4,
   "metadata": {},
   "outputs": [],
   "source": [
    "# 2.填充每一个节点的下一个右侧节点\n",
    "# 给定一个完美二叉树\n",
    "\n",
    "def connectedTwo(a,b):\n",
    "    if a is None or b is None:\n",
    "        return\n",
    "    a.next = b\n",
    "    connectedTwo(a.left,a.right)\n",
    "    connectedTwo(b.left,b.right)\n",
    "    connectedTwo(a.right,b.left)\n",
    "\n",
    "def connect(root):\n",
    "    if root is None:\n",
    "        return root\n",
    "    connectedTwo(root.left,root.right)\n",
    "    return root"
   ]
  },
  {
   "cell_type": "code",
   "execution_count": 5,
   "metadata": {},
   "outputs": [],
   "source": [
    "# 3.二叉树展开为链表\n",
    "# 怎么做，先把root.left展开，然后把root.right展开\n",
    "# 把root.left接到root.right\n",
    "# 然后把right节点接到root的最right的节点上\n",
    "def flatten(root):\n",
    "    if root is None:\n",
    "        return \n",
    "    flatten(root.left)\n",
    "    flatten(root.right)\n",
    "    left = root.left\n",
    "    right = root.right\n",
    "    root.left = None\n",
    "    root.right = left\n",
    "    node = root\n",
    "    while node.right:\n",
    "        node = node.right\n",
    "    node.right = right\n",
    "\n",
    "    "
   ]
  },
  {
   "cell_type": "code",
   "execution_count": null,
   "metadata": {},
   "outputs": [],
   "source": []
  }
 ],
 "metadata": {
  "kernelspec": {
   "display_name": "Python 3",
   "language": "python",
   "name": "python3"
  },
  "language_info": {
   "codemirror_mode": {
    "name": "ipython",
    "version": 3
   },
   "file_extension": ".py",
   "mimetype": "text/x-python",
   "name": "python",
   "nbconvert_exporter": "python",
   "pygments_lexer": "ipython3",
   "version": "3.6.10"
  }
 },
 "nbformat": 4,
 "nbformat_minor": 4
}
