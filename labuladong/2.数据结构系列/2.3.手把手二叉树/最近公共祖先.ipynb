{
 "cells": [
  {
   "cell_type": "code",
   "execution_count": 1,
   "metadata": {},
   "outputs": [],
   "source": [
    "# 最近公共祖先问题\n",
    "# 这个应该就是自底向上的解法\n",
    "# 假设root是p和q的最近公共祖先的话\n",
    "# 仔细思考有三种可能\n",
    "# 1.p在root.left中 && q在root.right中 || q在root.left中 && p在root.right中\n",
    "# 2.root == p,且q在root的子树中，或者root == q，且p在root的子树中\n",
    "\n",
    "# 那么就开始定义递归的函数了\n",
    "# 1.如果p,q在root的子树中，返回p,q的最近公共祖先\n",
    "# 2.如果p,q中的一个在root的子树中，返回该节点\n",
    "# 3.如果p,q都不在root的子树中，返回None"
   ]
  },
  {
   "cell_type": "code",
   "execution_count": null,
   "metadata": {},
   "outputs": [],
   "source": [
    "# 思考后序遍历的话，q如果在p的子树中，碰到p就返回了，不会在往下遍历了，q同理\n",
    "def lowestAns(root,p,q):\n",
    "    if root is None:\n",
    "        return root\n",
    "    if root == p or root == q:\n",
    "        return root\n",
    "    left = lowestAns(root.left,p,q)\n",
    "    right = lowestAns(root.right,p,q)\n",
    "    if left and right:\n",
    "        return root\n",
    "    return left is left else right"
   ]
  }
 ],
 "metadata": {
  "kernelspec": {
   "display_name": "Python 3",
   "language": "python",
   "name": "python3"
  },
  "language_info": {
   "codemirror_mode": {
    "name": "ipython",
    "version": 3
   },
   "file_extension": ".py",
   "mimetype": "text/x-python",
   "name": "python",
   "nbconvert_exporter": "python",
   "pygments_lexer": "ipython3",
   "version": "3.6.10"
  }
 },
 "nbformat": 4,
 "nbformat_minor": 4
}
