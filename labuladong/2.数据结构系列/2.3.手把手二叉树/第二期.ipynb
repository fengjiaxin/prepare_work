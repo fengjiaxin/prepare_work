{
 "cells": [
  {
   "cell_type": "code",
   "execution_count": 1,
   "metadata": {},
   "outputs": [],
   "source": [
    "# 1.构建最大二叉树\n",
    "# 二叉树中的根是数组中的最大元素\n",
    "# 左子树是通过数组中最大元素的左边数组构建的\n",
    "# 右子树是通过数组中最大元素的右边数据构建的\n",
    "def constructTree(nums):\n",
    "    length = len(nums)\n",
    "    if length == 0:\n",
    "        return None\n",
    "    max_val = nums[0]\n",
    "    max_idx = 0\n",
    "    for i in range(1,length):\n",
    "        if nums[i] > max_val:\n",
    "            max_val = nums[i]\n",
    "            max_idx = i\n",
    "    root = Node(max_val)\n",
    "    root.left = constructTree(nums[:max_idx])\n",
    "    root.right = constructTree(nums[max_idx + 1:])\n",
    "    return root"
   ]
  }
 ],
 "metadata": {
  "kernelspec": {
   "display_name": "Python 3",
   "language": "python",
   "name": "python3"
  },
  "language_info": {
   "codemirror_mode": {
    "name": "ipython",
    "version": 3
   },
   "file_extension": ".py",
   "mimetype": "text/x-python",
   "name": "python",
   "nbconvert_exporter": "python",
   "pygments_lexer": "ipython3",
   "version": "3.6.10"
  }
 },
 "nbformat": 4,
 "nbformat_minor": 4
}
