{
 "cells": [
  {
   "cell_type": "code",
   "execution_count": 1,
   "metadata": {},
   "outputs": [],
   "source": [
    "# 将树结构变成字符串\n",
    "# 然后根据字符串构建树\n",
    "\n",
    "# 具体怎么操作呢？\n",
    "# 先序遍历 ,遇到None 用#表示\n",
    "# 然后怎么反序列化呢，第一个元素肯定是root节点"
   ]
  },
  {
   "cell_type": "code",
   "execution_count": 2,
   "metadata": {},
   "outputs": [],
   "source": [
    "class codeC:\n",
    "    def __init__(self):\n",
    "        self.NULL = -1\n",
    "    def seralize(root):\n",
    "        res = []\n",
    "        def helper(root):\n",
    "            if root is None:\n",
    "                res.append(self.NULL)\n",
    "                return \n",
    "            res.append(root.val)\n",
    "            helper(root.left)\n",
    "            helper(root.right)\n",
    "        helper(root)\n",
    "        return \",\".join(res)\n",
    "    \n",
    "    def desralize(s):\n",
    "        nums = map(lambda x:int(x),s.split(\",\"))\n",
    "        def helper(nums):\n",
    "            if len(nums) == 0:\n",
    "                return None\n",
    "            first = nums.pop(0)\n",
    "            if first == self.NULL:\n",
    "                return None\n",
    "            root = Node(first)\n",
    "            root.left = helper(nums)\n",
    "            root.right = helper(nums)\n",
    "            return root\n",
    "        return helper(nums)\n",
    "        "
   ]
  }
 ],
 "metadata": {
  "kernelspec": {
   "display_name": "Python 3",
   "language": "python",
   "name": "python3"
  },
  "language_info": {
   "codemirror_mode": {
    "name": "ipython",
    "version": 3
   },
   "file_extension": ".py",
   "mimetype": "text/x-python",
   "name": "python",
   "nbconvert_exporter": "python",
   "pygments_lexer": "ipython3",
   "version": "3.6.10"
  }
 },
 "nbformat": 4,
 "nbformat_minor": 4
}
