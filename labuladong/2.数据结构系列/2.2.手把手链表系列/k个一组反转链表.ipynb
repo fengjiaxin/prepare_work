{
 "cells": [
  {
   "cell_type": "code",
   "execution_count": 1,
   "metadata": {},
   "outputs": [],
   "source": [
    "# k个一组反转链表\n",
    "# 如果数量不够k个，就不反转\n",
    "# 那么首先要找到a,b节点，其中需要反转[a,b)之间的节点\n",
    "# 假设返回节点为newHead,然后继续递归\n",
    "# 1 -》 2 -》 3 -》 4 -》 5\n",
    "# 反转前2个节点的话 2 -1 ，然后newHead是2，head.next = reverse(3,2)\n",
    "# 那么有没有basecase呢\n",
    "# 如果元素数量不够k个，就直接返回head\n",
    "# 那么需要几个函数呢\n",
    "# 1.首先需要反转[a,b)的节点\n",
    "# 2.然后就是递归函数了"
   ]
  },
  {
   "cell_type": "code",
   "execution_count": 2,
   "metadata": {},
   "outputs": [],
   "source": [
    "def reverse(a,b):\n",
    "    pre = None\n",
    "    curr = a\n",
    "    nxt = a\n",
    "    while curr != b:\n",
    "        nxt = curr.next\n",
    "        cur.next = prev\n",
    "        prev = cur\n",
    "        cur = nxt\n",
    "    return pre"
   ]
  },
  {
   "cell_type": "code",
   "execution_count": 3,
   "metadata": {},
   "outputs": [],
   "source": [
    "def reverseK(head,k):\n",
    "    if head is None:\n",
    "        return head\n",
    "    a = head\n",
    "    b = head\n",
    "    for i in range(k):\n",
    "        if b is None:\n",
    "            return head\n",
    "        b = b.next\n",
    "    newNode = reverse(a,b)\n",
    "    a.next = reverseK(b,k)\n",
    "    return newNode\n",
    "    "
   ]
  }
 ],
 "metadata": {
  "kernelspec": {
   "display_name": "Python 3",
   "language": "python",
   "name": "python3"
  },
  "language_info": {
   "codemirror_mode": {
    "name": "ipython",
    "version": 3
   },
   "file_extension": ".py",
   "mimetype": "text/x-python",
   "name": "python",
   "nbconvert_exporter": "python",
   "pygments_lexer": "ipython3",
   "version": "3.6.10"
  }
 },
 "nbformat": 4,
 "nbformat_minor": 4
}
