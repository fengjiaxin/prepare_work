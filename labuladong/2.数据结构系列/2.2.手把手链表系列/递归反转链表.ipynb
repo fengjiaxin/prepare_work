{
 "cells": [
  {
   "cell_type": "code",
   "execution_count": 1,
   "metadata": {},
   "outputs": [],
   "source": [
    "# 目标：反转单链表的一部分\n",
    "# 1 -> 2 -> 3 -> 4 -> 5 -> null  \n",
    "# m = 2 n = 4\n",
    "# 1 -> 4 -> 3 -> 2 -> 5 -> null\n",
    "# 有点难，一步一步来吧"
   ]
  },
  {
   "cell_type": "code",
   "execution_count": 2,
   "metadata": {},
   "outputs": [],
   "source": [
    "class Node:\n",
    "    def __init__(self,val):\n",
    "        self.val = val\n",
    "        self.next = None"
   ]
  },
  {
   "cell_type": "code",
   "execution_count": 3,
   "metadata": {},
   "outputs": [],
   "source": [
    "# 1.递归反转整个链表\n",
    "# 假设从2开始反转，那么反转后就变成了 5 -> 4 -> 3 -> 2  <-1\n",
    "# base case 如果head.next == None:return head"
   ]
  },
  {
   "cell_type": "code",
   "execution_count": 4,
   "metadata": {},
   "outputs": [],
   "source": [
    "def reverse(head):\n",
    "    if head.next is None:\n",
    "        return head\n",
    "    last = reverse(head.next)\n",
    "    head.next.next = head\n",
    "    head.next  = None\n",
    "    return last"
   ]
  },
  {
   "cell_type": "code",
   "execution_count": 5,
   "metadata": {},
   "outputs": [],
   "source": [
    "# 2.反转链表的前n个节点\n",
    "# 其实关键的是怎么确定第n+1个节点\n",
    "# base case变成如果反转head 开始的前1个节点，那么head.next就是后继节点了\n",
    "successor = None\n",
    "def reverseN(head,n):\n",
    "    if n == 1:\n",
    "        successor = head.next\n",
    "        return head\n",
    "    last = reverseN(head.next,n-1)\n",
    "    head.next.next = head\n",
    "    head.next = successor\n",
    "    return last\n",
    "# 虽然写出来了，但是有点模糊"
   ]
  },
  {
   "cell_type": "code",
   "execution_count": 6,
   "metadata": {},
   "outputs": [],
   "source": [
    "# 加深理解 1 -> 2 -> 3 -> 4 -> 5 -> null\n",
    "# reverseN(head,n) -> reverse(head.next,n-1)\n",
    "# 假设需要反转1为head节点的前3个节点\n",
    "# 假设反转结束reverseN(head.next,3) \n",
    "# 对于2 -> 3 -> 4 -> 5-> null 反转后变成了 3 -> 2 -> 4 -> 5-> null\n",
    "# 除了last节点，还需要记录一个后继节点，successor = 4\n",
    "# 那么什么时候能找到后继节点呢，当n == 1的时候，不需要反转，但是可以确定了后继节点"
   ]
  },
  {
   "cell_type": "code",
   "execution_count": null,
   "metadata": {},
   "outputs": [],
   "source": [
    "# 3.反转链表 [m,n]范围的链表\n",
    "# 如果m == 1,就是转换前n个节点\n",
    "# 如果不是的话，往后移动，就变成了反转head.next,的 [m-1,n-1]\n",
    "def reverseMN(head,m,n):\n",
    "    if m == 1:\n",
    "        return reverseN(head,n)\n",
    "    else:\n",
    "        head.next = reverseMN(head.next,m-1,n-1)\n",
    "        return head"
   ]
  }
 ],
 "metadata": {
  "kernelspec": {
   "display_name": "Python 3",
   "language": "python",
   "name": "python3"
  },
  "language_info": {
   "codemirror_mode": {
    "name": "ipython",
    "version": 3
   },
   "file_extension": ".py",
   "mimetype": "text/x-python",
   "name": "python",
   "nbconvert_exporter": "python",
   "pygments_lexer": "ipython3",
   "version": "3.6.10"
  }
 },
 "nbformat": 4,
 "nbformat_minor": 4
}
