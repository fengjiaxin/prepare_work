{
 "cells": [
  {
   "cell_type": "code",
   "execution_count": null,
   "metadata": {},
   "outputs": [],
   "source": [
    "# 给定一个二叉搜索树，同时给定最小边界L 和最大边界 R。通过修剪二叉搜索树，使得所有节点的值在[L, R]中 (R>=L) 。\n",
    "# 你可能需要改变树的根节点，所以结果应当返回修剪好的二叉搜索树的新的根节点。\n",
    "\n",
    "# 如果root.val > high: 应该继续处理root的左子树\n",
    "# 如果root.val < low:应该继续处理root的右子树\n",
    "\n",
    "def trimBst(root,low,high):\n",
    "    if root is None:\n",
    "        return None\n",
    "    elif root.val < low:\n",
    "        return trimBst(root.right,low,high)\n",
    "    elif root.val  > high:\n",
    "        return trimBst(root.left,low,high)\n",
    "    else:\n",
    "        root.left = trimBst(root.left,low,high)\n",
    "        root.right = trimBst(root.right,low,high)\n",
    "        return root"
   ]
  }
 ],
 "metadata": {
  "kernelspec": {
   "display_name": "Python 3",
   "language": "python",
   "name": "python3"
  },
  "language_info": {
   "codemirror_mode": {
    "name": "ipython",
    "version": 3
   },
   "file_extension": ".py",
   "mimetype": "text/x-python",
   "name": "python",
   "nbconvert_exporter": "python",
   "pygments_lexer": "ipython3",
   "version": "3.6.10"
  }
 },
 "nbformat": 4,
 "nbformat_minor": 4
}
