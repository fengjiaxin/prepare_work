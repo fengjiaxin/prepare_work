{
 "cells": [
  {
   "cell_type": "code",
   "execution_count": 1,
   "metadata": {},
   "outputs": [],
   "source": [
    "# 二叉树是否对称\n",
    "# 输入应该是两个节点，应该是先判断左右子树，然后再判断跟节点，是后序遍历\n",
    "# 递归参数和返回值：两个根节点，返回是否对称\n",
    "# base case:1.如果都是None:true 2.如果left is None and right is not None:false\n",
    "# 3.right is None and left is not None:false 4.left and right and left.val ! right.val false\n",
    "# 单层逻辑：\n",
    "# 需要比较外层和内层\n",
    "def isSym(root):\n",
    "    def helper(a,b):\n",
    "        if a is None and b is None:\n",
    "            return True\n",
    "        if a is None and b is not None:\n",
    "            return False\n",
    "        if b is None and a is not None:\n",
    "            return False\n",
    "        if a and b and a.val != b.val:\n",
    "            return False\n",
    "        outside = helper(a.left,b.right)\n",
    "        inside = helper(a.right,b.left)\n",
    "        return inside and outside\n",
    "    return helper(root.left,root.right)"
   ]
  }
 ],
 "metadata": {
  "kernelspec": {
   "display_name": "Python 3",
   "language": "python",
   "name": "python3"
  },
  "language_info": {
   "codemirror_mode": {
    "name": "ipython",
    "version": 3
   },
   "file_extension": ".py",
   "mimetype": "text/x-python",
   "name": "python",
   "nbconvert_exporter": "python",
   "pygments_lexer": "ipython3",
   "version": "3.6.10"
  }
 },
 "nbformat": 4,
 "nbformat_minor": 4
}
