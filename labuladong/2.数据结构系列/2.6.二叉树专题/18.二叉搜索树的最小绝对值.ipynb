{
 "cells": [
  {
   "cell_type": "code",
   "execution_count": 2,
   "metadata": {},
   "outputs": [],
   "source": [
    "# 二叉搜索树的最小绝对值\n",
    "# 二叉搜索树的中序遍历是有序的，这样可以比较每两个相邻节点的最小差值，采用中序遍历\n",
    "def minVal(root):\n",
    "    pre = None\n",
    "    minVal = float(\"inf\")\n",
    "    def helper(root):\n",
    "        if root is None:\n",
    "            return\n",
    "        helper(root.left)\n",
    "        if pre is None:\n",
    "            pre = root\n",
    "        else:\n",
    "            minVal = min(minVal,root.val - pre.val)\n",
    "            pre = root\n",
    "        helper(root.right)\n",
    "    return helper(root)"
   ]
  }
 ],
 "metadata": {
  "kernelspec": {
   "display_name": "Python 3",
   "language": "python",
   "name": "python3"
  },
  "language_info": {
   "codemirror_mode": {
    "name": "ipython",
    "version": 3
   },
   "file_extension": ".py",
   "mimetype": "text/x-python",
   "name": "python",
   "nbconvert_exporter": "python",
   "pygments_lexer": "ipython3",
   "version": "3.6.10"
  }
 },
 "nbformat": 4,
 "nbformat_minor": 4
}
