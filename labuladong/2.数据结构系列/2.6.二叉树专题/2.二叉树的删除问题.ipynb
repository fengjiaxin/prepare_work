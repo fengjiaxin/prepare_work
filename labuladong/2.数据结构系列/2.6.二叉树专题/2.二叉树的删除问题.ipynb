{
 "cells": [
  {
   "cell_type": "code",
   "execution_count": 1,
   "metadata": {},
   "outputs": [],
   "source": [
    "# 也可以用递归的解法\n",
    "# 1.递归参数和返回值 参数是root节点，返回值是删除root节点后中key后的新root节点\n",
    "# 2.base case 如果是None,直接返回\n",
    "# 3.单层逻辑\n",
    "# 如果找到删除的节点\n",
    "# 3.1 如果是叶子节点，直接返回None\n",
    "# 3.2 如果节点有一个子节点是None,返回该节点的另一个子节点\n",
    "# 3.3 如果节点有两个子节点，找到root.right中最左节点，然后将root.left放到最左节点下，返回root.right"
   ]
  },
  {
   "cell_type": "code",
   "execution_count": 2,
   "metadata": {},
   "outputs": [],
   "source": [
    "def deleteTree(root,key):\n",
    "    if root is None:\n",
    "        return None\n",
    "    if root.val == key:\n",
    "        # 1.如果是叶子节点\n",
    "        if root.left is None :\n",
    "            return root.right\n",
    "        if root.right is None:\n",
    "            return root.left\n",
    "        # 如果有左右两个子节点\n",
    "        # 找到root.right中最左节点\n",
    "        curr = root.right\n",
    "        while curr.left:\n",
    "            curr = curr.left\n",
    "        curr.left = root.left\n",
    "        return root.right\n",
    "    else:\n",
    "        if root.val > key:\n",
    "            root.right = deleteTree(root.right,key)\n",
    "        else:\n",
    "            root.left = deleteTree(root.left,key)\n",
    "        return root\n",
    "            "
   ]
  },
  {
   "cell_type": "code",
   "execution_count": null,
   "metadata": {},
   "outputs": [],
   "source": []
  }
 ],
 "metadata": {
  "kernelspec": {
   "display_name": "Python 3",
   "language": "python",
   "name": "python3"
  },
  "language_info": {
   "codemirror_mode": {
    "name": "ipython",
    "version": 3
   },
   "file_extension": ".py",
   "mimetype": "text/x-python",
   "name": "python",
   "nbconvert_exporter": "python",
   "pygments_lexer": "ipython3",
   "version": "3.6.10"
  }
 },
 "nbformat": 4,
 "nbformat_minor": 4
}
