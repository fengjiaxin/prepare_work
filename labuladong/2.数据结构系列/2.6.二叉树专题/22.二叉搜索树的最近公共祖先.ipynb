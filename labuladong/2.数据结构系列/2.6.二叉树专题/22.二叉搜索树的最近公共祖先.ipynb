{
 "cells": [
  {
   "cell_type": "code",
   "execution_count": 1,
   "metadata": {},
   "outputs": [],
   "source": [
    "# 二叉搜索树\n",
    "# 参数和返回值，返回值就是如果找到p,返回p，找到q，返回q,如果root是空，返回None\n",
    "# base case:如上\n",
    "# 单层逻辑，如果p,q都比root小，去左子树找，否则去右子树找"
   ]
  },
  {
   "cell_type": "code",
   "execution_count": 2,
   "metadata": {},
   "outputs": [],
   "source": [
    "def findAns(root,p,q):\n",
    "    if root is None or root == p or root == q:\n",
    "        return root\n",
    "    if root.val < p.val and root.val < q.val:\n",
    "        return findAns(root.right,p,q)\n",
    "    if root.val > p.val and root.val > q.val:\n",
    "        return findAns(root.left,p,q)\n",
    "    return cur"
   ]
  }
 ],
 "metadata": {
  "kernelspec": {
   "display_name": "Python 3",
   "language": "python",
   "name": "python3"
  },
  "language_info": {
   "codemirror_mode": {
    "name": "ipython",
    "version": 3
   },
   "file_extension": ".py",
   "mimetype": "text/x-python",
   "name": "python",
   "nbconvert_exporter": "python",
   "pygments_lexer": "ipython3",
   "version": "3.6.10"
  }
 },
 "nbformat": 4,
 "nbformat_minor": 4
}
