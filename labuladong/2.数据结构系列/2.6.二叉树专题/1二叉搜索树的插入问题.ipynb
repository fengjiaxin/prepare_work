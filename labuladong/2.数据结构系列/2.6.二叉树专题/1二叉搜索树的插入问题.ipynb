{
 "cells": [
  {
   "cell_type": "code",
   "execution_count": 1,
   "metadata": {},
   "outputs": [],
   "source": [
    "# 这个一看就是递归\n",
    "# 应该是自顶向下的顺序，不断从上往下找，然后进行插入\n",
    "# 1.递归参数和返回值：参数就是root节点，返回值就是插入节点后的新的root节点\n",
    "# 2.base case root == None:应该返回新插入的值\n",
    "# 3.单层逻辑：\n",
    "# 3.1. bst是有序的，如果val > root.val,那么应该在root右边找，否则应该在左边找"
   ]
  },
  {
   "cell_type": "code",
   "execution_count": null,
   "metadata": {},
   "outputs": [],
   "source": [
    "def insertTree(root,key):\n",
    "    if root is None:\n",
    "        return Node(key)\n",
    "    if root.val < key:\n",
    "        root.right = insertTree(root.right,key)\n",
    "    else:\n",
    "        root.left = insertTree(root.left,key)\n",
    "    return root"
   ]
  }
 ],
 "metadata": {
  "kernelspec": {
   "display_name": "Python 3",
   "language": "python",
   "name": "python3"
  },
  "language_info": {
   "codemirror_mode": {
    "name": "ipython",
    "version": 3
   },
   "file_extension": ".py",
   "mimetype": "text/x-python",
   "name": "python",
   "nbconvert_exporter": "python",
   "pygments_lexer": "ipython3",
   "version": "3.6.10"
  }
 },
 "nbformat": 4,
 "nbformat_minor": 4
}
