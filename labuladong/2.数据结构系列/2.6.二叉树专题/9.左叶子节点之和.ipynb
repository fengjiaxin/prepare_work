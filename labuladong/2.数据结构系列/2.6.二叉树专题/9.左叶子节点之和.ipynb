{
 "cells": [
  {
   "cell_type": "code",
   "execution_count": null,
   "metadata": {},
   "outputs": [],
   "source": [
    "# 左叶子节之和\n",
    "# 应该就是递归\n",
    "# 参数和返回值：参数就是root，返回值是该root节点的左叶子节点和\n",
    "# base case:if root is None:return None\n",
    "# 单层逻辑:首先获得left和right的结果，如果该节点的左子树是叶子节点，那么加上左叶子节点的val\n",
    "def sumOfLeft(root):\n",
    "    if root is None:\n",
    "        return 0\n",
    "    left_res = sumOfLeft(root.left)\n",
    "    right_res = sumOfLeft(root.right)\n",
    "    mid_res = 0\n",
    "    if root.left and root.left.left is None and root.left.right is None:\n",
    "        mid_res = root.left.value\n",
    "    return left_res + right_res + mid_res"
   ]
  }
 ],
 "metadata": {
  "kernelspec": {
   "display_name": "Python 3",
   "language": "python",
   "name": "python3"
  },
  "language_info": {
   "codemirror_mode": {
    "name": "ipython",
    "version": 3
   },
   "file_extension": ".py",
   "mimetype": "text/x-python",
   "name": "python",
   "nbconvert_exporter": "python",
   "pygments_lexer": "ipython3",
   "version": "3.6.10"
  }
 },
 "nbformat": 4,
 "nbformat_minor": 4
}
