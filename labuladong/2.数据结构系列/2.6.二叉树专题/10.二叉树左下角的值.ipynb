{
 "cells": [
  {
   "cell_type": "code",
   "execution_count": null,
   "metadata": {},
   "outputs": [],
   "source": [
    "# 最后一行最左边的值\n",
    "# 可以用层次遍历\n",
    "def findVal(root):\n",
    "    queue = []\n",
    "    res = 0\n",
    "    queue.append(root)\n",
    "    while len(queue) > 0:\n",
    "        size = len(queue)\n",
    "        for i in range(size):\n",
    "            cur = queue.pop(0)\n",
    "            if i == 0:\n",
    "                res = cur.val\n",
    "            if cur.left:\n",
    "                queue.append(cur.left)\n",
    "            if cur.right:\n",
    "                queue.append(cur.right)\n",
    "    return res\n",
    "        "
   ]
  }
 ],
 "metadata": {
  "kernelspec": {
   "display_name": "Python 3",
   "language": "python",
   "name": "python3"
  },
  "language_info": {
   "codemirror_mode": {
    "name": "ipython",
    "version": 3
   },
   "file_extension": ".py",
   "mimetype": "text/x-python",
   "name": "python",
   "nbconvert_exporter": "python",
   "pygments_lexer": "ipython3",
   "version": "3.6.10"
  }
 },
 "nbformat": 4,
 "nbformat_minor": 4
}
