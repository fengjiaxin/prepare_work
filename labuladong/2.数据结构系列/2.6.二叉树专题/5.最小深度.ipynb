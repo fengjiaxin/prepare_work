{
 "cells": [
  {
   "cell_type": "code",
   "execution_count": 1,
   "metadata": {},
   "outputs": [],
   "source": [
    "# 最小深度和最大深度类似，是从跟节点到叶子节点的最小距离\n",
    "# 单层逻辑：\n",
    "# 1 left is None:那么应该是right 子树的返回值 + 1\n",
    "# 2 right is None:那么应该是left 子树的返回值 + 1\n",
    "# 3 有两个子树，那么就是最小值 + 1\n",
    "def minHeight(root):\n",
    "    if root is None:\n",
    "        return 0\n",
    "    if root.left is None:\n",
    "        return minHeight(root.right) + 1\n",
    "    if root.right is None:\n",
    "        return minHeight(root.left) + 1\n",
    "    return min(minHeight(root.left),minHeight(root.right)) + 1"
   ]
  }
 ],
 "metadata": {
  "kernelspec": {
   "display_name": "Python 3",
   "language": "python",
   "name": "python3"
  },
  "language_info": {
   "codemirror_mode": {
    "name": "ipython",
    "version": 3
   },
   "file_extension": ".py",
   "mimetype": "text/x-python",
   "name": "python",
   "nbconvert_exporter": "python",
   "pygments_lexer": "ipython3",
   "version": "3.6.10"
  }
 },
 "nbformat": 4,
 "nbformat_minor": 4
}
