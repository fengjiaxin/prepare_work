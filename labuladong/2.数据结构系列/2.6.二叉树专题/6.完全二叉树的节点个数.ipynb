{
 "cells": [
  {
   "cell_type": "code",
   "execution_count": 1,
   "metadata": {},
   "outputs": [],
   "source": [
    "# 1.如果是普通二叉树，那么就是左子树的节点个数 + 右子树的节点个数 + 1\n",
    "def countNodes(root):\n",
    "    if root is None:\n",
    "        return 0\n",
    "    return 1 + countNodes(root.left) + countNodes(root.right)"
   ]
  },
  {
   "cell_type": "code",
   "execution_count": 2,
   "metadata": {},
   "outputs": [],
   "source": [
    "# 2.但是说的是完全二叉树，那么就需要判断是否是满二叉树\n",
    "import math\n",
    "def countNodes(root):\n",
    "    if root is None:\n",
    "        return 0\n",
    "    l = root;r = root\n",
    "    lh = 0;rh = 0\n",
    "    left = root.left\n",
    "    while l:\n",
    "        l = l.left\n",
    "        lh += 1\n",
    "    while r:\n",
    "        r = r.right\n",
    "        rh += 1\n",
    "    if lh == rh:\n",
    "        return math.pow(2,lh) - 1\n",
    "    return 1 + countNodes(root.left) + countNodes(root.right)"
   ]
  }
 ],
 "metadata": {
  "kernelspec": {
   "display_name": "Python 3",
   "language": "python",
   "name": "python3"
  },
  "language_info": {
   "codemirror_mode": {
    "name": "ipython",
    "version": 3
   },
   "file_extension": ".py",
   "mimetype": "text/x-python",
   "name": "python",
   "nbconvert_exporter": "python",
   "pygments_lexer": "ipython3",
   "version": "3.6.10"
  }
 },
 "nbformat": 4,
 "nbformat_minor": 4
}
