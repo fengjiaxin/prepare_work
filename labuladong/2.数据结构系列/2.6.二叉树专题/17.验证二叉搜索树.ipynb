{
 "cells": [
  {
   "cell_type": "code",
   "execution_count": 2,
   "metadata": {},
   "outputs": [],
   "source": [
    "# 二叉搜索树满足左子节点的值都小于跟节点，右子节点的值都大于跟节点\n",
    "# 应该是自上而下进行递归\n",
    "# 应该给每个节点加个范围，如果在范围内就没问题\n",
    "# 递归到左子节点的时候，左子节点的都应该小于跟节点的值\n",
    "# 递归到右子节点的时候，右子节点的值都应该大于跟节点的值\n",
    "def isValid(root):\n",
    "    def helper(root,minRoot,maxRoot):\n",
    "        if root is None:\n",
    "            return True\n",
    "        if minRoot and root.val < minRoot.val:\n",
    "            return False\n",
    "        if maxRoot and root.val > maxRoot.val:\n",
    "            return False\n",
    "        return helper(root.left,minRoot,root) and helper(root.right,root,maxRoot)\n",
    "    return helper(root,None,None)"
   ]
  }
 ],
 "metadata": {
  "kernelspec": {
   "display_name": "Python 3",
   "language": "python",
   "name": "python3"
  },
  "language_info": {
   "codemirror_mode": {
    "name": "ipython",
    "version": 3
   },
   "file_extension": ".py",
   "mimetype": "text/x-python",
   "name": "python",
   "nbconvert_exporter": "python",
   "pygments_lexer": "ipython3",
   "version": "3.6.10"
  }
 },
 "nbformat": 4,
 "nbformat_minor": 4
}
