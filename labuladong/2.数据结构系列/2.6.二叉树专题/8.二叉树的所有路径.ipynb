{
 "cells": [
  {
   "cell_type": "code",
   "execution_count": 1,
   "metadata": {},
   "outputs": [],
   "source": [
    "# 一看就是回溯算法\n",
    "def allRoot(root):\n",
    "    res = []\n",
    "    def helper(path,root):\n",
    "        if root is None:\n",
    "            res.append(path.copy())\n",
    "            return\n",
    "        if root.left:\n",
    "            path.append(root.left)\n",
    "            helper(path,root.left)\n",
    "            path.pop(-1)\n",
    "        if root.right:\n",
    "            path.append(root.right)\n",
    "            helper(path,root.right)\n",
    "            path.pop(-1)\n",
    "    helper([],root)\n",
    "    return res"
   ]
  }
 ],
 "metadata": {
  "kernelspec": {
   "display_name": "Python 3",
   "language": "python",
   "name": "python3"
  },
  "language_info": {
   "codemirror_mode": {
    "name": "ipython",
    "version": 3
   },
   "file_extension": ".py",
   "mimetype": "text/x-python",
   "name": "python",
   "nbconvert_exporter": "python",
   "pygments_lexer": "ipython3",
   "version": "3.6.10"
  }
 },
 "nbformat": 4,
 "nbformat_minor": 4
}
