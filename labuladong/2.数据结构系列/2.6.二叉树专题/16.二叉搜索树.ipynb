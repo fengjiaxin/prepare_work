{
 "cells": [
  {
   "cell_type": "code",
   "execution_count": 1,
   "metadata": {},
   "outputs": [],
   "source": [
    "# 二叉搜索树的性质，左中右有序，搜索的时候要注意这个特性\n",
    "# 参数和返回值：root节点，返回值，如果找到就返回该节点，没有就返回None\n",
    "# base case : root is None return None root.val == val,return root\n",
    "# 单层逻辑：\n",
    "# 如果val < root.val 在左子树搜索 否则，在右子树搜索"
   ]
  },
  {
   "cell_type": "code",
   "execution_count": 2,
   "metadata": {},
   "outputs": [],
   "source": [
    "def searchNode(root,val):\n",
    "    if root is None or root.val == val:\n",
    "        return root\n",
    "    if root.val < val:\n",
    "        return searchNode(root.right,val)\n",
    "    else:\n",
    "        return searchNode(root.left,val)"
   ]
  }
 ],
 "metadata": {
  "kernelspec": {
   "display_name": "Python 3",
   "language": "python",
   "name": "python3"
  },
  "language_info": {
   "codemirror_mode": {
    "name": "ipython",
    "version": 3
   },
   "file_extension": ".py",
   "mimetype": "text/x-python",
   "name": "python",
   "nbconvert_exporter": "python",
   "pygments_lexer": "ipython3",
   "version": "3.6.10"
  }
 },
 "nbformat": 4,
 "nbformat_minor": 4
}
