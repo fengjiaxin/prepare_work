{
 "cells": [
  {
   "cell_type": "code",
   "execution_count": 1,
   "metadata": {},
   "outputs": [],
   "source": [
    "# 如果是普通的二叉树\n",
    "# 遍历统计每个元素的频次，然后进行排序就行了\n",
    "# 但是二叉搜索树，中序遍历是有序的，可以通过记录前序节点与中序节点来判断是否相同，如果相同，count += 1\n",
    "# 如果当前count == maxCount,在结果中加入这个元素\n",
    "# 如果大于maxCount,将res的元素都扔出来，然后将该元素加进去\n",
    "def moreFreq(root):\n",
    "    pre = None\n",
    "    maxCount = 0\n",
    "    res = []\n",
    "    def helper(root):\n",
    "        if root is None:\n",
    "            return \n",
    "        helper(root.left)\n",
    "        if pre == None:\n",
    "            count = 1\n",
    "        elif pre == root.val:\n",
    "            count += 1\n",
    "        else:\n",
    "            count = 1\n",
    "        pre = root.val\n",
    "        if count == maxCount:\n",
    "            res.append(root.val)\n",
    "        if count > maxCount:\n",
    "            res.clear()\n",
    "            res.append(root.val)\n",
    "        helper(root.right)\n",
    "    helper(root)\n",
    "    return res\n"
   ]
  }
 ],
 "metadata": {
  "kernelspec": {
   "display_name": "Python 3",
   "language": "python",
   "name": "python3"
  },
  "language_info": {
   "codemirror_mode": {
    "name": "ipython",
    "version": 3
   },
   "file_extension": ".py",
   "mimetype": "text/x-python",
   "name": "python",
   "nbconvert_exporter": "python",
   "pygments_lexer": "ipython3",
   "version": "3.6.10"
  }
 },
 "nbformat": 4,
 "nbformat_minor": 4
}
