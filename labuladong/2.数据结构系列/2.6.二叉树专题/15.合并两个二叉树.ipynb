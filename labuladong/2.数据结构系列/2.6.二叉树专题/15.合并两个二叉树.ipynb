{
 "cells": [
  {
   "cell_type": "code",
   "execution_count": 1,
   "metadata": {},
   "outputs": [],
   "source": [
    "# 合并两个二叉树\n",
    "# 参数和返回值:两个root节点，返回值是合并后的节点\n",
    "# base case:如果有一个是None,就返回另一个，都是None的话返回None\n",
    "# 单层逻辑：将root1的val += root2.val,然后处理左子节点和右子节点"
   ]
  },
  {
   "cell_type": "code",
   "execution_count": null,
   "metadata": {},
   "outputs": [],
   "source": [
    "def mergeTree(root1,root2):\n",
    "    if root1 is None :\n",
    "        return root2\n",
    "    if root2 is None:\n",
    "        return root1\n",
    "    root1.val += root2.val\n",
    "    root1.left = mergeTree(root1.left,root2.left)\n",
    "    root1.right = mergeTree(root1.right,root2.right)\n",
    "    return root1"
   ]
  }
 ],
 "metadata": {
  "kernelspec": {
   "display_name": "Python 3",
   "language": "python",
   "name": "python3"
  },
  "language_info": {
   "codemirror_mode": {
    "name": "ipython",
    "version": 3
   },
   "file_extension": ".py",
   "mimetype": "text/x-python",
   "name": "python",
   "nbconvert_exporter": "python",
   "pygments_lexer": "ipython3",
   "version": "3.6.10"
  }
 },
 "nbformat": 4,
 "nbformat_minor": 4
}
