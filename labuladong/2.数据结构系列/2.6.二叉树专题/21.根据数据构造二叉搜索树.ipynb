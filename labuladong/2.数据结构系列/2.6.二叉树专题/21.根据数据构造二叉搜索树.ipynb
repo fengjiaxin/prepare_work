{
 "cells": [
  {
   "cell_type": "code",
   "execution_count": 1,
   "metadata": {},
   "outputs": [],
   "source": [
    "# 构造平衡二叉搜索树\n",
    "# 从中间找数据 ，然后递归处理左右子树\n",
    "def construct(nums):\n",
    "    def helper(l,r):\n",
    "        if l > r:\n",
    "            return None\n",
    "        if l == r:\n",
    "            return Node(nums[l])\n",
    "        mid = l + (r-l)//2\n",
    "        root = Node(nums[mid])\n",
    "        root.left = helper(l,mid -1)\n",
    "        root.right = helper(mid+1,r)\n",
    "        return root\n",
    "    length = len(nums)\n",
    "    helper(0,length - 1)"
   ]
  }
 ],
 "metadata": {
  "kernelspec": {
   "display_name": "Python 3",
   "language": "python",
   "name": "python3"
  },
  "language_info": {
   "codemirror_mode": {
    "name": "ipython",
    "version": 3
   },
   "file_extension": ".py",
   "mimetype": "text/x-python",
   "name": "python",
   "nbconvert_exporter": "python",
   "pygments_lexer": "ipython3",
   "version": "3.6.10"
  }
 },
 "nbformat": 4,
 "nbformat_minor": 4
}
