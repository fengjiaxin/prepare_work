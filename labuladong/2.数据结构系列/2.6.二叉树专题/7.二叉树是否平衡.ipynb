{
 "cells": [
  {
   "cell_type": "code",
   "execution_count": 2,
   "metadata": {},
   "outputs": [],
   "source": [
    "# 二叉树是否平衡\n",
    "# 希望函数返回的值：如果是平衡二叉树，就返回高度，如果不是返回-1\n",
    "import math\n",
    "def isBal(root):\n",
    "    if root is None:\n",
    "        return 0\n",
    "    left_res = isBal(root.left)\n",
    "    if left_res == -1:return -1\n",
    "    right_res = isBal(root.right)\n",
    "    if right_res == -1:return -1\n",
    "    res = -1 if math.abs(left_res,right_res) > 1 else max(left_res,right_res)\n",
    "    return res"
   ]
  }
 ],
 "metadata": {
  "kernelspec": {
   "display_name": "Python 3",
   "language": "python",
   "name": "python3"
  },
  "language_info": {
   "codemirror_mode": {
    "name": "ipython",
    "version": 3
   },
   "file_extension": ".py",
   "mimetype": "text/x-python",
   "name": "python",
   "nbconvert_exporter": "python",
   "pygments_lexer": "ipython3",
   "version": "3.6.10"
  }
 },
 "nbformat": 4,
 "nbformat_minor": 4
}
