{
 "cells": [
  {
   "cell_type": "code",
   "execution_count": 1,
   "metadata": {},
   "outputs": [],
   "source": [
    "# 二叉树的根是数组中的最大元素。\n",
    "# 左子树是通过数组中最大值左边部分构造出的最大二叉树。\n",
    "# 右子树是通过数组中最大值右边部分构造出的最大二叉树。\n",
    "# 1.递归的参数，数组，返回值是节点\n",
    "# 2.base case:如果数组长度是1，直接构建并且返回\n",
    "# 3.单层逻辑处理\n",
    "# 首先找到最大节点的位置，构建节点，然后如果左边不空，构建左子树，如果右边不空，构建右子树"
   ]
  },
  {
   "cell_type": "code",
   "execution_count": 2,
   "metadata": {},
   "outputs": [],
   "source": [
    "def constructMaxTree(nums):\n",
    "    length = len(nums)\n",
    "    if length == 1:\n",
    "        return Node(nums[0])\n",
    "    max_idx = 0\n",
    "    max_val = nums[0]\n",
    "    for i in range(1,length):\n",
    "        if nums[i] > max_idx:\n",
    "            max_idx = i\n",
    "            max_val = nums[i]\n",
    "    root = Node(max_val)\n",
    "    if max_idx > 0:\n",
    "        root.left = constructMaxTree(nums[:max_idx])\n",
    "    if max_idx < length - 1:\n",
    "        root.right = constructMaxTree(nums[max_idx + 1,length - 1])\n",
    "    return root\n",
    "        "
   ]
  }
 ],
 "metadata": {
  "kernelspec": {
   "display_name": "Python 3",
   "language": "python",
   "name": "python3"
  },
  "language_info": {
   "codemirror_mode": {
    "name": "ipython",
    "version": 3
   },
   "file_extension": ".py",
   "mimetype": "text/x-python",
   "name": "python",
   "nbconvert_exporter": "python",
   "pygments_lexer": "ipython3",
   "version": "3.6.10"
  }
 },
 "nbformat": 4,
 "nbformat_minor": 4
}
