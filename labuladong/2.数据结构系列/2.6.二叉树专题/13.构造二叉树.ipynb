{
 "cells": [
  {
   "cell_type": "code",
   "execution_count": 1,
   "metadata": {},
   "outputs": [],
   "source": [
    "# 根据前序遍历和中序遍历构造二叉树\n",
    "def constructTree(preOrder,inOrder):\n",
    "    def helper(pl,pr,il,ir):\n",
    "        if pl == pr:\n",
    "            return Node(preOrder[pl])\n",
    "        cur_val = preOrder[pl]\n",
    "        cur_idx = il\n",
    "        for i in range(il,ir+1):\n",
    "            if inOrder[i] == cur_val:\n",
    "                cur_idx = i\n",
    "                break\n",
    "        left_num = cur_idx - il\n",
    "        right_num = ir - cur_idx\n",
    "        cur_root = Node(cur_val)\n",
    "        cur_root.left = helper(pl+1,pl+left_num,il,cur_idx - 1)\n",
    "        cur_root.right = helper(pl+left_num + 1,pr,cur_idx + 1,ir)\n",
    "        return cur_root\n",
    "    p_length = len(preOrder)\n",
    "    in_length = len(inOrder)\n",
    "    return helper(0,p_length - 1,0,in_length - 1)"
   ]
  }
 ],
 "metadata": {
  "kernelspec": {
   "display_name": "Python 3",
   "language": "python",
   "name": "python3"
  },
  "language_info": {
   "codemirror_mode": {
    "name": "ipython",
    "version": 3
   },
   "file_extension": ".py",
   "mimetype": "text/x-python",
   "name": "python",
   "nbconvert_exporter": "python",
   "pygments_lexer": "ipython3",
   "version": "3.6.10"
  }
 },
 "nbformat": 4,
 "nbformat_minor": 4
}
