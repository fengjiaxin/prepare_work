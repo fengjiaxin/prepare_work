{
 "cells": [
  {
   "cell_type": "code",
   "execution_count": 1,
   "metadata": {},
   "outputs": [],
   "source": [
    "# 二叉树的最大深度\n",
    "# 肯定是后序遍历，先得到左子树的结构和右子树的结果，然后算root的最大深度\n",
    "# 参数和返回值：root，以及root的最大深度\n",
    "# base case:root is None:return 0\n",
    "# 单层逻辑：\n",
    "# 左右子树最大高度 + 1\n",
    "def maxHeight(root):\n",
    "    if root is None:\n",
    "        return 0\n",
    "    left_res = maxHeight(root.left)\n",
    "    right_res = maxHeight(root.right)\n",
    "    return max(left_res + right_res) + 1"
   ]
  }
 ],
 "metadata": {
  "kernelspec": {
   "display_name": "Python 3",
   "language": "python",
   "name": "python3"
  },
  "language_info": {
   "codemirror_mode": {
    "name": "ipython",
    "version": 3
   },
   "file_extension": ".py",
   "mimetype": "text/x-python",
   "name": "python",
   "nbconvert_exporter": "python",
   "pygments_lexer": "ipython3",
   "version": "3.6.10"
  }
 },
 "nbformat": 4,
 "nbformat_minor": 4
}
