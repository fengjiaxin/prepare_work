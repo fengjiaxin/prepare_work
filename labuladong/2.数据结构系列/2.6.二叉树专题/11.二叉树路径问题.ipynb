{
 "cells": [
  {
   "cell_type": "code",
   "execution_count": 2,
   "metadata": {},
   "outputs": [],
   "source": [
    "# 应该是递归处理，子上而下进行遍历，分别需要对left和right进行处理\n",
    "# 就是分别判断左右子树是否符合条件，如果又一个符合条件就可以\n",
    "# 递归参数和返回值：1.参数是root节点和剩余的count,返回true/false\n",
    "# base case：如果是叶子节点 并且count == 0:true,count != 0 false\n",
    "# 就是回溯法，不过会提前返回的那种\n",
    "def hasPathSum(root,val):\n",
    "    if root.left is None and root.right is None:\n",
    "        if val == 0:\n",
    "            return True\n",
    "        else:\n",
    "            return False\n",
    "    if root.left:\n",
    "        if hasPathSum(root.left,val - root.left.val):\n",
    "            return True\n",
    "    if root.right:\n",
    "        if hasPathSum(root.right,val - root.right.val):\n",
    "            return True\n",
    "    return False"
   ]
  },
  {
   "cell_type": "code",
   "execution_count": 3,
   "metadata": {},
   "outputs": [],
   "source": [
    "# 找出所有路径和\n",
    "# 那就应该是回溯算法了，不要提前返回\n",
    "def hasPathSum2(root,val):\n",
    "    res = []\n",
    "    def helper(root,path,count):\n",
    "        if root.left is None and root.right is None:\n",
    "            if count == 0:\n",
    "                res.append(path.copy())\n",
    "                return\n",
    "            else:\n",
    "                return\n",
    "        if root.left:\n",
    "            path.append(root.left)\n",
    "            helper(root.left,path,count -root.left.val)\n",
    "            path.pop(-1)\n",
    "        if root.right:\n",
    "            path.append(root.right)\n",
    "            helper(root.right,path,count - root.right.val)\n",
    "            path.pop(-1)\n",
    "    helper(root,[],val - root.val)\n",
    "    return res\n",
    "    "
   ]
  },
  {
   "cell_type": "code",
   "execution_count": null,
   "metadata": {},
   "outputs": [],
   "source": []
  }
 ],
 "metadata": {
  "kernelspec": {
   "display_name": "Python 3",
   "language": "python",
   "name": "python3"
  },
  "language_info": {
   "codemirror_mode": {
    "name": "ipython",
    "version": 3
   },
   "file_extension": ".py",
   "mimetype": "text/x-python",
   "name": "python",
   "nbconvert_exporter": "python",
   "pygments_lexer": "ipython3",
   "version": "3.6.10"
  }
 },
 "nbformat": 4,
 "nbformat_minor": 4
}
