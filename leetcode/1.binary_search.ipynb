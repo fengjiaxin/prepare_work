{
 "cells": [
  {
   "cell_type": "markdown",
   "metadata": {},
   "source": [
    "**总结一下二分查找**\n",
    "\n",
    "1.最基本的二分查找：\n",
    "+ 初始化right = nums.length - 1\n",
    "+ 所以决定了搜索区间是[left,right]\n",
    "+ 所以决定了while(left <= right)\n",
    "+ 同时也决定了left = mid + 1 和 right = mid - 1\n",
    "+ 因为只需要找到一个target的索引即可\n",
    "+ 因此当nums[mid]==target时可以立即返回\n",
    "\n",
    "2.寻找左侧边界的二分查找：\n",
    "+ 初始化right = nums.length\n",
    "+ 决定了搜索区间是[left,right)\n",
    "+ 决定了while(left < right)\n",
    "+ 同时也决定了left = mid + 1 和 right = mid\n",
    "+ 因为需要找到target的最左边的索引\n",
    "+ 所以当nums[mid] == target时不要立即返回\n",
    "+ 而是收紧右侧边界以锁定左侧边界\n",
    "\n",
    "3.寻找右侧边界的二分查找：\n",
    "+ 因为初始化right = nums.length\n",
    "+ 所以决定了搜索区间是[left,right)\n",
    "+ 决定了 while(left < right)\n",
    "+ 同时也决定了left = mid + 1 和 right = mid\n",
    "+ 因为需要找到target的最右侧的索引\n",
    "+ 所以当nums[mid] == target时不要立即返回\n",
    "+ 而是收紧左侧边界以锁定右侧边界\n",
    "+ 又因为收紧左侧边界时 left = mid + 1\n",
    "+ 所以最后返回left - 1"
   ]
  },
  {
   "cell_type": "code",
   "execution_count": 1,
   "metadata": {},
   "outputs": [],
   "source": [
    "# 最基本的二分搜索算法\n",
    "def bin_search(nums,target):\n",
    "    if not nums:\n",
    "        return -1\n",
    "    left = 0\n",
    "    right = len(nums) - 1\n",
    "    while left <= right:\n",
    "        mid = left + (right - left)//2\n",
    "        if nums[mid] == target:\n",
    "            return mid\n",
    "        elif nums[mid] > target:\n",
    "            right = mid - 1\n",
    "        elif nums[mid] < target:\n",
    "            left = mid + 1\n",
    "    return -1\n",
    "\n",
    "# 寻找左侧边界的二分搜索\n",
    "def lower_search(nums,target):\n",
    "    if not nums:\n",
    "        return -1\n",
    "    left = 0\n",
    "    right = len(nums)\n",
    "    while left < right:\n",
    "        mid = left + (right - left)//2\n",
    "        # 如果nums[mid] == target:right = mid\n",
    "        # 如果nums[mid] < target:left = mid + 1\n",
    "        # 如果nums[mid] > target:right = mid\n",
    "        if nums[mid] < target:\n",
    "            left = mid + 1\n",
    "        elif nums[mid] >= target:\n",
    "            right = mid\n",
    "    return left\n",
    "\n",
    "# 寻找右侧边界的二分搜索\n",
    "# 其实可以转换成找到大于target的最小边界-1\n",
    "def upper_search(nums,target):\n",
    "    if not nums:\n",
    "        return -1\n",
    "    left = 0\n",
    "    right = len(nums)\n",
    "    while left < right:\n",
    "        mid = left + (right - left)//2\n",
    "        # 如果nums[mid] == target:left = mid + 1\n",
    "        # 如果nums[mid] < target:left = mid + 1\n",
    "        # 如果nums[mid] > target;right = mid\n",
    "        if nums[mid] <= target:\n",
    "            left = mid + 1\n",
    "        elif nums[mid] > target:\n",
    "            right = mid\n",
    "    return left - 1"
   ]
  },
  {
   "cell_type": "code",
   "execution_count": 2,
   "metadata": {},
   "outputs": [
    {
     "name": "stdout",
     "output_type": "stream",
     "text": [
      "-1\n",
      "3\n",
      "2\n"
     ]
    }
   ],
   "source": [
    "nums = [0,1,3,5,7,9]\n",
    "target = 4\n",
    "\n",
    "res_1 = bin_search(nums,target)\n",
    "print(res_1)\n",
    "res_2 = lower_search(nums,target)\n",
    "print(res_2)\n",
    "res_3 = upper_search(nums,target)\n",
    "print(res_3)"
   ]
  },
  {
   "cell_type": "markdown",
   "metadata": {},
   "source": [
    "### leetcode binary_search"
   ]
  },
  {
   "cell_type": "markdown",
   "metadata": {},
   "source": [
    "278.First Bad Version\n",
    "\n",
    "思路：找到第一个坏的版本，其实就是求坏的下届，需要确定条件，如果mid是bad version，那么right = mid，如果mid是好的版本，那么需要向后查找，left = mid + 1,原则就是确定[0,left)都是好的版本"
   ]
  },
  {
   "cell_type": "code",
   "execution_count": 3,
   "metadata": {},
   "outputs": [],
   "source": [
    "class Solution:\n",
    "    def firstBadVersion(self, n):\n",
    "        \"\"\"\n",
    "        :type n: int\n",
    "        :rtype: int\n",
    "        \"\"\"\n",
    "        # find first bad version 利用二分搜索\n",
    "        left = 1;right = n + 1\n",
    "        while left < right:\n",
    "            mid = left + (right - left)//2\n",
    "            res = isBadVersion(mid)\n",
    "            if res:\n",
    "                right = mid\n",
    "            else:\n",
    "                left = mid + 1\n",
    "        return left"
   ]
  },
  {
   "cell_type": "markdown",
   "metadata": {},
   "source": [
    "35.Search Insert Position\n",
    "\n",
    "思路：就是从数组中找到第一个大于target的index"
   ]
  },
  {
   "cell_type": "code",
   "execution_count": 5,
   "metadata": {},
   "outputs": [],
   "source": [
    "class Solution:\n",
    "    def searchInsert(self, nums, target: int) -> int:\n",
    "        # 就是寻找数组中第一个大于等于target的index的下标\n",
    "        length = len(nums)\n",
    "        left = 0\n",
    "        right = length\n",
    "        while left < right:\n",
    "            mid = left + (right - left)//2\n",
    "            if nums[mid] < target:\n",
    "                left = mid + 1\n",
    "            else:\n",
    "                right = mid\n",
    "        return left"
   ]
  },
  {
   "cell_type": "markdown",
   "metadata": {},
   "source": [
    "374. Guess Number Higher or Lower\n",
    "\n",
    "思路：就是准确的二分搜索，根据查询条件，确定搜索范围"
   ]
  },
  {
   "cell_type": "code",
   "execution_count": 6,
   "metadata": {},
   "outputs": [],
   "source": [
    "class Solution:\n",
    "    def guessNumber(self, n: int) -> int:\n",
    "        # 这个属于二分查找，精确搜索\n",
    "        left = 1\n",
    "        right = n\n",
    "        while left <= right:\n",
    "            mid = left + (right-left)//2\n",
    "            res = guess(mid)\n",
    "            if res == 0:\n",
    "                return mid\n",
    "            elif res == -1:\n",
    "                right = mid - 1\n",
    "            elif res == 1:\n",
    "                left = mid + 1 "
   ]
  },
  {
   "cell_type": "code",
   "execution_count": null,
   "metadata": {},
   "outputs": [],
   "source": []
  }
 ],
 "metadata": {
  "kernelspec": {
   "display_name": "Python 3",
   "language": "python",
   "name": "python3"
  },
  "language_info": {
   "codemirror_mode": {
    "name": "ipython",
    "version": 3
   },
   "file_extension": ".py",
   "mimetype": "text/x-python",
   "name": "python",
   "nbconvert_exporter": "python",
   "pygments_lexer": "ipython3",
   "version": "3.6.9"
  }
 },
 "nbformat": 4,
 "nbformat_minor": 4
}
