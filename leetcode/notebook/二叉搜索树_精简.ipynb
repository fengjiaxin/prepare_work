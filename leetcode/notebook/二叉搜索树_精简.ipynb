{
 "cells": [
  {
   "cell_type": "markdown",
   "metadata": {},
   "source": [
    "### 二叉搜索树\n",
    "\n",
    "&emsp;&emsp;二叉搜索树有一个性质，就是根的左节点<根节点<根的右节点，在之前的学习中，关于二叉搜索树的查询和插入可以写出来，但是二叉搜索树的删除总是记不住，今天再次温习一下。\n",
    "\n",
    "#### 1.二叉树的查询\n",
    "\n",
    "&emsp;&emsp;给定一个节点node和一个关键子key,如果node存在，如果node.value == key,那么直接找到了，如果根节点的值比key大，那么可以向根的左子树进行查找，如果比key小，可以向根的右子树进行查找。"
   ]
  },
  {
   "cell_type": "code",
   "execution_count": 1,
   "metadata": {},
   "outputs": [],
   "source": [
    "def tree_search(node,key):\n",
    "    while node and node.val != key:\n",
    "        if key < node.val:\n",
    "            node = node.left\n",
    "        elif key > node.val:\n",
    "            node = node.right\n",
    "    return node"
   ]
  },
  {
   "cell_type": "markdown",
   "metadata": {},
   "source": [
    "#### 2.二叉树的插入\n",
    "\n",
    "&emsp;&emsp;插入其实就是最终找到叶子节点作为新节点的父节点，当然如果最终叶子节点是空，那么需要将树的根节点设置为新的节点，然后通过父节点和新节点的关系，来确定是左子树还是右子树。"
   ]
  },
  {
   "cell_type": "code",
   "execution_count": 2,
   "metadata": {},
   "outputs": [],
   "source": [
    "def tree_insert(T,z):\n",
    "    #找到最终的父节点\n",
    "    y = None\n",
    "    x = T.root\n",
    "    while x:\n",
    "        y = x\n",
    "        if z.val < x.val:\n",
    "            x = x.left\n",
    "        else:\n",
    "            x = x.right\n",
    "    z.parent = y\n",
    "    if y is None:\n",
    "        T.root = z\n",
    "    elif z.key < y.key:\n",
    "        y.left = z\n",
    "    else:\n",
    "        y.right = z"
   ]
  },
  {
   "cell_type": "markdown",
   "metadata": {},
   "source": [
    "#### 3.二叉树的删除\n",
    "\n",
    "&emsp;&emsp;主要是总结二叉树删除节点的情况，有点棘手，假设要删除的节点是z\n",
    "\n",
    "+ 1.如果z是叶子节点，那么直接删除z即可\n",
    "+ 2.如果z只有一个叶子节点,那么用z的子节点替换z节点即可\n",
    "+ 3.如果z有两个叶子节点，那么需要从z的右子节点中挑出最大的节点y,此时又有两种情况\n",
    " + 3.1 如果y是z的右子节点，那么可以直接用y节点替换z节点\n",
    " + 3.2 如果y在z的右子树的最左节点中，首先用y的右子树替换y，然后用y替换z节点即可。\n",
    " \n",
    "&emsp;&emsp;**3.1如果y是z的右子节点**\n",
    "\n",
    "         p                                p\n",
    "         |                                |\n",
    "         z                                y\n",
    "       /   \\           ->(y替换z)        /   \\\n",
    "            y                                x                       \n",
    "             \\\n",
    "              x\n",
    "\n",
    "&emsp;&emsp;**3.2如果y不是z的右子节点**\n",
    "\n",
    "          p                                 p                                    p\n",
    "          |                                 |                                    |\n",
    "          z                                 z   y                                y\n",
    "        /   \\          ->(先x替换y节点)     /     \\         ->(y节点替换z节点)     /  \\\n",
    "             r     (y的右节点指向z的右节点)         r     （y的左子树指向z的左子树）      r\n",
    "            /  \\                               / \\                                / \\\n",
    "           y                                  x                                  x \n",
    "            \\          \n",
    "             x                             \n",
    "\n",
    "&emsp;&emsp;二叉树的删除逻辑在代码中可以简化为如下：\n",
    "+ 1.如果z节点的左子树为空，用z的右子树替换，此时包括两种情况，z有一个右子树和z是叶子节点\n",
    "+ 2.如果z节点的右子树为空，用z的左子树替换，此时是z只有左子节点\n",
    "+ 3.如果z节点有右子树，那么需要从z的右子节点中挑出最大的节点y,此时又有两种情况\n",
    " + 3.1 如果y是z的右子节点，那么可以直接用y节点替换z节点\n",
    " + 3.2 如果y在z的右子树的最左节点中，首先用y的右子树替换y，然后用y替换z节点即可。"
   ]
  },
  {
   "cell_type": "code",
   "execution_count": 3,
   "metadata": {},
   "outputs": [],
   "source": [
    "# 以v为根节点的子树替换以u为跟节点的子树\n",
    "def replace(T,u,v):\n",
    "    # 如果u是根节点\n",
    "    if u.parent is None:\n",
    "        T.root = y\n",
    "    elif u == u.parent.left:\n",
    "        u.parent.left = v\n",
    "    elif u == u.parent.right:\n",
    "        u.parent.right = v\n",
    "    if v:\n",
    "        v.parent = u.parent\n",
    "\n",
    "# 获取z节点的最小子树\n",
    "def get_min(z):\n",
    "    if z.left:\n",
    "        z = z.left\n",
    "    return z\n",
    "\n",
    "def tree_delete(T,z):\n",
    "    if z.left is None:\n",
    "        replace(T,z,z.right)\n",
    "    elif z.right is None:\n",
    "        replace(T,z,z.left)\n",
    "    else:\n",
    "        y = get_min(z.right)\n",
    "        if y.parent != z:\n",
    "            replace(T,y,y.right)\n",
    "            y.right = z.right\n",
    "            y.right.parent = y\n",
    "        replace(T,y,z)\n",
    "        y.left = z.left\n",
    "        y.left.parent = y"
   ]
  },
  {
   "cell_type": "code",
   "execution_count": 24,
   "metadata": {},
   "outputs": [],
   "source": [
    "# 全代码\n",
    "class Node:\n",
    "    def __init__(self,val):\n",
    "        self.val = val\n",
    "        self.left = None\n",
    "        self.right = None\n",
    "        self.parent = None\n",
    "class Tree:\n",
    "    def __init__(self):\n",
    "        self.root = None\n",
    "    def inOrder(self):\n",
    "        res = []\n",
    "        def helper(node):\n",
    "            if node:\n",
    "                if node.left:\n",
    "                    helper(node.left)\n",
    "                res.append(node.val)\n",
    "                if node.right:\n",
    "                    helper(node.right)\n",
    "        helper(self.root)\n",
    "        return res\n",
    "    def get_min(self,x):\n",
    "        while x.left:\n",
    "            x = x.left\n",
    "        return x\n",
    "    def tree_search(self,key):\n",
    "        x = self.root\n",
    "        while x and x.val != key:\n",
    "            if key < x.val:\n",
    "                x = x.left\n",
    "            else:\n",
    "                x = x.right\n",
    "        return x\n",
    "    def tree_insert(self,node):\n",
    "        key = node.val\n",
    "        y = None\n",
    "        x = self.root\n",
    "        while x:\n",
    "            y = x\n",
    "            if key < x.val:\n",
    "                x = x.left\n",
    "            else:\n",
    "                x = x.right\n",
    "        node.parent = y\n",
    "        if y is None:\n",
    "            self.root = node\n",
    "        elif key < y.val:\n",
    "            y.left = node\n",
    "        else:\n",
    "            y.right = node\n",
    "    def replace(self,u,v):\n",
    "        if u.parent is None:\n",
    "            self.root = v\n",
    "        elif u == u.parent.left:\n",
    "            u.parent.left = v\n",
    "        else:\n",
    "            u.parent.right = v\n",
    "        if v:\n",
    "            v.parent = u.parent\n",
    "    def tree_delete(self,z):\n",
    "        if z.left is None:\n",
    "            self.replace(z,z.right)\n",
    "        elif z.right is None:\n",
    "            self.replace(z,z.left)\n",
    "        else:\n",
    "            y = self.get_min(z.right)\n",
    "            if y.parent != z:\n",
    "                self.replace(z,z.right)\n",
    "                y.right = z.right\n",
    "                y.right.parent = y\n",
    "            self.replace(z,y)\n",
    "            y.left = z.left\n",
    "            y.left.parent = y"
   ]
  },
  {
   "cell_type": "code",
   "execution_count": 25,
   "metadata": {},
   "outputs": [
    {
     "name": "stdout",
     "output_type": "stream",
     "text": [
      "[1, 3, 4, 7, 12, 22, 23, 27, 28, 34, 45]\n"
     ]
    }
   ],
   "source": [
    "ss = [23, 28, 45, 22, 12, 3, 7, 1, 4, 34, 27]\n",
    "tree = Tree()\n",
    "for i in ss:\n",
    "    tree.tree_insert(Node(i)) \n",
    "res = tree.inOrder()\n",
    "print(res)"
   ]
  },
  {
   "cell_type": "markdown",
   "metadata": {},
   "source": [
    "此时树的结构如下：\n",
    "\n",
    "                   23\n",
    "                 /    \\\n",
    "                22     28 \n",
    "               /      /   \\\n",
    "              12     27    45\n",
    "             /             /\n",
    "            3            34\n",
    "           /  \\\n",
    "          1    7\n",
    "              /\n",
    "              4"
   ]
  },
  {
   "cell_type": "code",
   "execution_count": 26,
   "metadata": {},
   "outputs": [
    {
     "name": "stdout",
     "output_type": "stream",
     "text": [
      "[1, 3, 4, 7, 12, 15, 22, 23, 27, 28, 34, 45]\n"
     ]
    }
   ],
   "source": [
    "# 插入一个15节点\n",
    "z = Node(15)\n",
    "tree.tree_insert(z)\n",
    "res = tree.inOrder()\n",
    "print(res)"
   ]
  },
  {
   "cell_type": "markdown",
   "metadata": {},
   "source": [
    "此时树的结构如下：\n",
    "\n",
    "                   23\n",
    "                 /    \\\n",
    "                22     28 \n",
    "               /      /   \\\n",
    "              12     27    45\n",
    "             /  \\           /\n",
    "            3   15        34\n",
    "           /  \\\n",
    "          1    7\n",
    "              /\n",
    "              4 "
   ]
  },
  {
   "cell_type": "code",
   "execution_count": 27,
   "metadata": {},
   "outputs": [
    {
     "name": "stdout",
     "output_type": "stream",
     "text": [
      "[1, 3, 7, 12, 15, 22, 23, 27, 28, 34, 45]\n"
     ]
    }
   ],
   "source": [
    "# 1.删除叶子节点4\n",
    "node_1 = tree.tree_search(4)\n",
    "tree.tree_delete(node_1)\n",
    "res = tree.inOrder()\n",
    "print(res)"
   ]
  },
  {
   "cell_type": "code",
   "execution_count": 28,
   "metadata": {},
   "outputs": [
    {
     "name": "stdout",
     "output_type": "stream",
     "text": [
      "[1, 3, 7, 12, 15, 22, 23, 27, 28, 34]\n"
     ]
    }
   ],
   "source": [
    "# 2.删除右节点为空的节点45\n",
    "node_2 = tree.tree_search(45)\n",
    "tree.tree_delete(node_2)\n",
    "res = tree.inOrder()\n",
    "print(res)"
   ]
  },
  {
   "cell_type": "code",
   "execution_count": 29,
   "metadata": {},
   "outputs": [
    {
     "name": "stdout",
     "output_type": "stream",
     "text": [
      "[1, 3, 7, 12, 15, 22, 23, 27, 28, 34, 37]\n"
     ]
    }
   ],
   "source": [
    "# 插入37节点\n",
    "z = Node(37)\n",
    "tree.tree_insert(z)\n",
    "res = tree.inOrder()\n",
    "print(res)"
   ]
  },
  {
   "cell_type": "code",
   "execution_count": 30,
   "metadata": {},
   "outputs": [
    {
     "name": "stdout",
     "output_type": "stream",
     "text": [
      "[1, 3, 7, 12, 15, 22, 23, 27, 34, 37]\n"
     ]
    }
   ],
   "source": [
    "# 3.删除右节点是右子树的最大值2的节点28\n",
    "node_3 = tree.tree_search(28)\n",
    "tree.tree_delete(node_3)\n",
    "res = tree.inOrder()\n",
    "print(res)"
   ]
  },
  {
   "cell_type": "code",
   "execution_count": 31,
   "metadata": {},
   "outputs": [
    {
     "name": "stdout",
     "output_type": "stream",
     "text": [
      "[1, 3, 7, 9, 10, 12, 15, 22, 23, 27, 34, 37]\n"
     ]
    }
   ],
   "source": [
    "# 插入10，9节点\n",
    "z = Node(10)\n",
    "tree.tree_insert(z)\n",
    "z = Node(9)\n",
    "tree.tree_insert(z)\n",
    "res = tree.inOrder()\n",
    "print(res)"
   ]
  },
  {
   "cell_type": "code",
   "execution_count": 32,
   "metadata": {},
   "outputs": [
    {
     "name": "stdout",
     "output_type": "stream",
     "text": [
      "[1, 3, 9, 10, 12, 15, 22, 23, 27, 34, 37]\n"
     ]
    }
   ],
   "source": [
    "# 4.删除右节点不是右子树最大值的节点7\n",
    "node_4 = tree.tree_search(7)\n",
    "tree.tree_delete(node_4)\n",
    "res = tree.inOrder()\n",
    "print(res)"
   ]
  }
 ],
 "metadata": {
  "kernelspec": {
   "display_name": "Python 3",
   "language": "python",
   "name": "python3"
  },
  "language_info": {
   "codemirror_mode": {
    "name": "ipython",
    "version": 3
   },
   "file_extension": ".py",
   "mimetype": "text/x-python",
   "name": "python",
   "nbconvert_exporter": "python",
   "pygments_lexer": "ipython3",
   "version": "3.6.9"
  }
 },
 "nbformat": 4,
 "nbformat_minor": 4
}
