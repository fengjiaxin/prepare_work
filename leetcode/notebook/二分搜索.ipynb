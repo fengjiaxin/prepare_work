{
 "cells": [
  {
   "cell_type": "markdown",
   "metadata": {},
   "source": [
    "### 二分搜索\n",
    "&emsp;&emsp;二分查找法是一种常见的查找方法，将原本线性时间提升到了对数时间范围，缩短了搜索时间，注意，二分搜索的前提是给定的序列是有序的，其实思路很简单，但是细节很复杂。现在就总结一下几个常用的二分查找场景：寻找一个数，寻找左侧边界，寻找右侧边界。而且深入细节研究，比如不等号是否应该带等号，mid是否应该加1等等，分析细节的差异以及出现这些差异的原因，对二分查找的理解更加深入。\n",
    "\n",
    "#### 1.二分查找框架\n",
    "```\n",
    "def binarySearch(nums,target):\n",
    "    left = 0\n",
    "    right = ...\n",
    "    while (...):\n",
    "        mid = left + (right - left ) //2\n",
    "        if nums[mid] == target:\n",
    "            ...\n",
    "        elif nums[mid] <  target:\n",
    "            left = ...\n",
    "        elif nums[mid] > target:\n",
    "            right = ...\n",
    "    return ...\n",
    "```"
   ]
  },
  {
   "cell_type": "markdown",
   "metadata": {},
   "source": [
    "&emsp;&emsp;分析二分查找的一个技巧就是将所有的情况都列举出来，可以清楚的显示所有细节。其中...标记的部分，就是可能出现细节问题的地方\n",
    "#### 2.寻找一个数（基本的二分搜索）\n",
    "&emsp;&emsp;搜索一个数，如果存在，返回索引，否则返回-1"
   ]
  },
  {
   "cell_type": "code",
   "execution_count": 7,
   "metadata": {},
   "outputs": [],
   "source": [
    "def binarySearch(num_list,target):\n",
    "    left,right = 0,len(num_list) - 1\n",
    "    while left <= right:\n",
    "        mid = left + (right - left) //2\n",
    "        if num_list[mid] == target:\n",
    "            return mid\n",
    "        elif num_list[mid] > target:\n",
    "            right = mid - 1\n",
    "        else:\n",
    "            left = mid + 1\n",
    "    return -1"
   ]
  },
  {
   "cell_type": "code",
   "execution_count": 8,
   "metadata": {},
   "outputs": [],
   "source": [
    "nums = [2,4,5,6,9]\n",
    "target = 6\n",
    "res_index = find(nums,target)"
   ]
  },
  {
   "cell_type": "code",
   "execution_count": 9,
   "metadata": {},
   "outputs": [
    {
     "data": {
      "text/plain": [
       "3"
      ]
     },
     "execution_count": 9,
     "metadata": {},
     "output_type": "execute_result"
    }
   ],
   "source": [
    "res_index"
   ]
  },
  {
   "cell_type": "markdown",
   "metadata": {},
   "source": [
    "&emsp;&emsp;**问题**\n",
    "\n",
    "&emsp;&emsp;1.为什么while循环的条件中是<= ,而不是<?\n",
    "\n",
    "&emsp;&emsp;答：因为初始化right的赋值是len(nums) - 1,即最后一个元素的索引，而不是len(nums)，<= 和 < 可能出现在不同功能的二分查找中，区别是：前者相当于两端都是闭区间[left,right]，后者是左闭右开区间[left,right)，因为索引为len(nums)是越界的。在这个算法中使用的是前者[left,right]两端都闭的区间，这个区间就是每次进行搜索的区间。\n",
    "\n",
    "&emsp;&emsp;什么时候应该停止搜索？找到目标值的时候可以终止：\n",
    "```\n",
    "if nums[mid] == target:\n",
    "    return mid\n",
    "```\n",
    "&emsp;&emsp;但是如果没有找到，就需要while循转终止，然后返回-1,那么while循环应该什么时候终止呢？搜索区间为空的时候应该终止。while(left <= right)的终止条件是left == right + 1,写成区间的形式就是[right + 1,right]，这个时候区间为空，所以这时候终止while循环是正确的，直接返回-1.\n",
    "\n",
    "&emsp;&emsp;while (left < right)的终止条件是left == right,写成区间的形式是[left,right]，此时区间还有一个数字未检索，但是此时while循环就终止了，也就是说此时区间中的数字还未检查，如果这个时候直接返回-1是错误的\n",
    "\n",
    "&emsp;&emsp;如果要使用while(left < right),打个补丁如下:\n",
    "```\n",
    "while left < right:\n",
    "    ...\n",
    "return nums[left] == target ?left :-1\n",
    "```\n",
    "\n",
    "&emsp;&emsp;2.为什么是left = mid + 1,right = mid - 1,有的代码是left = mid ，right = mid ,这是怎么回事，如何判断?\n",
    "\n",
    "&emsp;&emsp;答：刚刚明确了搜索区间的概念，而且本算法的搜索区间的两端都是闭合的，即[left,right]，那么当发现索引mid不是要找的target，如何确定下一步的搜索空间？当然是[left ,mid - 1] or [mid + 1,right]，因为mid已经搜索过，应该从搜索空间去除。但是此算法含有一定的缺陷，如果给定有序数组nums = [1,2,2,2,3],target = 2 ,此算法返回的索引是2，没错，但是如果向得到target的左侧边界，即索引1，或者想得到target的右侧边界，即索引3，这种需求目前的算法是无法处理的。"
   ]
  },
  {
   "cell_type": "markdown",
   "metadata": {},
   "source": [
    "#### 2.寻找左侧边界的二分搜索\n",
    "&emsp;&emsp;代码如下"
   ]
  },
  {
   "cell_type": "code",
   "execution_count": 10,
   "metadata": {},
   "outputs": [],
   "source": [
    "def left_bound(nums,target):\n",
    "    if len(nums) == 0:return -1\n",
    "    left,right = 0,len(nums)\n",
    "    while left < right:\n",
    "        mid = left + (right - left) //2\n",
    "        if nums[mid] == target:\n",
    "            right = mid\n",
    "        elif nums[mid] < target:\n",
    "            left = mid + 1\n",
    "        elif nums[mid] > target:\n",
    "            right = mid\n",
    "            \n",
    "    return left"
   ]
  },
  {
   "cell_type": "code",
   "execution_count": 11,
   "metadata": {},
   "outputs": [
    {
     "name": "stdout",
     "output_type": "stream",
     "text": [
      "1\n"
     ]
    }
   ],
   "source": [
    "nums = [1,2,2,2,3]\n",
    "target = 2\n",
    "res_index = left_bound(nums,target)\n",
    "print(res_index)"
   ]
  },
  {
   "cell_type": "markdown",
   "metadata": {},
   "source": [
    "&emsp;&emsp;1.为什么while循环的条件中是< ,而不是<=\\?\n",
    "\n",
    "&emsp;&emsp;答：因为一开始right == len(nums)，而不是len(nums)，因此每次搜索的区间是左闭右开区间[left,right)，while（left < right）的终止条件是left == right，此时搜索区间[left,right)为空，所以可以正确终止。\n",
    "\n",
    "&emsp;&emsp;2.为什么没有返回-1的操作，如果nums中不存在target这个值，怎么办？\n",
    "\n",
    "&emsp;&emsp;答：对于左侧边界的特殊含义，对于nums = [1,2,2,2,3],target = 2,对于这个数组，算法会返回1，这个1的含义可以理解为nums中小于2的元素有1个。比如对于有序数组nums = [2,3,5,7],target = 1，算法返回0，含义是nums中小于1的元素有0个，在比如nums不变，target= 8，此时算法会返回4，含义是nums中小于8的元素有4个。综上可以看出，函数的返回值（left变量的值）取值区间是闭区间[0,len(nums)],所以简单添加两行代码就能在正确的时候return -1。\n",
    "```\n",
    "while left < right:\n",
    "    ...\n",
    "if left == len(nums):return -1\n",
    "return nums[left] == target?left:-1 \n",
    "```\n",
    "\n",
    "&emsp;&emsp;3.为什么是left = mid + 1,right = mid?和之前的算法不一样？\n",
    "\n",
    "&emsp;&emsp;答：因为此时的搜索区间是左闭右开的，所以当nums[mid]被检测之后，下一步的搜索区间应该是去掉mid分割成两个区间，即[left,mid)或[mid+1,right)\n",
    "\n",
    "&emsp;&emsp;4.为什么该算法能够搜索左侧边界？\n",
    "\n",
    "&emsp;&emsp;答：关键对于nums[mid] == target这种情况的处理：\n",
    "```\n",
    "if nums[mid] == target:\n",
    "    right = mid\n",
    "```\n",
    "&emsp;&emsp;可以看出，在找到target的时候不要立即返回，而是缩小搜索区间的上界right，在区间[left,mid)中继续搜索，即不断向左搜索，达到锁定左侧边界的目的。\n",
    "\n",
    "&emsp;&emsp;5.为什么返回left而不是right？\n",
    "\n",
    "&emsp;&emsp;答：跳出while循环的条件是left == right,所以返回left和返回right是一致的。"
   ]
  },
  {
   "cell_type": "markdown",
   "metadata": {},
   "source": [
    "#### 3.寻找右侧边界的二分搜索\n",
    "&emsp;&emsp;代码如下"
   ]
  },
  {
   "cell_type": "code",
   "execution_count": 12,
   "metadata": {},
   "outputs": [],
   "source": [
    "def right_bound(nums,target):\n",
    "    if len(nums) == 0:return -1\n",
    "    left = 0\n",
    "    right = len(nums)\n",
    "    while left < right:\n",
    "        mid = left + (right - left) // 2\n",
    "        if nums[mid] == target:\n",
    "            left = mid + 1\n",
    "        elif nums[mid] < target:\n",
    "            left = mid + 1\n",
    "        elif nums[mid] > target:\n",
    "            right = mid\n",
    "    return left - 1"
   ]
  },
  {
   "cell_type": "code",
   "execution_count": 13,
   "metadata": {},
   "outputs": [
    {
     "name": "stdout",
     "output_type": "stream",
     "text": [
      "3\n"
     ]
    }
   ],
   "source": [
    "nums = [1,2,2,2,3]\n",
    "target = 2\n",
    "res_index = right_bound(nums,target)\n",
    "print(res_index)"
   ]
  },
  {
   "cell_type": "markdown",
   "metadata": {},
   "source": [
    "&emsp;&emsp;1.为什么这个算法能够找到右侧边界?\n",
    "\n",
    "&emsp;&emsp;答：关键代码如下:\n",
    "```\n",
    "if nums[mid] == target:\n",
    "    left = mid + 1\n",
    "```\n",
    "&emsp;&emsp;当nums[mid] == target时，不要立即返回，而是增大搜索区间的下界left，使得区间不断向右收缩，达到锁定右侧边界的目的。\n",
    "\n",
    "&emsp;&emsp;2.为什么最后返回left - 1,而不像左侧边界的函数，返回left?\n",
    "\n",
    "&emsp;&emsp;答：为什么要减一，这是搜索右侧边界的一个特殊点，关键在于这个条件的判断：\n",
    "```\n",
    "if nums[mid] == target:\n",
    "    left = mid + 1\n",
    "```\n",
    "&emsp;&emsp;因为对left的更新是left = mid + 1，就是说while循环结束的时候，nums[left] 一定不等于target，而nums[left - 1] 可能是target。\n",
    "\n",
    "&emsp;&emsp;3.为什么最后没有返回-1，如果nums中不存在target这个值怎么办？\n",
    "\n",
    "&emsp;&emsp;答：添加两行代码\n",
    "```\n",
    "while left < right:\n",
    "    ...\n",
    "if left == 0:return -1\n",
    "return nums[left-1] == target?left - 1:-1\n",
    "```"
   ]
  },
  {
   "cell_type": "markdown",
   "metadata": {},
   "source": [
    "#### 4.最后总结\n",
    "&emsp;&emsp;梳理一下这些细节差异的因果逻辑：\n",
    "\n",
    "1.最基本的二分查找算法：\n",
    "\n",
    "    因为初始化right = len(nums) -1\n",
    "    所以决定了搜索区间是[left,right]\n",
    "    所以决定了循环条件是while(left <= right)\n",
    "    同时也决定了left = mid + 1 和 right = mid - 1\n",
    "    因为只需要找到一个target的索引即可\n",
    "    所有当nums[mid] == target 的时候可以立即返回\n",
    "\n",
    "2.寻找左侧边界的二分查找\n",
    "\n",
    "    因为初始化right = len(nums)\n",
    "    所以决定了搜索区间是[left,right)\n",
    "    所以决定了循环条件是while (left<right)\n",
    "    同时也决定了left = mid + 1和right = mid\n",
    "    我们需要找到target的最左侧索引\n",
    "    所以当nums[mid] == target 时不要立即返回\n",
    "    而是要收紧右侧边界以锁定左侧边界\n",
    "\n",
    "3.寻找右侧边界的二分查找\n",
    "\n",
    "    因为初始化right = len(nums)\n",
    "    所以决定了搜索区间是[left,right)\n",
    "    所以决定了循环条件是while (left < right)\n",
    "    同时也决定了left = mid + 1 和 right = mid\n",
    "    我们需要找到target的最右侧索引\n",
    "    所以当nums[mid] == target时不要立即返回\n",
    "    而是要收紧左侧以锁定右侧边界"
   ]
  },
  {
   "cell_type": "markdown",
   "metadata": {},
   "source": [
    "#### 5.二分搜索补充(个人感觉上面的方法不太明确，找到了一个更好的方案，进行补充)"
   ]
  },
  {
   "cell_type": "code",
   "execution_count": 1,
   "metadata": {},
   "outputs": [],
   "source": [
    "#c++ 标准库中的bug_free的通用写法\n",
    "#即使区间为空，答案不存在，有重复元素，搜索开/闭的上/下接也同样适用\n",
    "def lower_bound(array,first,last,value):\n",
    "    while first < last:\n",
    "        mid = first = (last - first) //2\n",
    "        if array[mid] < value:\n",
    "            first = mid + 1\n",
    "        else:\n",
    "            last = mid\n",
    "        return first"
   ]
  },
  {
   "cell_type": "markdown",
   "metadata": {},
   "source": [
    "&emsp;&emsp;位置调整只出现了一次，而且最后返回first 或者 last都是正确的，因为搜索区间是左闭右开的。\n",
    "\n",
    "&emsp;&emsp;二分搜索写法可以分为求上界和求下界情况两种，并转换为以下的等价写法。\n",
    "\n",
    "&emsp;&emsp;1.求下界\n",
    "\n",
    "&emsp;&emsp;即找出满足x >= value 或 x > value的最小的x的位置，用左闭右开搜索区间[first,last), 区间为空时终止并返回fisrt或last(first == last),求中点时从下界first闭区间侧出发，mid = first + (last - first)//2,以确保区间长度为1时，mid = first仍然在[first,last)区间内。\n",
    "\n",
    "&emsp;&emsp;2.求上界\n",
    "\n",
    "&emsp;&emsp;即找出满足x < = value 或 x < value 条件的最大x的范围，可以调用互补的求下界的函数在减一得到，如x >= value 的下界在减一 就是x < value的上界"
   ]
  },
  {
   "cell_type": "markdown",
   "metadata": {},
   "source": [
    "&emsp;&emsp;**怎样理解这简单的6行代码**\n",
    "\n",
    "    1.搜索范围[first,last)不为空，即first < last\n",
    "    2.搜索范围[first,last)左侧，即[first0,first)内所有元素(若存在)，都小于value,其中first0是first的初始值\n",
    "    3.搜索范围[first,last)右侧，即[last,last0)内所有元素(若存在)，都大于等于value,其中last0是last的初始值\n",
    "    \n"
   ]
  },
  {
   "cell_type": "markdown",
   "metadata": {},
   "source": [
    "&emsp;&emsp;分析代码if array[mid] < value: 说明mid应该是搜索区间的左侧区间，因此下一个搜索区间是first = mid + 1 其他情况是array[mid] >= value 说明mid应该是搜索区间的右侧，last = mid ，当长度为1时，依然在循环内，继续检查，最后一个元素一定是在左侧或者右侧，此时first == last。"
   ]
  },
  {
   "cell_type": "markdown",
   "metadata": {},
   "source": [
    "#### 6.二分搜索 leetcode 例题\n",
    "\n",
    "| 基础   |                                         |\n",
    "|------|-----------------------------------------|\n",
    "| 278  | First Bad Version                       |\n",
    "| 35   | Search Insert Position                  |\n",
    "| 33   | Search in Rotated Sorted Array          |\n",
    "| 81   | Search in Rotated Sorted Array II       |\n",
    "| 153  | Find Minimum in Rotated Sorted Array    |\n",
    "| 154  | Find Minimum in Rotated Sorted Array II |\n",
    "| 162\t | Find Peak Element                       |\n",
    "| 374  | Guess Number Higher or Lower            |\n",
    "| 34   | Search for a Range                      |\n",
    "| 350  | Intersection of Two Arrays II           |\n",
    "| 315  | Count of Smaller Numbers After Self     |\n",
    "| 349  | Intersection of Two Arrays              |\n",
    "| 300  | Longest Increasing Subsequence          |\n",
    "| 354  | Russian Doll Envelopes                  |\n"
   ]
  }
 ],
 "metadata": {
  "kernelspec": {
   "display_name": "Python 3",
   "language": "python",
   "name": "python3"
  },
  "language_info": {
   "codemirror_mode": {
    "name": "ipython",
    "version": 3
   },
   "file_extension": ".py",
   "mimetype": "text/x-python",
   "name": "python",
   "nbconvert_exporter": "python",
   "pygments_lexer": "ipython3",
   "version": "3.6.9"
  }
 },
 "nbformat": 4,
 "nbformat_minor": 4
}
