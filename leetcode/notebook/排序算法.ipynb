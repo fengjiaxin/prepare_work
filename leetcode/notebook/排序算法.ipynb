{
 "cells": [
  {
   "cell_type": "markdown",
   "metadata": {},
   "source": [
    "### 排序算法\n",
    "\n",
    "&emsp;&emsp;今天主要总结一下面试中经常考的快速排序，归并排序和堆排序\n",
    "\n",
    "#### 1.快速排序\n",
    "##### 1.1 描述\n",
    "\n",
    "&emsp;&emsp;采用分治的思想，下面对一个典型的子数组A进行排序，其中数组A的长度为length,进行快速排序的分治过程。\n",
    "\n",
    "+ 1.分解：数组A[0:length]被划分为两个(可能为空)子数组A[0:q]和A[q+1:length],其中使得左边的每个元素都小于等于A[q]，右边的每个元素都大于A[1],其中计算下标q也是计算的一部分。\n",
    "+ 2.解决：通过递归调用快速排序，对子数组A[0:q]和A[q+1:length]进行排序\n",
    "+ 3.合并：因为子数组都是原址排序，所以不需要合并操作\n",
    "\n",
    "##### 1.2 性能\n",
    "\n",
    "**最坏情况划分**\n",
    "\n",
    "&emsp;&emsp;当划分产生的子问题分别包含n-1个元素和0个元素，假设算法的每次递归调用都出现了这种不平衡，其中划分操作的时间复杂度是$\\theta(n)$，对一个大小为0的数组进行递归调用会直接返回，因此T(0) = 1，因此递归表示为：\n",
    "\n",
    "$$T(n) = T(n-1) + \\theta(n)$$\n",
    "\n",
    "&emsp;&emsp;最坏情况发生的时间复杂度是$\\theta(n^2)$\n",
    "\n",
    "**最好情况划分**\n",
    "\n",
    "&emsp;&emsp;在每次划分的时候，都是产生两个平衡的子问题，因此递归表示为：\n",
    "\n",
    "$$T(n) = 2T(n//2) + \\theta(n)$$\n",
    "\n",
    "&emsp;&emsp;最好情况发生的时间复杂度是$\\theta(nlogn)$\n",
    "\n",
    "**平均情况划分**\n",
    "\n",
    "&emsp;&emsp;在每次划分的时候，假设划分比例为9:1，因此递归表示为：\n",
    "\n",
    "$$T(n) = T(9n//10) + T(n//10) + cn$$\n",
    "\n",
    "&emsp;&emsp;平均情况发生的时间复杂度是$O(nlogn)$\n",
    "\n",
    "##### 1.3 代码"
   ]
  },
  {
   "cell_type": "code",
   "execution_count": 23,
   "metadata": {},
   "outputs": [],
   "source": [
    "# 实现对A[left:right+1]区间的划分，并返回正确的位置index\n",
    "def partion(A,left,right):\n",
    "    if left == right:\n",
    "        return left\n",
    "    elif left < right:\n",
    "        pivot_val = A[left]\n",
    "        while left < right:\n",
    "            # 从右往左找到小于pivot的元素\n",
    "            while left < right and A[right] >= pivot_val:\n",
    "                right -= 1\n",
    "            if left < right:\n",
    "                A[left] = A[right]\n",
    "            # 从左往右找到第一个大于等于pivot的元素\n",
    "            while left < right and A[left] < pivot_val:\n",
    "                left += 1\n",
    "            # 只有找到了才能交换\n",
    "            if left < right:\n",
    "                A[right] = A[left]\n",
    "        A[left] = pivot_val\n",
    "        return left\n",
    "    \n",
    "# 实现快速排序\n",
    "def quick_sort(A,start,end):\n",
    "    mid = partion(A,start,end)\n",
    "    if start <= mid -1:\n",
    "        quick_sort(A,start,mid-1)\n",
    "    if mid + 1 <= end:\n",
    "        quick_sort(A,mid+1,end)"
   ]
  },
  {
   "cell_type": "code",
   "execution_count": 24,
   "metadata": {},
   "outputs": [
    {
     "name": "stdout",
     "output_type": "stream",
     "text": [
      "begin:[13, 19, 9, 5, 12, 8, 7, 4, 21, 2, 6]\n",
      "after:[2, 4, 5, 6, 7, 8, 9, 12, 13, 19, 21]\n"
     ]
    }
   ],
   "source": [
    "nums = [13,19,9,5,12,8,7,4,21,2,6]\n",
    "print('begin:' + str(nums))\n",
    "quick_sort(nums,0,len(nums)-1)\n",
    "print('after:' + str(nums))"
   ]
  },
  {
   "cell_type": "markdown",
   "metadata": {},
   "source": [
    "#### 2.归并排序\n",
    "##### 2.1 描述\n",
    "\n",
    "&emsp;&emsp;归并排序算法完全遵循分治模式，操作如下\n",
    "\n",
    "+ 1.分解：分解待排序的n个元素的序列成成各自具有n//2个元素的两个子序列\n",
    "+ 2.解决：使用归并排序递归的排序两个子序列\n",
    "+ 3.合并：合并两个已排序的子序列以产生排好序的答案\n",
    "\n",
    "##### 2.2 代码"
   ]
  },
  {
   "cell_type": "code",
   "execution_count": 14,
   "metadata": {},
   "outputs": [],
   "source": [
    "class Solution:\n",
    "    def __init__(self,nums):\n",
    "        self.nums = nums\n",
    "        self.copy = nums.copy()\n",
    "    def merge(self,left,mid,right):\n",
    "        # 假设nums[left:mid+1]和nums[mid+1:right+1]是已经排序的子序列\n",
    "        for i in range(left,right + 1):\n",
    "            self.copy[i] = self.nums[i]\n",
    "        i = left\n",
    "        j = mid + 1\n",
    "        index = left\n",
    "        while i <= mid and j <= right:\n",
    "            if self.copy[i] <= self.copy[j]:\n",
    "                self.nums[index] = self.copy[i]\n",
    "                i += 1\n",
    "            elif self.copy[i] > self.copy[j]:\n",
    "                self.nums[index] = self.copy[j]\n",
    "                j += 1\n",
    "            index += 1\n",
    "            \n",
    "        while i <= mid:\n",
    "            self.nums[index] = self.copy[i]\n",
    "            i+= 1\n",
    "            index += 1\n",
    "        while j <= right:\n",
    "            self.nums[index] = self.copy[j]\n",
    "            j += 1\n",
    "            index += 1\n",
    "    def merge_sort(self,left,right):\n",
    "        if left < right:\n",
    "            mid = left + (right - left)//2\n",
    "            self.merge_sort(left,mid)\n",
    "            self.merge_sort(mid+1,right)\n",
    "            self.merge(left,mid,right)"
   ]
  },
  {
   "cell_type": "code",
   "execution_count": 15,
   "metadata": {},
   "outputs": [
    {
     "name": "stdout",
     "output_type": "stream",
     "text": [
      "begin:[13, 19, 9, 5, 12, 8, 7, 4, 21, 2, 6]\n",
      "after:[2, 4, 5, 6, 7, 8, 9, 12, 13, 19, 21]\n"
     ]
    }
   ],
   "source": [
    "nums = [13,19,9,5,12,8,7,4,21,2,6]\n",
    "print('begin:' + str(nums))\n",
    "s = Solution(nums)\n",
    "s.merge_sort(0,len(nums)-1)\n",
    "print('after:' + str(nums))"
   ]
  },
  {
   "cell_type": "markdown",
   "metadata": {},
   "source": [
    "#### 3.堆排序\n",
    "##### 3.1 描述\n",
    "\n",
    "&emsp;&emsp;二叉堆是一个数组，可以看成一个近似的完全二叉树。\n",
    "\n",
    "**最大堆性质**\n",
    "\n",
    "&emsp;&emsp;在最大堆中，最大堆性质是除了根节点以外的所有节点i都要满足：\n",
    "\n",
    "$$A[parent[i]] >= A[i]$$\n",
    "\n",
    "&emsp;&emsp;因此堆中的最大元素放在根节点上。\n",
    "\n",
    "+ 1.max_heapify():时间复杂度是O(logn)，是维护最大堆性质的关键\n",
    "+ 2.build_max_heap():时间复杂度是O(n)，功能是从无序的输入数据数组中构建一个最大堆\n",
    "+ 3.heap_sort():时间复杂度是O(nlogn)，功能是对一个数组进行原址排序\n",
    "\n",
    "\n",
    "##### 3.2 维护堆的性质\n",
    "\n",
    "&emsp;&emsp;max_heapify()是维护最大堆性质的函数，输入是一个数组A和一个下标index,在调用函数的过程中，假设根节点为left(index)和right(index)的二叉树都是最大堆。但是此时A[index]有可能小于其孩子，这样就违背了最大堆性质。max_heapify()通过让A[i]的值在最大堆中逐级下降，从而使得下标为index的节点的子树重新遵循最大堆性质。\n",
    "\n",
    "##### 3.3 建堆\n",
    "\n",
    "&emsp;&emsp;可以使用自底向上的方式利用max_heapify()过程将数组转换为最大堆。树的叶子节点可以看成只有一个元素的堆，然后堆树中的其他节点从大到小都调用一次max_heapify()\n",
    "\n",
    "##### 3.3 堆排序\n",
    "\n",
    "&emsp;&emsp;初始的时候，调用build_max_heap()的方法将数组A建成最大堆，其中最后一个元素是A[A.size-1],然后将最后一个元素和根节点交换，此时A[0]不再符合最大堆性质，需要调用max_heapify()过程进行调用。\n",
    "\n",
    "##### 3.1 代码"
   ]
  },
  {
   "cell_type": "code",
   "execution_count": 20,
   "metadata": {},
   "outputs": [],
   "source": [
    "class Heap:\n",
    "    def __init__(self,nums):\n",
    "        self.nums = nums\n",
    "        self.length = len(nums)\n",
    "        self.size = len(nums)\n",
    "    def get_left(self,index):\n",
    "        return 2 * index + 1\n",
    "    def get_right(self,index):\n",
    "        return 2 * index + 2\n",
    "    def exchange(self,a,b):\n",
    "        temp = self.nums[a]\n",
    "        self.nums[a] = self.nums[b]\n",
    "        self.nums[b] = temp\n",
    "    def max_heapify(self,index):\n",
    "        pivot = self.nums[index]\n",
    "        largest = index\n",
    "        left_index = self.get_left(index)\n",
    "        if left_index <= self.size-1 and self.nums[left_index] > pivot:\n",
    "            largest = left_index\n",
    "            pivot = self.nums[left_index]\n",
    "        right_index = self.get_right(index)\n",
    "        if right_index <= self.size-1 and self.nums[right_index] > pivot:\n",
    "            largest = right_index\n",
    "        if largest != index:\n",
    "            self.exchange(index,largest)\n",
    "            self.max_heapify(largest)\n",
    "    def build_max_heap(self):\n",
    "        for i in range((self.size-1)//2,-1,-1):\n",
    "            self.max_heapify(i)\n",
    "    def heap_sort(self):\n",
    "        self.build_max_heap()\n",
    "        for i in range(self.length - 1,0,-1):\n",
    "            self.exchange(i,0)\n",
    "            self.size -= 1\n",
    "            self.max_heapify(0)"
   ]
  },
  {
   "cell_type": "code",
   "execution_count": 21,
   "metadata": {},
   "outputs": [
    {
     "name": "stdout",
     "output_type": "stream",
     "text": [
      "begin:[13, 19, 9, 5, 12, 8, 7, 4, 21, 2, 6]\n",
      "after:[2, 4, 5, 6, 7, 8, 9, 12, 13, 19, 21]\n"
     ]
    }
   ],
   "source": [
    "nums = [13,19,9,5,12,8,7,4,21,2,6]\n",
    "print('begin:' + str(nums))\n",
    "hp = Heap(nums)\n",
    "hp.heap_sort()\n",
    "print('after:' + str(nums))"
   ]
  }
 ],
 "metadata": {
  "kernelspec": {
   "display_name": "Python 3",
   "language": "python",
   "name": "python3"
  },
  "language_info": {
   "codemirror_mode": {
    "name": "ipython",
    "version": 3
   },
   "file_extension": ".py",
   "mimetype": "text/x-python",
   "name": "python",
   "nbconvert_exporter": "python",
   "pygments_lexer": "ipython3",
   "version": "3.6.9"
  }
 },
 "nbformat": 4,
 "nbformat_minor": 4
}
