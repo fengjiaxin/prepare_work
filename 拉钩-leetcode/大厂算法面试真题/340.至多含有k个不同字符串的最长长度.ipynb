{
 "cells": [
  {
   "cell_type": "code",
   "execution_count": 1,
   "metadata": {},
   "outputs": [],
   "source": [
    "# 含有k个不同字符的最长子串\n",
    "# 比较绕口\n",
    "# 字串问题应该就是滑动窗口的意思\n",
    "# 先移动right指针，然后移动left指针\n",
    "# 得保证窗口内的unique元素个数是k\n",
    "def maxSub(s,k):\n",
    "    window = {}\n",
    "    res = 0\n",
    "    left = 0\n",
    "    right = 0\n",
    "    # 左闭右开区间\n",
    "    length = len(s)\n",
    "    while right < length:\n",
    "        cur = s[right]\n",
    "        if cur not in window:\n",
    "            window[cur] = 0\n",
    "        window[cur] = 1\n",
    "        right += 1\n",
    "        while len(window) > k:\n",
    "            prev = s[left]\n",
    "            window[prev] -= 1\n",
    "            if window[prev] == 0:\n",
    "                del window[prev]\n",
    "            left += 1\n",
    "        res = max(res,right - left)\n",
    "    return res"
   ]
  },
  {
   "cell_type": "code",
   "execution_count": 2,
   "metadata": {},
   "outputs": [
    {
     "data": {
      "text/plain": [
       "3"
      ]
     },
     "execution_count": 2,
     "metadata": {},
     "output_type": "execute_result"
    }
   ],
   "source": [
    "s = \"eceba\"\n",
    "k = 2\n",
    "maxSub(s,k)"
   ]
  }
 ],
 "metadata": {
  "kernelspec": {
   "display_name": "Python 3",
   "language": "python",
   "name": "python3"
  },
  "language_info": {
   "codemirror_mode": {
    "name": "ipython",
    "version": 3
   },
   "file_extension": ".py",
   "mimetype": "text/x-python",
   "name": "python",
   "nbconvert_exporter": "python",
   "pygments_lexer": "ipython3",
   "version": "3.6.10"
  }
 },
 "nbformat": 4,
 "nbformat_minor": 4
}
