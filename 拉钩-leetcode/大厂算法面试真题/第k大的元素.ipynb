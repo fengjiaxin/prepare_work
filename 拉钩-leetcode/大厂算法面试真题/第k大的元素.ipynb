{
 "cells": [
  {
   "cell_type": "code",
   "execution_count": 3,
   "metadata": {},
   "outputs": [],
   "source": [
    "# 第k大的元素\n",
    "# 借助 快速排序 的partition函数，均摊时间是O(N)时间找到第k大的元素\n",
    "\n",
    "def partition(nums,left,right):\n",
    "    pivot = nums[left]\n",
    "    while left < right:\n",
    "        # 先从右边找到第一个小于pivot的元素\n",
    "        while left < right and nums[right] >= pivot:\n",
    "            right -= 1\n",
    "        nums[left] = nums[right]\n",
    "        while left < right and nums[left] <= pivot:\n",
    "            left += 1\n",
    "        nums[right] = nums[left]\n",
    "    nums[left] = pivot\n",
    "    return left\n",
    "\n",
    "def findKSmall(nums,k):\n",
    "    length = len(nums)\n",
    "    start = 0\n",
    "    end = length - 1\n",
    "    mid = partition(nums,start,end)\n",
    "    print(mid,nums)\n",
    "    while mid != k - 1:\n",
    "        if mid > k-1:\n",
    "            end = mid - 1\n",
    "            mid = partition(nums,start,end)\n",
    "        else:\n",
    "            start = mid + 1\n",
    "            mid = partition(nums,start,end)\n",
    "    return nums[:k]"
   ]
  },
  {
   "cell_type": "code",
   "execution_count": 4,
   "metadata": {},
   "outputs": [
    {
     "name": "stdout",
     "output_type": "stream",
     "text": [
      "3 [2, 3, 4, 5, 9, 6, 7]\n"
     ]
    },
    {
     "data": {
      "text/plain": [
       "[2, 3, 4, 5]"
      ]
     },
     "execution_count": 4,
     "metadata": {},
     "output_type": "execute_result"
    }
   ],
   "source": [
    "nums = [5,7,9,4,3,6,2]\n",
    "findKSmall(nums,4)"
   ]
  }
 ],
 "metadata": {
  "kernelspec": {
   "display_name": "Python 3",
   "language": "python",
   "name": "python3"
  },
  "language_info": {
   "codemirror_mode": {
    "name": "ipython",
    "version": 3
   },
   "file_extension": ".py",
   "mimetype": "text/x-python",
   "name": "python",
   "nbconvert_exporter": "python",
   "pygments_lexer": "ipython3",
   "version": "3.7.4"
  }
 },
 "nbformat": 4,
 "nbformat_minor": 4
}
