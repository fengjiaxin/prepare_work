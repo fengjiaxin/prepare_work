{
 "cells": [
  {
   "cell_type": "code",
   "execution_count": 5,
   "metadata": {},
   "outputs": [],
   "source": [
    "# 一看就是滑动窗口，需要维持窗口内的元素freq = 1\n",
    "def maxUnique(s):\n",
    "    window = {}\n",
    "    left = 0\n",
    "    right = 0\n",
    "    # 左闭右开\n",
    "    length = len(s)\n",
    "    res = 0\n",
    "    while right < length:\n",
    "        curr = s[right]\n",
    "        if curr not in window:\n",
    "            window[curr] = 0\n",
    "        window[curr] += 1\n",
    "        right += 1\n",
    "        while window[curr] > 1:\n",
    "            prev = s[left]\n",
    "            window[prev] -= 1\n",
    "            left += 1\n",
    "        res = max(res,right - left)\n",
    "    return res"
   ]
  },
  {
   "cell_type": "code",
   "execution_count": 6,
   "metadata": {},
   "outputs": [
    {
     "data": {
      "text/plain": [
       "3"
      ]
     },
     "execution_count": 6,
     "metadata": {},
     "output_type": "execute_result"
    }
   ],
   "source": [
    "s = \"abcabcbb\"\n",
    "maxUnique(s)"
   ]
  },
  {
   "cell_type": "code",
   "execution_count": null,
   "metadata": {},
   "outputs": [],
   "source": []
  }
 ],
 "metadata": {
  "kernelspec": {
   "display_name": "Python 3",
   "language": "python",
   "name": "python3"
  },
  "language_info": {
   "codemirror_mode": {
    "name": "ipython",
    "version": 3
   },
   "file_extension": ".py",
   "mimetype": "text/x-python",
   "name": "python",
   "nbconvert_exporter": "python",
   "pygments_lexer": "ipython3",
   "version": "3.7.4"
  }
 },
 "nbformat": 4,
 "nbformat_minor": 4
}
