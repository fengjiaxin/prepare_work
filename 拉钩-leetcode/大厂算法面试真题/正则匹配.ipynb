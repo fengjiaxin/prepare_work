{
 "cells": [
  {
   "cell_type": "code",
   "execution_count": 1,
   "metadata": {},
   "outputs": [],
   "source": [
    "# 正则匹配，“.”匹配任何字符\n",
    "# “*”匹配前面1个字符0次或多次\n",
    "# 如果没有“*”，我们怎么做，很简单，两个指针i,j按照s,p走，最后看是否对齐\n",
    "def match1(s,p):\n",
    "    m = len(s)\n",
    "    n = len(p)\n",
    "    i = 0\n",
    "    j = 0\n",
    "    while i < m and j < n:\n",
    "        if s[i] == p[j] or p[j] == \".\":\n",
    "            i += 1\n",
    "            j += 1\n",
    "        else:\n",
    "            return False\n",
    "    return i == j"
   ]
  },
  {
   "cell_type": "code",
   "execution_count": 6,
   "metadata": {},
   "outputs": [],
   "source": [
    "# 如果带*问题就多了\n",
    "# 如果s游走到i,p游走到j,如果p[j+1] == \"*\"\n",
    "# 如果s[i] == p[j],那么可以匹配0次或多次\n",
    "# 如果s[i] != p[j],那么只能匹配0次\n",
    "# base case呢\n",
    "# 如果j == n:i == m就可以判断是否匹配上了\n",
    "# 如果 i == m ,那么简单判断j == n不太行，而是需要判断p[j:]是否可以匹配“”即可，如果是“x*y*z*”这样的格式就可以了\n",
    "def match(s,p):\n",
    "    m = len(s)\n",
    "    n = len(p)\n",
    "    memo = {}\n",
    "    def helper(i,j):\n",
    "        if (i,j) in memo:\n",
    "            return memo[(i,j)]\n",
    "        if j == n:\n",
    "            return i == m\n",
    "        if i == m:\n",
    "            if (n - j) % 2 == 1:\n",
    "                return False\n",
    "            for k in range(i+1,n,2):\n",
    "                if k != \"*\":\n",
    "                    return False\n",
    "            return True\n",
    "        res = False\n",
    "        if s[i] == p[j] or p[j] == \".\":\n",
    "            if j < n - 1 and p[j+1] == \"*\":\n",
    "                res = helper(i,j+2) or helper(i+1,j)\n",
    "            else:\n",
    "                res = helper(i+1,j+1)\n",
    "        else:\n",
    "            if j < n - 1 and p[j+1] == \"*\":\n",
    "                res = helper(i,j+2)\n",
    "            else:\n",
    "                res = False\n",
    "        memo[(i,j)] = res\n",
    "        return res\n",
    "    return helper(0,0)"
   ]
  },
  {
   "cell_type": "code",
   "execution_count": 7,
   "metadata": {},
   "outputs": [
    {
     "data": {
      "text/plain": [
       "True"
      ]
     },
     "execution_count": 7,
     "metadata": {},
     "output_type": "execute_result"
    }
   ],
   "source": [
    "s = \"ab\"\n",
    "p = \".*\"\n",
    "match(s,p)"
   ]
  },
  {
   "cell_type": "code",
   "execution_count": null,
   "metadata": {},
   "outputs": [],
   "source": []
  }
 ],
 "metadata": {
  "kernelspec": {
   "display_name": "Python 3",
   "language": "python",
   "name": "python3"
  },
  "language_info": {
   "codemirror_mode": {
    "name": "ipython",
    "version": 3
   },
   "file_extension": ".py",
   "mimetype": "text/x-python",
   "name": "python",
   "nbconvert_exporter": "python",
   "pygments_lexer": "ipython3",
   "version": "3.7.4"
  }
 },
 "nbformat": 4,
 "nbformat_minor": 4
}
