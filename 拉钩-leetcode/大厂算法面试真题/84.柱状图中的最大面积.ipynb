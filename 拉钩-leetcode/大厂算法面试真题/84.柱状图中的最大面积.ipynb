{
 "cells": [
  {
   "cell_type": "code",
   "execution_count": 5,
   "metadata": {},
   "outputs": [],
   "source": [
    "# 柱状图中的最大面积\n",
    "# 思路，首先最大面积的最大值有可能是柱状图中的每个元素\n",
    "# 那么如何做到在遍历过程中保持O(n)时间复杂度\n",
    "# 如果使用单调栈的话\n",
    "# 保持递增，然后碰到比栈顶小的元素，可以弹出栈，宽度就是i - top - 1\n",
    "# 当然最后的话还得把栈中所有的元素都弄出来进行计算\n",
    "# 举个例子 2，1，5，6，2，3\n",
    "# 栈中是2，来1，把2弹出，计算2为高的最大值1，然后1入栈，然后5，6，入栈，来2，分别把6，5，出栈，然后计算\n",
    "# 来了2，入栈，来了3入栈，最后需要对栈中所有的元素计算一下\n",
    "def maxArea(nums):\n",
    "    length = len(nums)\n",
    "    stack = []\n",
    "    res = 0\n",
    "    for i in range(length + 1):\n",
    "        # 什么时候需要将栈顶元素弹出来\n",
    "        while len(stack) > 0 and (i == length or nums[i] < nums[stack[-1]]):\n",
    "            top_index = stack.pop(-1)\n",
    "            height = nums[top_index]\n",
    "            weight = i - top_index\n",
    "            res = max(res,weight * height)\n",
    "        stack.append(i)\n",
    "    return res"
   ]
  },
  {
   "cell_type": "code",
   "execution_count": 6,
   "metadata": {},
   "outputs": [
    {
     "data": {
      "text/plain": [
       "10"
      ]
     },
     "execution_count": 6,
     "metadata": {},
     "output_type": "execute_result"
    }
   ],
   "source": [
    "nums = [2,1,5,6,2,3]\n",
    "maxArea(nums)"
   ]
  }
 ],
 "metadata": {
  "kernelspec": {
   "display_name": "Python 3",
   "language": "python",
   "name": "python3"
  },
  "language_info": {
   "codemirror_mode": {
    "name": "ipython",
    "version": 3
   },
   "file_extension": ".py",
   "mimetype": "text/x-python",
   "name": "python",
   "nbconvert_exporter": "python",
   "pygments_lexer": "ipython3",
   "version": "3.6.10"
  }
 },
 "nbformat": 4,
 "nbformat_minor": 4
}
