{
 "cells": [
  {
   "cell_type": "code",
   "execution_count": 1,
   "metadata": {},
   "outputs": [],
   "source": [
    "# 给定⼀一个区间的集合，找到需要移除区间的最⼩小数量量，使剩余区间互不不重叠。\n",
    "# 所有区间问题首先考虑的就是排序问题\n",
    "# 反向思考，区间集合中有几个不重叠的区间\n",
    "def removeLists(nums):\n",
    "    nums.sort(key = lambda x:x[0])\n",
    "    res = []\n",
    "    res.append(nums[0])\n",
    "    length = len(nums)\n",
    "    for i in range(1,length):\n",
    "        ints = nums[i]\n",
    "        if ints[0] < res[-1][1]:\n",
    "            continue\n",
    "        else:\n",
    "            res.append(ints)\n",
    "    count = len(res)\n",
    "    return length - count"
   ]
  },
  {
   "cell_type": "code",
   "execution_count": 2,
   "metadata": {},
   "outputs": [
    {
     "data": {
      "text/plain": [
       "1"
      ]
     },
     "execution_count": 2,
     "metadata": {},
     "output_type": "execute_result"
    }
   ],
   "source": [
    "nums = [[1,2], [2,3], [3,4], [1,3]]\n",
    "removeLists(nums)"
   ]
  }
 ],
 "metadata": {
  "kernelspec": {
   "display_name": "Python 3",
   "language": "python",
   "name": "python3"
  },
  "language_info": {
   "codemirror_mode": {
    "name": "ipython",
    "version": 3
   },
   "file_extension": ".py",
   "mimetype": "text/x-python",
   "name": "python",
   "nbconvert_exporter": "python",
   "pygments_lexer": "ipython3",
   "version": "3.7.4"
  }
 },
 "nbformat": 4,
 "nbformat_minor": 4
}
