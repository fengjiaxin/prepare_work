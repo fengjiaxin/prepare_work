{
 "cells": [
  {
   "cell_type": "code",
   "execution_count": 1,
   "metadata": {},
   "outputs": [],
   "source": [
    "# 合并区间\n",
    "# 给去一个区间，合并所有重叠区间\n",
    "# 思路：首先按照start排序，有三种情况\n",
    "def mergeLists(nums):\n",
    "    nums.sort(key = lambda x:x[0])\n",
    "    res = []\n",
    "    length = len(nums)\n",
    "    res.append(nums[0])\n",
    "    for i in range(1,length):\n",
    "        ints = nums[i]\n",
    "        start,end = ints[0],ints[1]\n",
    "        if start > res[-1][1]:\n",
    "            res.append(ints)\n",
    "        else:\n",
    "            res[-1][1] = max(res[-1][1],end)\n",
    "    return res"
   ]
  },
  {
   "cell_type": "code",
   "execution_count": 2,
   "metadata": {},
   "outputs": [
    {
     "data": {
      "text/plain": [
       "[[1, 6], [8, 10], [15, 18]]"
      ]
     },
     "execution_count": 2,
     "metadata": {},
     "output_type": "execute_result"
    }
   ],
   "source": [
    "nums = [[1,3], [2,6], [8,10], [15,18]]\n",
    "mergeLists(nums)"
   ]
  },
  {
   "cell_type": "code",
   "execution_count": null,
   "metadata": {},
   "outputs": [],
   "source": []
  }
 ],
 "metadata": {
  "kernelspec": {
   "display_name": "Python 3",
   "language": "python",
   "name": "python3"
  },
  "language_info": {
   "codemirror_mode": {
    "name": "ipython",
    "version": 3
   },
   "file_extension": ".py",
   "mimetype": "text/x-python",
   "name": "python",
   "nbconvert_exporter": "python",
   "pygments_lexer": "ipython3",
   "version": "3.7.4"
  }
 },
 "nbformat": 4,
 "nbformat_minor": 4
}
