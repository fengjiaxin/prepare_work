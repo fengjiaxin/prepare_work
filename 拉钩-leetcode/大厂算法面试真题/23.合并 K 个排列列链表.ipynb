{
 "cells": [
  {
   "cell_type": "code",
   "execution_count": 1,
   "metadata": {},
   "outputs": [],
   "source": [
    "# 合并k个排序列表\n",
    "# k个怎么做呢\n",
    "# 可不可以用分治法呢\n",
    "# 先合并左半部分，再合并右半部分"
   ]
  },
  {
   "cell_type": "code",
   "execution_count": 3,
   "metadata": {},
   "outputs": [],
   "source": [
    "# Definition for singly-linked list.\n",
    "# class ListNode:\n",
    "#     def __init__(self, val=0, next=None):\n",
    "#         self.val = val\n",
    "#         self.next = next\n",
    "class Solution:\n",
    "    # 先把k个链表分成两堆，left一堆，right一堆，合并好之后在合并left,right两队\n",
    "    def mergeTwoLists(self,node1,node2):\n",
    "        if node1 is None:\n",
    "            return node2\n",
    "        if node2 is None:\n",
    "            return node1\n",
    "        if node1.val < node2.val:\n",
    "            node1.next = self.mergeTwoLists(node1.next,node2)\n",
    "            return node1\n",
    "        else:\n",
    "            node2.next = self.mergeTwoLists(node1,node2.next)\n",
    "            return node2\n",
    "    def mergeKLists(self, lists):\n",
    "        length = len(lists)\n",
    "        if length == 0:\n",
    "            return None\n",
    "        if length == 1:\n",
    "            return lists[0]    \n",
    "        mid = (length - 1)//2\n",
    "        leftLists = lists[0:mid + 1]\n",
    "        rightLists = lists[mid+1:]\n",
    "        node1 = self.mergeKLists(leftLists)\n",
    "        node2 = self.mergeKLists(rightLists)\n",
    "        return self.mergeTwoLists(node1,node2)"
   ]
  }
 ],
 "metadata": {
  "kernelspec": {
   "display_name": "Python 3",
   "language": "python",
   "name": "python3"
  },
  "language_info": {
   "codemirror_mode": {
    "name": "ipython",
    "version": 3
   },
   "file_extension": ".py",
   "mimetype": "text/x-python",
   "name": "python",
   "nbconvert_exporter": "python",
   "pygments_lexer": "ipython3",
   "version": "3.7.4"
  }
 },
 "nbformat": 4,
 "nbformat_minor": 4
}
