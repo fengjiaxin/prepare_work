{
 "cells": [
  {
   "cell_type": "code",
   "execution_count": 16,
   "metadata": {},
   "outputs": [],
   "source": [
    "# 计算器这种情况比较复杂\n",
    "# 先不考虑括号，如果只有 + - * /\n",
    "def calBase(s1):\n",
    "    stack = []\n",
    "    sign = \"+\"\n",
    "    num = 0\n",
    "    length = len(s1)\n",
    "    for i,ch in enumerate(s1):\n",
    "        if ch.isdigit():\n",
    "            num = num * 10 + int(ch)\n",
    "        if (not ch.isdigit() and ch != \" \") or i == length - 1:\n",
    "            if sign == \"+\":\n",
    "                stack.append(num)\n",
    "            elif sign == \"-\":\n",
    "                stack.append(-num)\n",
    "            elif sign == \"*\":\n",
    "                topk = stack.pop(-1)\n",
    "                stack.append(topk * num)\n",
    "            elif sign == \"/\":\n",
    "                topk = stack.pop(-1)\n",
    "                stack.append(topk//num)\n",
    "            sign = ch\n",
    "            num = 0\n",
    "    return sum(stack)"
   ]
  },
  {
   "cell_type": "code",
   "execution_count": 17,
   "metadata": {},
   "outputs": [
    {
     "data": {
      "text/plain": [
       "12"
      ]
     },
     "execution_count": 17,
     "metadata": {},
     "output_type": "execute_result"
    }
   ],
   "source": [
    "s1 = \"4 + 5 * 7 / 2 - 9\"\n",
    "calBase(s1)"
   ]
  },
  {
   "cell_type": "code",
   "execution_count": 29,
   "metadata": {},
   "outputs": [],
   "source": [
    "# 如果有括号呢\n",
    "# cal(3 * (5 + 7) - 6)\n",
    "# = 3 * cal(5 + 7) - 6\n",
    "# 是递归关系，碰到“（”开始递归，碰到“）”结束递归\n",
    "def cal2(s):\n",
    "    stack = []\n",
    "    num = 0\n",
    "    sign = \"+\"\n",
    "    while len(s) > 0:\n",
    "        ch = s.pop(0)\n",
    "        if ch.isdigit():\n",
    "            num = 10 * num + int(ch)\n",
    "        \n",
    "        if ch == \"(\":\n",
    "            num = cal2(s)\n",
    "        \n",
    "        if (not ch.isdigit() and ch != \" \") or len(s) == 0:\n",
    "\n",
    "            \n",
    "            if sign == \"+\":\n",
    "                stack.append(num)\n",
    "            elif sign == \"-\":\n",
    "                stack.append(-num)\n",
    "            elif sign == \"*\":\n",
    "                topk = stack.pop(-1)\n",
    "                stack.append(topk * num)\n",
    "            elif sign == \"/\":\n",
    "                topk = stack.pop(-1)\n",
    "                stack.append(topk // num)\n",
    "            num = 0\n",
    "            sign = ch\n",
    "            \n",
    "        if ch == \")\":\n",
    "            break\n",
    "            \n",
    "    return sum(stack)"
   ]
  },
  {
   "cell_type": "code",
   "execution_count": 30,
   "metadata": {},
   "outputs": [
    {
     "data": {
      "text/plain": [
       "12"
      ]
     },
     "execution_count": 30,
     "metadata": {},
     "output_type": "execute_result"
    }
   ],
   "source": [
    "s = \"3 * (5 + 7) / 2 - 6\"\n",
    "cal2(list(s))"
   ]
  }
 ],
 "metadata": {
  "kernelspec": {
   "display_name": "Python 3",
   "language": "python",
   "name": "python3"
  },
  "language_info": {
   "codemirror_mode": {
    "name": "ipython",
    "version": 3
   },
   "file_extension": ".py",
   "mimetype": "text/x-python",
   "name": "python",
   "nbconvert_exporter": "python",
   "pygments_lexer": "ipython3",
   "version": "3.7.4"
  }
 },
 "nbformat": 4,
 "nbformat_minor": 4
}
