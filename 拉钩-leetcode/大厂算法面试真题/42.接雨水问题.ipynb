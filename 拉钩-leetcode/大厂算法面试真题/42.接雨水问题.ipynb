{
 "cells": [
  {
   "cell_type": "code",
   "execution_count": 1,
   "metadata": {},
   "outputs": [],
   "source": [
    "# 接雨水问题\n",
    "# 每个坑能容纳的水是左右最高的\n",
    "def maxContain(nums):\n",
    "    length = len(nums)\n",
    "    left = 0\n",
    "    right = length - 1\n",
    "    res = 0\n",
    "    lmax = 0\n",
    "    rmax = 0\n",
    "    while left < right:\n",
    "        lmax = max(lmax,nums[left])\n",
    "        rmax = max(rmax,nums[right])\n",
    "        if lmax < rmax:\n",
    "            res += (lmax - nums[left])\n",
    "            left += 1\n",
    "        else:\n",
    "            res += (rmax - nums[right])\n",
    "            right -= 1\n",
    "    return res"
   ]
  },
  {
   "cell_type": "code",
   "execution_count": 2,
   "metadata": {},
   "outputs": [
    {
     "data": {
      "text/plain": [
       "6"
      ]
     },
     "execution_count": 2,
     "metadata": {},
     "output_type": "execute_result"
    }
   ],
   "source": [
    "nums = [0,1,0,2,1,0,1,3,2,1,2,1]\n",
    "maxContain(nums)"
   ]
  }
 ],
 "metadata": {
  "kernelspec": {
   "display_name": "Python 3",
   "language": "python",
   "name": "python3"
  },
  "language_info": {
   "codemirror_mode": {
    "name": "ipython",
    "version": 3
   },
   "file_extension": ".py",
   "mimetype": "text/x-python",
   "name": "python",
   "nbconvert_exporter": "python",
   "pygments_lexer": "ipython3",
   "version": "3.6.10"
  }
 },
 "nbformat": 4,
 "nbformat_minor": 4
}
