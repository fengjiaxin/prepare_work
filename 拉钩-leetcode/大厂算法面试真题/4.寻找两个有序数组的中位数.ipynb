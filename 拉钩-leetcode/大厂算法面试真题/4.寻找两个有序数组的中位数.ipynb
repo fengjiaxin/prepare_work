{
 "cells": [
  {
   "cell_type": "code",
   "execution_count": 1,
   "metadata": {},
   "outputs": [],
   "source": [
    "# 寻找两个有序数组的中位数 （字节跳动面试题挂了的）\n",
    "# 如果两个有序数组个数和是奇数，那么就是中间那个，如果是偶数，就是中间两个的平均值\n",
    "# 那么问题就可以转变成在两个有序数组寻找第k小的元素"
   ]
  },
  {
   "cell_type": "code",
   "execution_count": 28,
   "metadata": {},
   "outputs": [],
   "source": [
    "# 从nums[l1:r1+1] 和 nums[l2:r2+1]中找\n",
    "# 默认nums1的查找数据size < nums2的查找数据size\n",
    "def minK(nums1,l1,r1,nums2,l2,r2,k):\n",
    "    if l1 > r1:\n",
    "        return nums2[l2 + k - 1]\n",
    "    if l2 > r2:\n",
    "        return nums1[l1 + k - 1]\n",
    "    if k == 1:\n",
    "        return min(nums1[l1],nums2[l2])\n",
    "    if r1 - l1 > r2 - l2:\n",
    "        return minK(nums2,l2,r2,nums1,l1,r1,k)\n",
    "    # 普通情况\n",
    "    k1 = min(r1 - l1 + 1,k//2)\n",
    "    k2 = k - k1\n",
    "    mid1 = l1 + k1 - 1\n",
    "    mid2 = l2 + k2 - 1\n",
    "    if nums1[mid1] == nums2[mid2]:\n",
    "        return nums1[mid1]\n",
    "    # 可能出现在mid1后面和mid2的前面,也有可能出现在mid2的位置\n",
    "    elif nums1[mid1] < nums2[mid2]:\n",
    "        return minK(nums1,mid1+1,r1,nums2,l2,mid2,k - k1)\n",
    "    # 可能出现在mid1前面和mid2后面。也有可能出现在mid1上\n",
    "    else:\n",
    "        return minK(nums1,l1,mid1,nums2,mid2+1,r2,k - k2)\n",
    "def minKvalue(nums1,nums2):\n",
    "    m = len(nums1)\n",
    "    n = len(nums2)\n",
    "    if (m+n)%2 == 1:\n",
    "        return minK(nums1,0,m-1,nums2,0,n-1,(m+n)//2 + 1)\n",
    "    else:\n",
    "        return (minK(nums1,0,m-1,nums2,0,n-1,(m+n)//2) + minK(nums1,0,m-1,nums2,0,n-1,(m+n)//2 + 1))/2"
   ]
  },
  {
   "cell_type": "code",
   "execution_count": 29,
   "metadata": {},
   "outputs": [
    {
     "data": {
      "text/plain": [
       "2.5"
      ]
     },
     "execution_count": 29,
     "metadata": {},
     "output_type": "execute_result"
    }
   ],
   "source": [
    "nums1 = [1,2]\n",
    "nums2 = [3,4]\n",
    "minKvalue(nums1,nums2)"
   ]
  },
  {
   "cell_type": "code",
   "execution_count": null,
   "metadata": {},
   "outputs": [],
   "source": []
  }
 ],
 "metadata": {
  "kernelspec": {
   "display_name": "Python 3",
   "language": "python",
   "name": "python3"
  },
  "language_info": {
   "codemirror_mode": {
    "name": "ipython",
    "version": 3
   },
   "file_extension": ".py",
   "mimetype": "text/x-python",
   "name": "python",
   "nbconvert_exporter": "python",
   "pygments_lexer": "ipython3",
   "version": "3.7.4"
  }
 },
 "nbformat": 4,
 "nbformat_minor": 4
}
