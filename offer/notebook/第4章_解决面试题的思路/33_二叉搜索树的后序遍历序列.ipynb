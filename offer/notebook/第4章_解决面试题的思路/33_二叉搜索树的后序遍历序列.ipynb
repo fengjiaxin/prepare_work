{
 "cells": [
  {
   "cell_type": "markdown",
   "metadata": {},
   "source": [
    "### 面试题33:二叉搜索树的后续遍历序列\n",
    "\n",
    "&emsp;题目：输入一个整数数组，判断该数组是不是某二叉搜索树的后序遍历序列结果，假设输入的数组的任意两个数字都互不相同。\n",
    "\n",
    "&emsp;**思路**:二叉搜索树的后序遍历是左右根，那么根节点首先在末尾，然后按照左子树的值都小于根节点，右子树的值都大于根节点，可以确定左右子树的边界，遍历边界的右侧，如果存在小于跟节点的值，那么不是后序遍历结果，然后依次判断左子序列，右子序列是不是，可以递归处理。"
   ]
  },
  {
   "cell_type": "code",
   "execution_count": 1,
   "metadata": {},
   "outputs": [],
   "source": [
    "class Solution:\n",
    "    def VerifySquenceOfBST(self, sequence):\n",
    "        # write code here\n",
    "        if not sequence:\n",
    "            return False\n",
    "        if len(sequence) <= 1:\n",
    "            return True\n",
    "        def helper(start,end):\n",
    "            if start >= end:\n",
    "                return True\n",
    "            elif start < end:\n",
    "                root = sequence[end]\n",
    "                upper_index = start\n",
    "                for i in range(start,end+1):\n",
    "                    if sequence[i] >= root:\n",
    "                        upper_index = i\n",
    "                        break\n",
    "                # 判断右子序列是否都大于根节点\n",
    "                for i in range(upper_index,end):\n",
    "                    if sequence[i] < root:\n",
    "                        return False\n",
    "                # 分别判断左右子树是否是后序遍历\n",
    "                left_res = helper(start,upper_index - 1)\n",
    "                right_res = helper(upper_index,end - 1)\n",
    "                return left_res & right_res\n",
    "        return helper(0,len(sequence)-1)"
   ]
  }
 ],
 "metadata": {
  "kernelspec": {
   "display_name": "Python 3",
   "language": "python",
   "name": "python3"
  },
  "language_info": {
   "codemirror_mode": {
    "name": "ipython",
    "version": 3
   },
   "file_extension": ".py",
   "mimetype": "text/x-python",
   "name": "python",
   "nbconvert_exporter": "python",
   "pygments_lexer": "ipython3",
   "version": "3.6.9"
  }
 },
 "nbformat": 4,
 "nbformat_minor": 4
}
