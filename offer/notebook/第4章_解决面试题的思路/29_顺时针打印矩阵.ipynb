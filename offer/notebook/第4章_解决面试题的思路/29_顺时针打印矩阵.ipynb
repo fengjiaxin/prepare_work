{
 "cells": [
  {
   "cell_type": "markdown",
   "metadata": {},
   "source": [
    "### 面试题29:顺时针打印矩阵\n",
    "\n",
    "&emsp;题目：输入一个矩阵，按照从外向里以顺时针的顺序依次打印出每一个数字\n",
    "\n",
    "&emsp;**思路**:思路就是按照从一个起点开始，从左往右，从上往下，从右往左，从下往上，首先需要确定的是起点到什么时候结束，假设一个5行5列的矩阵，需要打印3次，从上往下打印的话，矩阵至少应该有两行一列，从右往左打印的话，矩阵至少应该右两行两列，从下往上打印的话，矩阵至少应该3行两列"
   ]
  },
  {
   "cell_type": "code",
   "execution_count": 1,
   "metadata": {},
   "outputs": [],
   "source": [
    "class Solution:\n",
    "    # matrix类型为二维列表，需要返回列表\n",
    "    def printMatrix(self, matrix):\n",
    "        # write code here\n",
    "        if not matrix:\n",
    "            return []\n",
    "        rows = len(matrix)\n",
    "        cols = len(matrix[0])\n",
    "        res = []\n",
    "        def print_helper(start):\n",
    "            end_x = cols - 1 - start\n",
    "            end_y = rows - 1 - start\n",
    "            # 从左往右打印\n",
    "            for i in range(start,end_x + 1):\n",
    "                res.append(matrix[start][i])\n",
    "            # 从上往下打印，至少应该是两行一列\n",
    "            if end_y > start:\n",
    "                for i in range(start+1,end_y + 1):\n",
    "                    res.append(matrix[i][end_x])\n",
    "            # 从右往左打印，至少应该是两行两列\n",
    "            if end_y > start and end_x > start:\n",
    "                for i in range(end_x - 1,start - 1,-1):\n",
    "                    res.append(matrix[end_y][i])\n",
    "            # 从下往上打印，至少应该是3行两列\n",
    "            if end_y > start + 1 and end_x > start:\n",
    "                for i in range(end_y-1,start,-1):\n",
    "                    res.append(matrix[i][start])\n",
    "        start = 0\n",
    "        while 2 * start < rows and 2 * start < cols:\n",
    "            print_helper(start)\n",
    "            start += 1\n",
    "        return res"
   ]
  }
 ],
 "metadata": {
  "kernelspec": {
   "display_name": "Python 3",
   "language": "python",
   "name": "python3"
  },
  "language_info": {
   "codemirror_mode": {
    "name": "ipython",
    "version": 3
   },
   "file_extension": ".py",
   "mimetype": "text/x-python",
   "name": "python",
   "nbconvert_exporter": "python",
   "pygments_lexer": "ipython3",
   "version": "3.6.9"
  }
 },
 "nbformat": 4,
 "nbformat_minor": 4
}
