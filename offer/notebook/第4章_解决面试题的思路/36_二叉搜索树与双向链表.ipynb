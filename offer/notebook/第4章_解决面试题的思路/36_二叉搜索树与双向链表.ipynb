{
 "cells": [
  {
   "cell_type": "markdown",
   "metadata": {},
   "source": [
    "### 面试题36:二叉搜索树与双向链表\n",
    "\n",
    "&emsp;题目：输入一颗二叉搜索树，将该二叉搜索树转换成一个排序的双向链表\n",
    "\n",
    "&emsp;**思路**:递归处理，可以定义一个辅助函数，处理root子树，然后返回最小节点和最大节点，然后将node和最小节点，最大节点进行处理，然后在处理右子树，注意边界条件"
   ]
  },
  {
   "cell_type": "code",
   "execution_count": 1,
   "metadata": {},
   "outputs": [],
   "source": [
    "# class TreeNode:\n",
    "#     def __init__(self, x):\n",
    "#         self.val = x\n",
    "#         self.left = None\n",
    "#         self.right = None\n",
    "class Solution:\n",
    "    def Convert(self, pRootOfTree):\n",
    "        # write code here\n",
    "        if not pRootOfTree:\n",
    "            return None\n",
    "        def helper(node):\n",
    "            # 如果是叶子节点\n",
    "            if not node.left and not node.right:\n",
    "                return node,node\n",
    "            start,end = node,node\n",
    "            if node.left:\n",
    "                start,end = helper(node.left)\n",
    "                end.right = node\n",
    "                node.left = end\n",
    "                end = node\n",
    "            if node.right:\n",
    "                right_start,right_end = helper(node.right)\n",
    "                end.right = right_start\n",
    "                right_start.left = end\n",
    "                end = right_end\n",
    "            return start,end\n",
    "        start,end = helper(pRootOfTree)\n",
    "        return start"
   ]
  }
 ],
 "metadata": {
  "kernelspec": {
   "display_name": "Python 3",
   "language": "python",
   "name": "python3"
  },
  "language_info": {
   "codemirror_mode": {
    "name": "ipython",
    "version": 3
   },
   "file_extension": ".py",
   "mimetype": "text/x-python",
   "name": "python",
   "nbconvert_exporter": "python",
   "pygments_lexer": "ipython3",
   "version": "3.6.9"
  }
 },
 "nbformat": 4,
 "nbformat_minor": 4
}
