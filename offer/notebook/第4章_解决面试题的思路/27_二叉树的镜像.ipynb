{
 "cells": [
  {
   "cell_type": "markdown",
   "metadata": {},
   "source": [
    "### 面试题27:二叉树的镜像\n",
    "\n",
    "&emsp;题目：请完成一个函数，输入一颗二叉树，该函数输出它的镜像。\n",
    "\n",
    "&emsp;**思路**:画图可以看出，交换二叉树就是交换根节点的左右子树，然后在处理左子树和右子树，是根左右的递归处理。"
   ]
  },
  {
   "cell_type": "code",
   "execution_count": 1,
   "metadata": {},
   "outputs": [],
   "source": [
    "# class TreeNode:\n",
    "#     def __init__(self, x):\n",
    "#         self.val = x\n",
    "#         self.left = None\n",
    "#         self.right = None\n",
    "class Solution:\n",
    "    # 返回镜像树的根节点\n",
    "    def Mirror(self, root):\n",
    "        # write code here\n",
    "        if not root:\n",
    "            return None\n",
    "        temp = root.right\n",
    "        root.right = root.left\n",
    "        root.left = temp\n",
    "        self.Mirror(root.left)\n",
    "        self.Mirror(root.right)\n",
    "        return root"
   ]
  }
 ],
 "metadata": {
  "kernelspec": {
   "display_name": "Python 3",
   "language": "python",
   "name": "python3"
  },
  "language_info": {
   "codemirror_mode": {
    "name": "ipython",
    "version": 3
   },
   "file_extension": ".py",
   "mimetype": "text/x-python",
   "name": "python",
   "nbconvert_exporter": "python",
   "pygments_lexer": "ipython3",
   "version": "3.6.9"
  }
 },
 "nbformat": 4,
 "nbformat_minor": 4
}
