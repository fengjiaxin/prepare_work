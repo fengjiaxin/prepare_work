{
 "cells": [
  {
   "cell_type": "markdown",
   "metadata": {},
   "source": [
    "### 面试题28:对称的二叉树\n",
    "\n",
    "&emsp;题目：请完成一个函数，用来判断一颗二叉树是不是对称的，如果一颗二叉树和它的镜像一样，那么它是对称的。\n",
    "\n",
    "&emsp;**思路**:画图可以看出，判断一个树是不是对称的，首先判断根节点的左子树和右子树节点值是否相同，然后在判断左子树的右子树和右子树的左子树，左子树的左子树和右子树的右子树是否相同，需要定义一个辅助函数判断两个节点是否相同。"
   ]
  },
  {
   "cell_type": "code",
   "execution_count": 1,
   "metadata": {},
   "outputs": [],
   "source": [
    "# class TreeNode:\n",
    "#     def __init__(self, x):\n",
    "#         self.val = x\n",
    "#         self.left = None\n",
    "#         self.right = None\n",
    "class Solution:\n",
    "    def isSymmetrical(self, pRoot):\n",
    "        # write code here\n",
    "        def helper(a,b):\n",
    "            if a is None and b is None:\n",
    "                return True\n",
    "            if a is None or b is None:\n",
    "                return False\n",
    "            if a.val != b.val:\n",
    "                return False\n",
    "            res = helper(a.right,b.left) & helper(a.left,b.right)\n",
    "            return res\n",
    "        return helper(pRoot,pRoot)"
   ]
  }
 ],
 "metadata": {
  "kernelspec": {
   "display_name": "Python 3",
   "language": "python",
   "name": "python3"
  },
  "language_info": {
   "codemirror_mode": {
    "name": "ipython",
    "version": 3
   },
   "file_extension": ".py",
   "mimetype": "text/x-python",
   "name": "python",
   "nbconvert_exporter": "python",
   "pygments_lexer": "ipython3",
   "version": "3.6.9"
  }
 },
 "nbformat": 4,
 "nbformat_minor": 4
}
