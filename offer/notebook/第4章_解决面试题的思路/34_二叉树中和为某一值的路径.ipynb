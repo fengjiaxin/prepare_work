{
 "cells": [
  {
   "cell_type": "markdown",
   "metadata": {},
   "source": [
    "### 面试题34:二叉树中和为某一值的路径\n",
    "\n",
    "&emsp;题目：输入一颗二叉树和一个整数，打印出二叉树中节点值的和为输入整数的所有路径。从树的跟节点开始往下一直到叶子节点所经过的节点形成一条路径。\n",
    "\n",
    "&emsp;**思路**:其实就是回溯法，从上往下遍历，需要保存一个left_val值，如果遍历到该节点是叶子节点并且该叶子节点的值和left_val值相等，那么将该路径存储到结果中，如果该节点是叶子节点并且值和left_val不相同，那么回溯到上一个节点，如果该节点不是叶子节点，那么接下来可以分别遍历左子树和右子树。"
   ]
  },
  {
   "cell_type": "code",
   "execution_count": 1,
   "metadata": {},
   "outputs": [],
   "source": [
    "import copy\n",
    "# class TreeNode:\n",
    "#     def __init__(self, x):\n",
    "#         self.val = x\n",
    "#         self.left = None\n",
    "#         self.right = None\n",
    "class Solution:\n",
    "    # 返回二维列表，内部每个列表表示找到的路径\n",
    "    def FindPath(self, root, expectNumber):\n",
    "        # write code here\n",
    "        if not root:\n",
    "            return []\n",
    "        res = []\n",
    "        path = []\n",
    "        def helper(node,left_val):\n",
    "            # 如果node是叶子节点\n",
    "            path.append(node.val)\n",
    "            if not node.left and not node.right:\n",
    "                if left_val == node.val:\n",
    "                    res.append(copy.copy(path))\n",
    "             # 如果不是叶子节点\n",
    "            elif node.left or node.right:\n",
    "                left_val -= node.val\n",
    "                if node.left:\n",
    "                    helper(node.left,left_val)\n",
    "                if node.right:\n",
    "                    helper(node.right,left_val)\n",
    "            path.pop(-1)\n",
    "        helper(root,expectNumber)\n",
    "        res  = sorted(res,key = lambda i:len(i),reverse=True)\n",
    "        return res"
   ]
  }
 ],
 "metadata": {
  "kernelspec": {
   "display_name": "Python 3",
   "language": "python",
   "name": "python3"
  },
  "language_info": {
   "codemirror_mode": {
    "name": "ipython",
    "version": 3
   },
   "file_extension": ".py",
   "mimetype": "text/x-python",
   "name": "python",
   "nbconvert_exporter": "python",
   "pygments_lexer": "ipython3",
   "version": "3.6.9"
  }
 },
 "nbformat": 4,
 "nbformat_minor": 4
}
