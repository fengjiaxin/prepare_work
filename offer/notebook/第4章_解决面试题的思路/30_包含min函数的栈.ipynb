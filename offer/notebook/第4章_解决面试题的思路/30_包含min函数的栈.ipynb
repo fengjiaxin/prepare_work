{
 "cells": [
  {
   "cell_type": "markdown",
   "metadata": {},
   "source": [
    "### 面试题30:包含min函数的栈\n",
    "\n",
    "&emsp;题目：定义栈的数据结构，请在该类型中实现一个能够得到栈的最小元素的min函数，在该栈中，调用min,push，pop的时间复杂度都是O(1)\n",
    "\n",
    "&emsp;**思路**:能够在O(1)的时间复杂度内得到栈的最小元素，那么需要一个辅助栈，该辅助栈存储的是该栈中的最小元素，那么假设栈是空，直接加入到栈中，如果新来的元素比最小元素栈顶小，那么需要将该值加入到辅助栈中，如果新来的元素比最小元素栈顶大，那么将栈顶元素复制加入到辅助栈中，这样就维护了一个辅助栈，在O(1)时间内得到最小函数"
   ]
  },
  {
   "cell_type": "code",
   "execution_count": null,
   "metadata": {},
   "outputs": [],
   "source": [
    "class Solution:\n",
    "    def __init__(self):\n",
    "        self.data_stack = []\n",
    "        self.min_stack = []\n",
    "    def push(self, node):\n",
    "        # write code here\n",
    "        if not self.data_stack:\n",
    "            self.data_stack.append(node)\n",
    "            self.min_stack.append(node)\n",
    "        elif self.data_stack:\n",
    "            curr_min = self.min_stack[-1]\n",
    "            if node <= curr_min:\n",
    "                self.min_stack.append(node)\n",
    "            elif node > curr_min:\n",
    "                self.min_stack.append(self.min_stack[-1])\n",
    "            self.data_stack.append(node)\n",
    "    def pop(self):\n",
    "        # write code here\n",
    "        self.min_stack.pop(-1)\n",
    "        return self.data_stack.pop(-1)\n",
    "    def top(self):\n",
    "        # write code here\n",
    "        return self.data_stack[-1]\n",
    "    def min(self):\n",
    "        # write code here\n",
    "        return self.min_stack[-1]"
   ]
  }
 ],
 "metadata": {
  "kernelspec": {
   "display_name": "Python 3",
   "language": "python",
   "name": "python3"
  },
  "language_info": {
   "codemirror_mode": {
    "name": "ipython",
    "version": 3
   },
   "file_extension": ".py",
   "mimetype": "text/x-python",
   "name": "python",
   "nbconvert_exporter": "python",
   "pygments_lexer": "ipython3",
   "version": "3.6.9"
  }
 },
 "nbformat": 4,
 "nbformat_minor": 4
}
