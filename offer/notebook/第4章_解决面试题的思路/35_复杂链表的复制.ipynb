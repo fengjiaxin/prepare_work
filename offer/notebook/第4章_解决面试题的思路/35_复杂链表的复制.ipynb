{
 "cells": [
  {
   "cell_type": "markdown",
   "metadata": {},
   "source": [
    "### 面试题35:复杂链表的复制\n",
    "\n",
    "&emsp;题目：复制一个复杂链表，在复杂链表中，每个节点除了有一个next指针指向下一个节点，还有一个random指针指向链表中的任意节点，返回这个复制链表的头节点\n",
    "\n",
    "&emsp;**思路**:假设链表是2->3->5，可以先复制成2->2'->3->3'->4->4',然后在逐一处理random指针，然后再把链表打开"
   ]
  },
  {
   "cell_type": "code",
   "execution_count": 1,
   "metadata": {},
   "outputs": [],
   "source": [
    "# class RandomListNode:\n",
    "#     def __init__(self, x):\n",
    "#         self.label = x\n",
    "#         self.next = None\n",
    "#         self.random = None\n",
    "class Solution:\n",
    "    # 返回 RandomListNode\n",
    "    def Clone(self, pHead):\n",
    "        # write code here\n",
    "        # 1.先在各自位置的后边复制节点\n",
    "        curr_head = pHead\n",
    "        while curr_head:\n",
    "            next_node = curr_head.next\n",
    "            new_node = RandomListNode(curr_head.label)\n",
    "            curr_head.next = new_node\n",
    "            new_node.next = next_node\n",
    "            curr_head = next_node\n",
    "        # 2.将复制节点的random复制\n",
    "        curr_head = pHead\n",
    "        while curr_head:\n",
    "            new_node = curr_head.next\n",
    "            next_node = new_node.next\n",
    "            if curr_head.random:\n",
    "                new_node.random = curr_head.random.next\n",
    "            curr_head = next_node\n",
    "        # 3.拆分链表\n",
    "        pNode = pHead\n",
    "        clone_head = None\n",
    "        clone_node = None\n",
    "        if pNode:\n",
    "            clone_head = pNode.next\n",
    "            clone_node = pNode.next\n",
    "            pNode.next = clone_node.next\n",
    "            pNode = pNode.next\n",
    "        while pNode:\n",
    "            clone_node.next = pNode.next\n",
    "            clone_node = clone_node.next\n",
    "            pNode.next = clone_node.next\n",
    "            pNode = pNode.next\n",
    "        return clone_head"
   ]
  }
 ],
 "metadata": {
  "kernelspec": {
   "display_name": "Python 3",
   "language": "python",
   "name": "python3"
  },
  "language_info": {
   "codemirror_mode": {
    "name": "ipython",
    "version": 3
   },
   "file_extension": ".py",
   "mimetype": "text/x-python",
   "name": "python",
   "nbconvert_exporter": "python",
   "pygments_lexer": "ipython3",
   "version": "3.6.9"
  }
 },
 "nbformat": 4,
 "nbformat_minor": 4
}
