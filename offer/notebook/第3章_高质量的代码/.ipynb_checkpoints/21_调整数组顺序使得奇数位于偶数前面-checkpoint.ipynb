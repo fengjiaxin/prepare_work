{
 "cells": [
  {
   "cell_type": "markdown",
   "metadata": {},
   "source": [
    "### 面试题21:调整数组顺序使奇数位于偶数前面\n",
    "\n",
    "&emsp;题目：输入一个整数数组，实现一个函数来调整该数组中数字的顺序，使得所有奇数位于数组的前半部分，所有偶数来位于数组的后半部分。\n",
    "\n",
    "&emsp;**思路**:两个指针，left和right,分别从两边遍历，然后left找到偶数，right指针找到奇数，然后调换顺序，然后继续遍历，直到left > right 循环停止"
   ]
  },
  {
   "cell_type": "code",
   "execution_count": null,
   "metadata": {},
   "outputs": [],
   "source": [
    "class Solution:\n",
    "    def reOrderArray(self, array):\n",
    "        # write code here\n",
    "        if not array:\n",
    "            return []\n",
    "        # 判断是否是偶数\n",
    "        def isEven(num):\n",
    "            return num%2 == 0\n",
    "        left = 0\n",
    "        right = len(array) - 1\n",
    "        while left < right:\n",
    "            # 从左往右找出第一个偶数\n",
    "            while left < right and not isEven(array[left]):\n",
    "                left += 1\n",
    "            while left < right and isEven(array[right]):\n",
    "                right -= 1\n",
    "            if left < right:\n",
    "                temp = array[left]\n",
    "                array[left] = array[right]\n",
    "                array[right] = temp\n",
    "        return array"
   ]
  }
 ],
 "metadata": {
  "kernelspec": {
   "display_name": "Python 3",
   "language": "python",
   "name": "python3"
  },
  "language_info": {
   "codemirror_mode": {
    "name": "ipython",
    "version": 3
   },
   "file_extension": ".py",
   "mimetype": "text/x-python",
   "name": "python",
   "nbconvert_exporter": "python",
   "pygments_lexer": "ipython3",
   "version": "3.6.9"
  }
 },
 "nbformat": 4,
 "nbformat_minor": 4
}
