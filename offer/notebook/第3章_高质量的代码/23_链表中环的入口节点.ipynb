{
 "cells": [
  {
   "cell_type": "markdown",
   "metadata": {},
   "source": [
    "### 面试题23:链表中环的入口节点\n",
    "\n",
    "&emsp;题目：如果一个链表中包含环，如何找出环的入口节点\n",
    "\n",
    "&emsp;**思路**:假设链表的支链长度是l，环中长度是s，那么首先可以定义两个指针，快指针p1和慢指针p2,，快指针每次走两步，假设走了x步骤之后，两个指针相遇，那么假设快指针在环里走了n圈，肯定在圈里的某个位置相遇，那么2x-x = ns，即x = ns，那么此时在将慢指针放到开始处，可以推出在环的起点位置相遇，因为在走l步，那么走过的路径变为l+ns，可以判断处出还是在l处"
   ]
  },
  {
   "cell_type": "code",
   "execution_count": 1,
   "metadata": {},
   "outputs": [],
   "source": [
    "# class ListNode:\n",
    "#     def __init__(self, x):\n",
    "#         self.val = x\n",
    "#         self.next = None\n",
    "class Solution:\n",
    "    def EntryNodeOfLoop(self, pHead):\n",
    "        # write code here\n",
    "        if not pHead:\n",
    "            return None\n",
    "        if not pHead.next or not pHead.next.next:\n",
    "            return None\n",
    "        fast = pHead.next.next\n",
    "        slow = pHead.next\n",
    "        while fast != slow:\n",
    "                fast = fast.next.next\n",
    "                slow = slow.next\n",
    "        # 退出的时候是fast==slow\n",
    "        slow = pHead\n",
    "        while fast != slow:\n",
    "            fast = fast.next\n",
    "            slow = slow.next\n",
    "        return fast"
   ]
  }
 ],
 "metadata": {
  "kernelspec": {
   "display_name": "Python 3",
   "language": "python",
   "name": "python3"
  },
  "language_info": {
   "codemirror_mode": {
    "name": "ipython",
    "version": 3
   },
   "file_extension": ".py",
   "mimetype": "text/x-python",
   "name": "python",
   "nbconvert_exporter": "python",
   "pygments_lexer": "ipython3",
   "version": "3.6.9"
  }
 },
 "nbformat": 4,
 "nbformat_minor": 4
}
