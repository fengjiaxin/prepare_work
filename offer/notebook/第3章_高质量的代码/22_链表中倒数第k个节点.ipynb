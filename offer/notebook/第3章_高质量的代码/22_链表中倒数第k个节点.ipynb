{
 "cells": [
  {
   "cell_type": "markdown",
   "metadata": {},
   "source": [
    "### 面试题22:链表中倒数第k个节点\n",
    "\n",
    "&emsp;题目：输入一个链表，输出该链表中倒数第k个节点，从1开始计数，即链表的尾节点是倒数第一个节点。\n",
    "\n",
    "&emsp;**思路**:先遍历链表，计算链表的长度，然后确定倒数第k个节点是否存在，然后两个指针，快指针和慢指针，快指针先走len(链表) - k，然后快指针和慢指针同时走，当快指针到达尾节点的时候，慢指针就是倒数第k个节点"
   ]
  },
  {
   "cell_type": "code",
   "execution_count": 1,
   "metadata": {},
   "outputs": [],
   "source": [
    "# class ListNode:\n",
    "#     def __init__(self, x):\n",
    "#         self.val = x\n",
    "#         self.next = None\n",
    "\n",
    "class Solution:\n",
    "    def FindKthToTail(self, head, k):\n",
    "        # write code here\n",
    "        if not head or k <= 0:\n",
    "            return None\n",
    "        def count_node(head):\n",
    "            node_num = 0\n",
    "            while head:\n",
    "                node_num += 1\n",
    "                head = head.next\n",
    "            return node_num\n",
    "        node_len = count_node(head)\n",
    "        if k > node_len:\n",
    "            return None\n",
    "        fast_node = head\n",
    "        slow_node = head\n",
    "        for i in range(k-1):\n",
    "            fast_node = fast_node.next\n",
    "        while fast_node.next:\n",
    "            fast_node = fast_node.next\n",
    "            slow_node = slow_node.next\n",
    "        return slow_node"
   ]
  },
  {
   "cell_type": "code",
   "execution_count": null,
   "metadata": {},
   "outputs": [],
   "source": []
  }
 ],
 "metadata": {
  "kernelspec": {
   "display_name": "Python 3",
   "language": "python",
   "name": "python3"
  },
  "language_info": {
   "codemirror_mode": {
    "name": "ipython",
    "version": 3
   },
   "file_extension": ".py",
   "mimetype": "text/x-python",
   "name": "python",
   "nbconvert_exporter": "python",
   "pygments_lexer": "ipython3",
   "version": "3.6.9"
  }
 },
 "nbformat": 4,
 "nbformat_minor": 4
}
