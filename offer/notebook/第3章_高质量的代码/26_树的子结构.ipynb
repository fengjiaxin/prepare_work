{
 "cells": [
  {
   "cell_type": "markdown",
   "metadata": {},
   "source": [
    "### 面试题26:树的子结构\n",
    "\n",
    "&emsp;题目：输入两颗二叉树A和B，判断B是不是A的子结构\n",
    "\n",
    "&emsp;**思路**: 其实还是递归处理，策略是需要判断A中的所有节点是否都含有B子结构，那么需要一个辅助函数来判断是否A有B的子结构，然后在判断跟节点值是否相同，如果相同的话直接返回，然后在判断A的左子节点和右子节点，需要两个函数\n",
    "+ DoesTree1hasTree(A,B):用来判断B是不是A的子结构\n",
    "+ HasSubTree(A,B),如果A和B节点值相同，那么可以判断B是不是A子树，如果不相同，那么可以看看A的子树是否含有B"
   ]
  },
  {
   "cell_type": "code",
   "execution_count": 1,
   "metadata": {},
   "outputs": [],
   "source": [
    "# class TreeNode:\n",
    "#     def __init__(self, x):\n",
    "#         self.val = x\n",
    "#         self.left = None\n",
    "#         self.right = None\n",
    "class Solution:\n",
    "    def HasSubtree(self, pRoot1, pRoot2):\n",
    "        # write code here\n",
    "        def contain_helper(a, b):\n",
    "            if b is None:\n",
    "                return True\n",
    "            if a is None:\n",
    "                return False\n",
    "            if a.val != b.val:\n",
    "                return False\n",
    "            # 接下来需要判读a的左子树和b的右子树，a的右子树和b的右子树\n",
    "            return contain_helper(a.left,b.left) and contain_helper(a.right,b.right)\n",
    "        res = False\n",
    "        if pRoot1 and pRoot2:\n",
    "            if pRoot1.val == pRoot2.val:\n",
    "                res = contain_helper(pRoot1,pRoot2)\n",
    "            if not res:\n",
    "                res = self.HasSubtree(pRoot1.left,pRoot2)\n",
    "            if not res:\n",
    "                res = self.HasSubtree(pRoot1.right,pRoot2)\n",
    "        return res"
   ]
  }
 ],
 "metadata": {
  "kernelspec": {
   "display_name": "Python 3",
   "language": "python",
   "name": "python3"
  },
  "language_info": {
   "codemirror_mode": {
    "name": "ipython",
    "version": 3
   },
   "file_extension": ".py",
   "mimetype": "text/x-python",
   "name": "python",
   "nbconvert_exporter": "python",
   "pygments_lexer": "ipython3",
   "version": "3.6.9"
  }
 },
 "nbformat": 4,
 "nbformat_minor": 4
}
