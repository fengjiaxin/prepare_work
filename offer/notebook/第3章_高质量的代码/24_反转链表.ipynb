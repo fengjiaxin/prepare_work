{
 "cells": [
  {
   "cell_type": "markdown",
   "metadata": {},
   "source": [
    "### 面试题24:反转链表\n",
    "\n",
    "&emsp;题目：定义一个函数，输入一个链表的头节点，反转该链表并输出反转后链表的头节点\n",
    "\n",
    "&emsp;**思路**:假设链表是 1->2->3，在反转链表的时候需要记录三个变量，prev,curr,next,prev记录curr处理完后应该连接的next,next记录curr原来的next,在将curr的next处理完后，将curr=next，但是题目需要返回反转后链表的头节点，因此while加上一个限制，while curr.next:这样在遍历到左后一个节点的时候会跳出循环，这时候我们单独处理最后一个节点并返回即可"
   ]
  },
  {
   "cell_type": "code",
   "execution_count": 1,
   "metadata": {},
   "outputs": [],
   "source": [
    "# class ListNode:\n",
    "#     def __init__(self, x):\n",
    "#         self.val = x\n",
    "#         self.next = None\n",
    "class Solution:\n",
    "    # 返回ListNode\n",
    "    def ReverseList(self, pHead):\n",
    "        # write code here\n",
    "        if not pHead or not pHead.next:\n",
    "            return pHead\n",
    "        prev_node = None\n",
    "        curr_node = pHead\n",
    "        next_node = None\n",
    "        while curr_node.next:\n",
    "            next_node = curr_node.next\n",
    "            curr_node.next = prev_node\n",
    "            prev_node = curr_node\n",
    "            curr_node = next_node\n",
    "        # 处理最后一个节点\n",
    "        curr_node.next = prev_node\n",
    "        return curr_node"
   ]
  }
 ],
 "metadata": {
  "kernelspec": {
   "display_name": "Python 3",
   "language": "python",
   "name": "python3"
  },
  "language_info": {
   "codemirror_mode": {
    "name": "ipython",
    "version": 3
   },
   "file_extension": ".py",
   "mimetype": "text/x-python",
   "name": "python",
   "nbconvert_exporter": "python",
   "pygments_lexer": "ipython3",
   "version": "3.6.9"
  }
 },
 "nbformat": 4,
 "nbformat_minor": 4
}
