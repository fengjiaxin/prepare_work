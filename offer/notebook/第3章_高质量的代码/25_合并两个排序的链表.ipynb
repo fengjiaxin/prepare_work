{
 "cells": [
  {
   "cell_type": "markdown",
   "metadata": {},
   "source": [
    "### 面试题25:合并两个排序的链表\n",
    "\n",
    "&emsp;题目：输入两个递增的链表，合并这两个链表并使新链表的节点仍然是递增排序的\n",
    "\n",
    "&emsp;**思路**:可以应用递归处理，首先比较两个头节点的值，如果pHead1 <= pHead2 ,那么新链表的头是pHead1,接下来需要合并pHead1.next 和 pHead2,在处理递归函数的时候需要判断头节点的边界条件"
   ]
  },
  {
   "cell_type": "code",
   "execution_count": 1,
   "metadata": {},
   "outputs": [],
   "source": [
    "# class ListNode:\n",
    "#     def __init__(self, x):\n",
    "#         self.val = x\n",
    "#         self.next = None\n",
    "class Solution:\n",
    "    # 返回合并后列表\n",
    "    def Merge(self, pHead1, pHead2):\n",
    "        # write code here\n",
    "        if not pHead1:\n",
    "            return pHead2\n",
    "        if not pHead2:\n",
    "            return pHead1\n",
    "        if pHead1.val <= pHead2.val:\n",
    "            pHead1.next = self.Merge(pHead1.next,pHead2)\n",
    "            return pHead1\n",
    "        elif pHead1.val > pHead2.val:\n",
    "            pHead2.next = self.Merge(pHead1,pHead2.next)\n",
    "            return pHead2"
   ]
  }
 ],
 "metadata": {
  "kernelspec": {
   "display_name": "Python 3",
   "language": "python",
   "name": "python3"
  },
  "language_info": {
   "codemirror_mode": {
    "name": "ipython",
    "version": 3
   },
   "file_extension": ".py",
   "mimetype": "text/x-python",
   "name": "python",
   "nbconvert_exporter": "python",
   "pygments_lexer": "ipython3",
   "version": "3.6.9"
  }
 },
 "nbformat": 4,
 "nbformat_minor": 4
}
