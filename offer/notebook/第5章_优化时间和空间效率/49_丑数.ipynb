{
 "cells": [
  {
   "cell_type": "markdown",
   "metadata": {},
   "source": [
    "### 面试题49:丑数\n",
    "\n",
    "&emsp;题目：把只含有因子2，3，5的数车称为丑数，求按从小到大的顺序的第1500个丑数，习惯上把1当作第一个丑数。"
   ]
  },
  {
   "cell_type": "markdown",
   "metadata": {},
   "source": [
    "&emsp;**思路**:维护一个丑数数组，里面的丑数是排好序的丑数，每个丑数都是前面的丑数乘以2，3或者5得到的。维护3个index,对于乘以2而言，肯定存在某一个丑数T2,排在它之前的每个丑数乘以2得到的结果都小于已有的最大丑数，在它之后的每个丑数乘以2得到的结果都会太大。只需要记录下这个丑数的位置，同时每次生成新的丑数的时候去更新这个T2即可。对于乘以2和乘以3而言，也存在同样的T3和T5"
   ]
  },
  {
   "cell_type": "code",
   "execution_count": null,
   "metadata": {},
   "outputs": [],
   "source": [
    "class Solution:\n",
    "    def GetUglyNumber_Solution(self, index):\n",
    "        # write code here\n",
    "        if index <= 0:\n",
    "            return 0\n",
    "        ugly_list = [1]\n",
    "        index_two = 0\n",
    "        index_three = 0\n",
    "        index_five = 0\n",
    "        curr_index = 0\n",
    "        while curr_index < index-1:\n",
    "            next_value = min(ugly_list[index_two]*2,ugly_list[index_three] * 3,ugly_list[index_five] * 5)\n",
    "            ugly_list.append(next_value)\n",
    "            # 更新T2\n",
    "            while index_two <= curr_index and ugly_list[index_two] * 2 <= next_value:\n",
    "                index_two += 1\n",
    "            while index_three <= curr_index and ugly_list[index_three] * 3 <= next_value:\n",
    "                index_three += 1\n",
    "            while index_five <= curr_index and ugly_list[index_five] * 5 <= next_value:\n",
    "                index_five += 1\n",
    "            curr_index += 1\n",
    "        return ugly_list[-1]"
   ]
  }
 ],
 "metadata": {
  "kernelspec": {
   "display_name": "Python 3",
   "language": "python",
   "name": "python3"
  },
  "language_info": {
   "codemirror_mode": {
    "name": "ipython",
    "version": 3
   },
   "file_extension": ".py",
   "mimetype": "text/x-python",
   "name": "python",
   "nbconvert_exporter": "python",
   "pygments_lexer": "ipython3",
   "version": "3.6.9"
  }
 },
 "nbformat": 4,
 "nbformat_minor": 4
}
