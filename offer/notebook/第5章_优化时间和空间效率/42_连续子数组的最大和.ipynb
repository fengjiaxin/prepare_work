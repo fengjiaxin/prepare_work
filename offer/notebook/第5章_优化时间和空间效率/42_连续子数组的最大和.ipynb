{
 "cells": [
  {
   "cell_type": "markdown",
   "metadata": {},
   "source": [
    "### 面试题42:连续子数组的最大和\n",
    "\n",
    "&emsp;题目：输入一个整形数组，数组里面有正数也有负数，数组中的一个或连续多个整数组成一个子数组，求所有子数组的和的最大值，要求时间复杂度为O(n)"
   ]
  },
  {
   "cell_type": "markdown",
   "metadata": {},
   "source": [
    "&emsp;**思路**:连续子数组问题，可以用函数f(i)表示以第i个数字结尾的子数组的最大和，那么需要求出max{f(i)}\n",
    "\n",
    "1. f(i) = numbers[i] if i = 0 or f(i-1)<=0\n",
    "2. f(i) = f(i-1) + numbers[i] if i > 0 and f(i-1)>0"
   ]
  },
  {
   "cell_type": "code",
   "execution_count": 1,
   "metadata": {},
   "outputs": [],
   "source": [
    "class Solution:\n",
    "    def FindGreatestSumOfSubArray(self, array):\n",
    "        # write code here\n",
    "        f_val = array[0]\n",
    "        max_val = f_val\n",
    "        for v in array[1:]:\n",
    "            if f_val <= 0:\n",
    "                f_val = v\n",
    "            elif f_val > 0:\n",
    "                f_val += v\n",
    "            if f_val > max_val:\n",
    "                max_val = f_val\n",
    "        return max_val"
   ]
  }
 ],
 "metadata": {
  "kernelspec": {
   "display_name": "Python 3",
   "language": "python",
   "name": "python3"
  },
  "language_info": {
   "codemirror_mode": {
    "name": "ipython",
    "version": 3
   },
   "file_extension": ".py",
   "mimetype": "text/x-python",
   "name": "python",
   "nbconvert_exporter": "python",
   "pygments_lexer": "ipython3",
   "version": "3.6.9"
  }
 },
 "nbformat": 4,
 "nbformat_minor": 4
}
