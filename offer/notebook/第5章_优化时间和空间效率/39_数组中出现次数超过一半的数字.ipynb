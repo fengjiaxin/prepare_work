{
 "cells": [
  {
   "cell_type": "markdown",
   "metadata": {},
   "source": [
    "### 面试题39:数组中出现次数超过一半的数字\n",
    "\n",
    "&emsp;题目：数组中又一个数字出现的次数超过数组长度的一半，请找出这个数字。例如，输入一个长度为9的数组{1,2,3,2,2,2,5,4,2}。由于数字2在数组中出现了5次，超过数组长度的一半，因此输出2"
   ]
  },
  {
   "cell_type": "markdown",
   "metadata": {},
   "source": [
    "&emsp;**思路1**:可以借鉴快速排序的partion函数，可以在O(n)时间复杂度的算法得到数组的任意第k大的数字，由于数组中出现次数超过一半，那么数组中第n/2大的元素应该就是答案，那么问题就转换成了从数组中找出第n/2大的元素。\n",
    "\n",
    "&emsp;从数组中找出第n/2大的元素，通过partion函数返回index，表示该index的坐标在正确的位置上，如果index==middle，那么就找到答案，如果index>middle,那么high = index - 1,如果index<middle,那么low=index + 1"
   ]
  },
  {
   "cell_type": "code",
   "execution_count": 2,
   "metadata": {},
   "outputs": [],
   "source": [
    "class Solution:\n",
    "    def MoreThanHalfNum_Solution(self, numbers):\n",
    "        # write code here\n",
    "        if not numbers:\n",
    "            return 0\n",
    "        # partion函数\n",
    "        def partion(nums,left,right):\n",
    "            pivot = nums[left]\n",
    "            low = left\n",
    "            high = right\n",
    "            while low < high:\n",
    "                # 从右往左找出第一个小于pivot的index\n",
    "                while low < high and nums[high] >= pivot:\n",
    "                    high -= 1\n",
    "                nums[low] = nums[high]\n",
    "                # 从左往右找出第一个大于pivot的index\n",
    "                while low < high and nums[low] <= pivot:\n",
    "                    low += 1\n",
    "                nums[high] = nums[low]\n",
    "            nums[low] = pivot\n",
    "            return low\n",
    "        # 从数组中找出第n/2大的元素\n",
    "        left = 0\n",
    "        right = len(numbers) - 1\n",
    "        mid = left + (right - left)//2\n",
    "        index = partion(numbers,left,right)\n",
    "        while index != mid:\n",
    "            if index > mid:\n",
    "                right = index - 1\n",
    "                index = partion(numbers,left,right)\n",
    "            elif index < mid:\n",
    "                left = index + 1\n",
    "                index = partion(numbers,left,index)\n",
    "        # 最后在验证一下是否超过一半\n",
    "        count = 0\n",
    "        for num in numbers:\n",
    "            if num == numbers[index]:\n",
    "                count += 1\n",
    "        if count > len(numbers)//2:\n",
    "            return numbers[index]\n",
    "        else:\n",
    "            return 0"
   ]
  },
  {
   "cell_type": "markdown",
   "metadata": {},
   "source": [
    "&emsp;**思路2**:从另一个角度考虑问题，数组中有一个数字出现的次数超过数组长度的一半，说明它出现的次数比其他所有数字出现的次数都多，因此可以在遍历数组的时候保存两个值，一个是数字，另一个是次数。当遍历到下一个数字的时候，如果下个数字和之前保存的数字相同，则次数+1，如果不同，则次数-1，如果次数为0，需要保存下一个数字，并把次数设置为1，由于要找的数字出现的次数比其他所有数字出现的次数之和还要多，因此要找的数字一定是最后一次把次数设置为1时对应的数字。"
   ]
  },
  {
   "cell_type": "code",
   "execution_count": 1,
   "metadata": {},
   "outputs": [],
   "source": [
    "class Solution:\n",
    "    def MoreThanHalfNum_Solution(self, numbers):\n",
    "        # write code here\n",
    "        if not numbers:\n",
    "            return 0\n",
    "        num = numbers[0]\n",
    "        count = 1\n",
    "        for i in numbers[1:]:\n",
    "            if i == num:\n",
    "                count += 1\n",
    "            else:\n",
    "                count -= 1\n",
    "                if count == 0:\n",
    "                    num = i\n",
    "                    count = 1\n",
    "        # 验证num是否是超过数组一半的长度\n",
    "        def check(num,target):\n",
    "            count = 0\n",
    "            length = len(num)\n",
    "            for i in num:\n",
    "                if i == target:\n",
    "                    count += 1\n",
    "            if count > length//2:\n",
    "                return True\n",
    "            else:\n",
    "                return False\n",
    "        res = check(numbers,num)\n",
    "        if res:\n",
    "            return num\n",
    "        else:\n",
    "            return 0"
   ]
  }
 ],
 "metadata": {
  "kernelspec": {
   "display_name": "Python 3",
   "language": "python",
   "name": "python3"
  },
  "language_info": {
   "codemirror_mode": {
    "name": "ipython",
    "version": 3
   },
   "file_extension": ".py",
   "mimetype": "text/x-python",
   "name": "python",
   "nbconvert_exporter": "python",
   "pygments_lexer": "ipython3",
   "version": "3.6.9"
  }
 },
 "nbformat": 4,
 "nbformat_minor": 4
}
