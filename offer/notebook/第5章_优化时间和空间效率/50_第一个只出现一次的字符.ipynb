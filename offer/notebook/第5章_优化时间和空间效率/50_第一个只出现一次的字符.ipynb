{
 "cells": [
  {
   "cell_type": "markdown",
   "metadata": {},
   "source": [
    "### 面试题50:第一个只出现一次的字符\n",
    "\n",
    "&emsp;题目：在字符串中找出第一个只出现一次的字符的下标，如果没有返回-1\n",
    "\n",
    "&emsp;**思路**:首先扫描数组，统计每个字符串出现的次数，生成一个字典，然后再次扫描数组，验证字符串出现的次数是否等于1，如果有就返回该字符的下标index,如果遍历结束也没有符合的，那么返回-1"
   ]
  },
  {
   "cell_type": "code",
   "execution_count": 1,
   "metadata": {},
   "outputs": [],
   "source": [
    "class Solution:\n",
    "    def FirstNotRepeatingChar(self, s):\n",
    "        # write code here\n",
    "        count_dict = {}\n",
    "        for c in s:\n",
    "            if c not in count_dict:\n",
    "                count_dict[c] = 0\n",
    "            count_dict[c] += 1\n",
    "        for i,c in enumerate(s):\n",
    "            if count_dict[c] == 1:\n",
    "                return i\n",
    "        return -1"
   ]
  },
  {
   "cell_type": "code",
   "execution_count": null,
   "metadata": {},
   "outputs": [],
   "source": []
  }
 ],
 "metadata": {
  "kernelspec": {
   "display_name": "Python 3",
   "language": "python",
   "name": "python3"
  },
  "language_info": {
   "codemirror_mode": {
    "name": "ipython",
    "version": 3
   },
   "file_extension": ".py",
   "mimetype": "text/x-python",
   "name": "python",
   "nbconvert_exporter": "python",
   "pygments_lexer": "ipython3",
   "version": "3.6.9"
  }
 },
 "nbformat": 4,
 "nbformat_minor": 4
}
