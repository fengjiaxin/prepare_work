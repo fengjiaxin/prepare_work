{
 "cells": [
  {
   "cell_type": "markdown",
   "metadata": {},
   "source": [
    "### 面试题52:两个链表的第一个公共节点\n",
    "\n",
    "&emsp;题目：输入两个链表，找出他们的第一个公共节点\n",
    "\n",
    "&emsp;**思路**:首先计算两个链表的长度，然后调整指针，使得两个指针到结尾的长度相同，然后遍历节点，每次都是比较两个指针指向的节点是否相同，如果相同的话退出，相同的话有两种情况，一种是到结尾退出，另一种是在中途退出，因此需要判断一下是哪种情况。"
   ]
  },
  {
   "cell_type": "code",
   "execution_count": null,
   "metadata": {},
   "outputs": [],
   "source": [
    "class Solution:\n",
    "    def FindFirstCommonNode(self, pHead1, pHead2):\n",
    "        # write code here\n",
    "        if not pHead1 or not pHead2:\n",
    "            return None\n",
    "        \n",
    "        def get_length(node):\n",
    "            curr = 0\n",
    "            while node.next:\n",
    "                curr += 1\n",
    "                node = node.next\n",
    "            return curr\n",
    "        \n",
    "        length_1 = get_length(pHead1)\n",
    "        length_2 = get_length(pHead2)\n",
    "        # 保证起点其实位置相同\n",
    "        if length_1 > length_2:\n",
    "            for i in range(length_1 - length_2):\n",
    "                pHead1 = pHead1.next\n",
    "        elif length_1 < length_2:\n",
    "            for i in range(length_2 - length_1):\n",
    "                pHead2 = pHead2.next\n",
    "        while pHead1 != pHead2:\n",
    "            pHead1 = pHead1.next\n",
    "            pHead2 = pHead2.next\n",
    "        return pHead1"
   ]
  }
 ],
 "metadata": {
  "kernelspec": {
   "display_name": "Python 3",
   "language": "python",
   "name": "python3"
  },
  "language_info": {
   "codemirror_mode": {
    "name": "ipython",
    "version": 3
   },
   "file_extension": ".py",
   "mimetype": "text/x-python",
   "name": "python",
   "nbconvert_exporter": "python",
   "pygments_lexer": "ipython3",
   "version": "3.6.9"
  }
 },
 "nbformat": 4,
 "nbformat_minor": 4
}
