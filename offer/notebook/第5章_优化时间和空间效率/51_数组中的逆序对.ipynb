{
 "cells": [
  {
   "cell_type": "markdown",
   "metadata": {},
   "source": [
    "### 面试题51:数组中的逆序对\n",
    "\n",
    "&emsp;题目：在数组中的两个数字，如果前面一个数字大于后面的数字，则两个数字构成一个逆序对，输入一个数组，求这个数组中的逆序对的总数。例如在数组{7,5,6,4}中，一共存在5个逆序对，分别是{7,5},{7,6},{7,4},{5,4},{6,4}\n",
    "\n",
    "&emsp;**思路**:最简单的方法就是双重循环，逐一判断，但是时间复杂度是O(n\\*n)，计算逆序对，可以通过分治法，借助归并排序，解决问题，先计算{7,5}之间的逆序对，然后计算{6,4}之间的逆序对，然后分别对两个子数组进行排序，然后在合并的过程中在计算逆序对。"
   ]
  },
  {
   "cell_type": "code",
   "execution_count": 1,
   "metadata": {},
   "outputs": [],
   "source": [
    "class Solution:\n",
    "    def InversePairs(self, data):\n",
    "        # write code here\n",
    "        # 主要还是分治算法，将问题分解为两个小问题，然后合并处理，和归并排序类似\n",
    "        if not data or len(data) <= 1:\n",
    "            res = 0\n",
    "        else:\n",
    "            def merge_sort(data,copy,start,end):\n",
    "            # 对data中的数字进行排序\n",
    "                if start >= end:\n",
    "                    return 0\n",
    "                mid = start + (end - start)//2\n",
    "                left_val = merge_sort(copy,data,start,mid)\n",
    "                right_val = merge_sort(copy,data,mid+1,end)\n",
    "                count = 0\n",
    "                # 初始化为左边有序子数组的最大下标\n",
    "                i = mid\n",
    "                # 初始化为右边有序子数组的最大下标\n",
    "                j = end\n",
    "                index_copy = end\n",
    "                while i >= start and j >= mid + 1:\n",
    "                    if data[i] > data[j]:\n",
    "                        count += j - mid\n",
    "                        copy[index_copy] = data[i]\n",
    "                        index_copy -= 1\n",
    "                        i -= 1\n",
    "                    else:\n",
    "                        copy[index_copy] = data[j]\n",
    "                        j -= 1\n",
    "                        index_copy -= 1\n",
    "                while i >= start:\n",
    "                    copy[index_copy] = data[i]\n",
    "                    index_copy -= 1\n",
    "                    i -= 1\n",
    "                while j >= mid + 1:\n",
    "                    copy[index_copy] = data[j]\n",
    "                    j -= 1\n",
    "                    index_copy -= 1\n",
    "                return left_val + right_val + count\n",
    "            copy = [x for x in data]\n",
    "            res = merge_sort(data,copy,0,len(data)-1)\n",
    "        return res%1000000007"
   ]
  },
  {
   "cell_type": "code",
   "execution_count": null,
   "metadata": {},
   "outputs": [],
   "source": []
  }
 ],
 "metadata": {
  "kernelspec": {
   "display_name": "Python 3",
   "language": "python",
   "name": "python3"
  },
  "language_info": {
   "codemirror_mode": {
    "name": "ipython",
    "version": 3
   },
   "file_extension": ".py",
   "mimetype": "text/x-python",
   "name": "python",
   "nbconvert_exporter": "python",
   "pygments_lexer": "ipython3",
   "version": "3.6.9"
  }
 },
 "nbformat": 4,
 "nbformat_minor": 4
}
