{
 "cells": [
  {
   "cell_type": "markdown",
   "metadata": {},
   "source": [
    "### 面试题40:最小的k个数\n",
    "\n",
    "&emsp;题目：输入n个整数，找出其中最小的k个数，例如：输入[4,5,1,6,2,7,3,8]这8个数字，则最小的四个数字是1,2,3,4"
   ]
  },
  {
   "cell_type": "markdown",
   "metadata": {},
   "source": [
    "&emsp;**思路**:一般的想法是先把数组排序即可，然后选出前k个数字，可以借鉴快速排序中的partion函数，可以在O(n)的时间内获得数组第index大的数数字，假设index = partion(numbers,left,right)，那么此时numbers[left:index]都是小于numbers[index]的数字，numbers[index+1,right]都是大于numbers[index]的数字，如果index = k-1,那么可以停止了，如果index>k-1,那么right = index-1，如果index<k-1,那么left=index + 1"
   ]
  },
  {
   "cell_type": "code",
   "execution_count": 1,
   "metadata": {},
   "outputs": [],
   "source": [
    "class Solution:\n",
    "    def GetLeastNumbers_Solution(self, tinput, k):\n",
    "        # write code here\n",
    "        if not tinput or k <= 0 or len(tinput) < k:\n",
    "            return\n",
    "        def partion(nums,left,right):\n",
    "            pivot = nums[left]\n",
    "            low = left\n",
    "            high = right\n",
    "            while low < high:\n",
    "                while low < high and nums[high] >= pivot:\n",
    "                    high -= 1\n",
    "                nums[low] = nums[high]\n",
    "                while low < high and nums[low] <- pivot:\n",
    "                    low += 1\n",
    "                nums[high] = nums[low]\n",
    "            nums[low] = pivot\n",
    "            return low\n",
    "        left = 0\n",
    "        right = len(tinput) - 1\n",
    "        index = partion(tinput,left,right)\n",
    "        while index != k-1:\n",
    "            if index > k-1:\n",
    "                right = index - 1\n",
    "                index = partion(tinput,left,right)\n",
    "            else:\n",
    "                left = index + 1\n",
    "                index = partion(tinput,left,right)\n",
    "        return tinput[:k]"
   ]
  }
 ],
 "metadata": {
  "kernelspec": {
   "display_name": "Python 3",
   "language": "python",
   "name": "python3"
  },
  "language_info": {
   "codemirror_mode": {
    "name": "ipython",
    "version": 3
   },
   "file_extension": ".py",
   "mimetype": "text/x-python",
   "name": "python",
   "nbconvert_exporter": "python",
   "pygments_lexer": "ipython3",
   "version": "3.6.9"
  }
 },
 "nbformat": 4,
 "nbformat_minor": 4
}
