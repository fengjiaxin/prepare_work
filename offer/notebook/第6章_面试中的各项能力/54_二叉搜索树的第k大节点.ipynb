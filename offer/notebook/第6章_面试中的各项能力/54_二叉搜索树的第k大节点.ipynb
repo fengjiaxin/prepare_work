{
 "cells": [
  {
   "cell_type": "markdown",
   "metadata": {},
   "source": [
    "### 面试题54:二叉搜索树的第k大节点\n",
    "\n",
    "&emsp;题目：给定一个二叉搜索树，请找出第k大的节点，假设中序遍历是{2,3,4,5,6,7,8},那么第3大是4\n",
    "\n",
    "&emsp;**思路**:这个是二叉搜索树，那么遵循左根右的顺序递归，得到的数组是有序的，那么思路左根右的递归方法，维护一个访问变量，当访问过的节点数为k-1，那么可以返回该跟节点，然后index += 1,然后再调用跟节点的右子树。"
   ]
  },
  {
   "cell_type": "code",
   "execution_count": 1,
   "metadata": {},
   "outputs": [],
   "source": [
    "class Solution:\n",
    "    # 返回对应节点TreeNode\n",
    "    def __init__(self):\n",
    "        self.visit_index = 0\n",
    "    def KthNode(self, pRoot, k):\n",
    "        # write code here\n",
    "        if not pRoot or k <= 0:\n",
    "            return None\n",
    "        target = None\n",
    "        if pRoot.left:\n",
    "            target = self.KthNode(pRoot.left,k)\n",
    "        if target is None:\n",
    "            if self.visit_index == k-1:\n",
    "                target = pRoot\n",
    "            self.visit_index += 1\n",
    "        if target is None and pRoot.right:\n",
    "            target = self.KthNode(pRoot.right,k)\n",
    "        return target"
   ]
  }
 ],
 "metadata": {
  "kernelspec": {
   "display_name": "Python 3",
   "language": "python",
   "name": "python3"
  },
  "language_info": {
   "codemirror_mode": {
    "name": "ipython",
    "version": 3
   },
   "file_extension": ".py",
   "mimetype": "text/x-python",
   "name": "python",
   "nbconvert_exporter": "python",
   "pygments_lexer": "ipython3",
   "version": "3.7.4"
  }
 },
 "nbformat": 4,
 "nbformat_minor": 4
}
