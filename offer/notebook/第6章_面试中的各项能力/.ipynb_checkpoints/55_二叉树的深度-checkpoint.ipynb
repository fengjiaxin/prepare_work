{
 "cells": [
  {
   "cell_type": "markdown",
   "metadata": {},
   "source": [
    "### 面试题55:二叉树的深度\n",
    "\n",
    "&emsp;题目：输入一个二叉树的跟节点，求该树的深度，从跟节点到叶节点依次经过的节点(含根、叶节点)形成树的一条路径，最长路径的长度为树的深度。\n",
    "\n",
    "&emsp;**思路**:给定二叉树，求深度，这个可以将问题分解为小问题，求根的左子树和根的右子树的最大路径再+1，将问题转换为左右根的处理逻辑，通过递归的方式能够获得子问题的解，然后再处理本问题"
   ]
  },
  {
   "cell_type": "code",
   "execution_count": 1,
   "metadata": {},
   "outputs": [],
   "source": [
    "class Solution:\n",
    "    def TreeDepth(self, pRoot):\n",
    "        # write code here\n",
    "        if pRoot is None:\n",
    "            return 0\n",
    "        left_dep = self.TreeDepth(pRoot.left)\n",
    "        right_dep = self.TreeDepth(pRoot.right)\n",
    "        return max(left_dep,right_dep) + 1"
   ]
  }
 ],
 "metadata": {
  "kernelspec": {
   "display_name": "Python 3",
   "language": "python",
   "name": "python3"
  },
  "language_info": {
   "codemirror_mode": {
    "name": "ipython",
    "version": 3
   },
   "file_extension": ".py",
   "mimetype": "text/x-python",
   "name": "python",
   "nbconvert_exporter": "python",
   "pygments_lexer": "ipython3",
   "version": "3.7.4"
  }
 },
 "nbformat": 4,
 "nbformat_minor": 4
}
