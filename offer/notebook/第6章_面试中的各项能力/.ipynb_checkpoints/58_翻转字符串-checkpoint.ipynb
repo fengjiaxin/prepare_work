{
 "cells": [
  {
   "cell_type": "markdown",
   "metadata": {},
   "source": [
    "### 面试题58:翻转字符串\n",
    "\n",
    "&emsp;题目：翻转单词字符串，输入一个英文句子，翻转句子中单词的顺序，但单词内字符的顺序不变。为简单起见，标点符号和普通字母一样处理。例如输入字符串\"I am a student.\",则输出为\"student. a am I\"\n",
    "\n",
    "&emsp;**思路**:先将整个句子进行翻转，这样的话句子中的单词顺序翻转，连单词内的字符顺序也翻转了，这样在翻转单词，这样就可以恢复单词"
   ]
  },
  {
   "cell_type": "code",
   "execution_count": 1,
   "metadata": {},
   "outputs": [],
   "source": [
    "class Solution:\n",
    "    def ReverseSentence(self, s):\n",
    "        if not s or len(s) <= 1:\n",
    "            return s\n",
    "        str_list = list(s)\n",
    "\n",
    "        def reverse_helper(left,right):\n",
    "            while left < right:\n",
    "                temp = str_list[left]\n",
    "                str_list[left] = str_list[right]\n",
    "                str_list[right] = temp\n",
    "                left += 1\n",
    "                right -= 1\n",
    "\n",
    "        start = 0\n",
    "        begin = len(s) - 1\n",
    "        reverse_helper(start,begin)\n",
    "        print(str_list)\n",
    "        last_null_index = -1\n",
    "        for index,c in enumerate(str_list):\n",
    "            if c == ' ':\n",
    "                reverse_helper(last_null_index+1,index-1)\n",
    "                last_null_index = index\n",
    "            if index == len(s) - 1:\n",
    "                reverse_helper(last_null_index+1,index)\n",
    "        return ''.join(str_list)"
   ]
  }
 ],
 "metadata": {
  "kernelspec": {
   "display_name": "Python 3",
   "language": "python",
   "name": "python3"
  },
  "language_info": {
   "codemirror_mode": {
    "name": "ipython",
    "version": 3
   },
   "file_extension": ".py",
   "mimetype": "text/x-python",
   "name": "python",
   "nbconvert_exporter": "python",
   "pygments_lexer": "ipython3",
   "version": "3.7.4"
  }
 },
 "nbformat": 4,
 "nbformat_minor": 4
}
