{
 "cells": [
  {
   "cell_type": "markdown",
   "metadata": {},
   "source": [
    "### 面试题57:和为s的数字\n",
    "\n",
    "&emsp;题目：输入一个递增排序的数组和一个数字s，在数组中查找两个数，使得他们的和正好是s，如果有多对数字的和等于s，则输出任意一对即可。\n",
    "\n",
    "&emsp;**思路**:希望能够得到两个下标left_index 和right_index,curr = nums[left_index] + nums[right_index],然后将curr和s相比较，如果curr==s：那么输出返回即可，如果curr<s：希望可以调整下标使得curr增大，如果curr>s,希望可以调整下标使得curr减小，如果将left_index=0,right_index=len(nums)-1,那么就可以实现这个功能，最后需要判断一下是否存在这样的两个数"
   ]
  },
  {
   "cell_type": "code",
   "execution_count": 1,
   "metadata": {},
   "outputs": [],
   "source": [
    "class Solution:\n",
    "    def FindNumbersWithSum(self, array, tsum):\n",
    "        # write code here\n",
    "        if not array or len(array) <= 1:\n",
    "            return []\n",
    "        left = 0\n",
    "        right = len(array)-1\n",
    "        while left < right:\n",
    "            temp = array[left] + array[right]\n",
    "            if temp == tsum:\n",
    "                return array[left],array[right]\n",
    "            elif temp < tsum:\n",
    "                left += 1\n",
    "            elif temp > tsum:\n",
    "                right -= 1\n",
    "        return []"
   ]
  }
 ],
 "metadata": {
  "kernelspec": {
   "display_name": "Python 3",
   "language": "python",
   "name": "python3"
  },
  "language_info": {
   "codemirror_mode": {
    "name": "ipython",
    "version": 3
   },
   "file_extension": ".py",
   "mimetype": "text/x-python",
   "name": "python",
   "nbconvert_exporter": "python",
   "pygments_lexer": "ipython3",
   "version": "3.7.4"
  }
 },
 "nbformat": 4,
 "nbformat_minor": 4
}
