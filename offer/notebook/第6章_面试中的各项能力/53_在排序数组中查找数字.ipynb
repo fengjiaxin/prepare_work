{
 "cells": [
  {
   "cell_type": "markdown",
   "metadata": {},
   "source": [
    "### 面试题53:在排序数组中查找数字\n",
    "\n",
    "&emsp;题目：数字在排序数组中出现的次数，例如在排序数组中{1,2,3,3,3,3,4,5}和数字3，3在这个数字中出现的次数为4\n",
    "\n",
    "&emsp;**思路**:其实将问题转换成两个子问题，1.在排序数组找出第一个大于等于target的下标，2.在排序数组中找出第一个大于target的下标，然后将两个下标相减即可。"
   ]
  },
  {
   "cell_type": "code",
   "execution_count": 1,
   "metadata": {},
   "outputs": [],
   "source": [
    "class Solution:\n",
    "    def GetNumberOfK(self, data, k):\n",
    "        # write code here\n",
    "        if not data:\n",
    "            return 0   \n",
    "        # 获取数组中第一个大于等于k的下标\n",
    "        def lower_bound(data,k):\n",
    "            left = 0\n",
    "            right = len(data)\n",
    "            while left < right:\n",
    "                mid = left + (right - left)//2\n",
    "                if data[mid] == k:\n",
    "                    right = mid\n",
    "                elif data[mid] < k:\n",
    "                    left = mid + 1\n",
    "                elif data[mid] > k:\n",
    "                    right = mid\n",
    "            return left\n",
    "        # 获取数组中第一个大于k的下标\n",
    "        def upper_bound(data,k):\n",
    "            left = 0\n",
    "            right = len(data)\n",
    "            while left < right:\n",
    "                mid = left + (right-left)//2\n",
    "                if data[mid] == k:\n",
    "                    left = mid + 1\n",
    "                elif data[mid] < k:\n",
    "                    left = mid + 1\n",
    "                elif data[mid] > k:\n",
    "                    right = mid\n",
    "            return left\n",
    "        # 次数等于第一个大于k的index - 第一个大于等于k的index\n",
    "        lower_index = lower_bound(data,k)\n",
    "        upper_index = upper_bound(data,k)\n",
    "        return upper_index - lower_index"
   ]
  }
 ],
 "metadata": {
  "kernelspec": {
   "display_name": "Python 3",
   "language": "python",
   "name": "python3"
  },
  "language_info": {
   "codemirror_mode": {
    "name": "ipython",
    "version": 3
   },
   "file_extension": ".py",
   "mimetype": "text/x-python",
   "name": "python",
   "nbconvert_exporter": "python",
   "pygments_lexer": "ipython3",
   "version": "3.7.4"
  }
 },
 "nbformat": 4,
 "nbformat_minor": 4
}
