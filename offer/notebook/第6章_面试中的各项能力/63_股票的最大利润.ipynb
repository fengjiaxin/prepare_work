{
 "cells": [
  {
   "cell_type": "markdown",
   "metadata": {},
   "source": [
    "### 面试题63:股票的最大利润\n",
    "\n",
    "&emsp;题目：假设把某股票的价格按照时间先后的顺序存储在数组中，那么买卖该股票一次可能获得的最大利润是多少？例如，一只股票在某些时间节点的价格为{9,11,8,5,7,12,16,14},如果能够在价格为5的时候买入，价格为16的时候卖出，则能够获得最大利润11\n",
    "\n",
    "&emsp;**思路**:在遍历数组的时候，如果在扫描到数组的第i个数字时候，只要能够记住之前的i-1个数字中的最小值，那么就能够算出来在当前价位卖出能够获得的最大值"
   ]
  },
  {
   "cell_type": "code",
   "execution_count": 1,
   "metadata": {},
   "outputs": [],
   "source": [
    "def max_get(nums):\n",
    "    if not nums or len(nums) <= 1:\n",
    "        return 0\n",
    "    min_value = nums[0]\n",
    "    max_diff = nums[1] - min_value\n",
    "    for i in range(2,len(nums)):\n",
    "        if nums[i-1] < min_value:\n",
    "            min_value = nums[i-1]\n",
    "        curr_diff = nums[i] - min_value\n",
    "        if curr_diff > max_diff:\n",
    "            max_diff = curr_diff\n",
    "    return max_diff"
   ]
  },
  {
   "cell_type": "code",
   "execution_count": 2,
   "metadata": {},
   "outputs": [
    {
     "name": "stdout",
     "output_type": "stream",
     "text": [
      "11\n"
     ]
    }
   ],
   "source": [
    "nums = [9,11,8,5,7,12,16,14]\n",
    "res = max_get(nums)\n",
    "print(res)"
   ]
  }
 ],
 "metadata": {
  "kernelspec": {
   "display_name": "Python 3",
   "language": "python",
   "name": "python3"
  },
  "language_info": {
   "codemirror_mode": {
    "name": "ipython",
    "version": 3
   },
   "file_extension": ".py",
   "mimetype": "text/x-python",
   "name": "python",
   "nbconvert_exporter": "python",
   "pygments_lexer": "ipython3",
   "version": "3.7.4"
  }
 },
 "nbformat": 4,
 "nbformat_minor": 4
}
