{
 "cells": [
  {
   "cell_type": "markdown",
   "metadata": {},
   "source": [
    "### 面试题10:斐波那契数列\n",
    "\n",
    "&emsp;题目：求斐波那契数列的第n项，写一个函数实现这个功能，斐波那契数列是f(n)\n",
    "+ f(n) = 0 n = 0\n",
    "+ f(1) = 1 n = 1\n",
    "+ f(n) = f(n-1) + f(n-2) n > 1\n",
    "\n",
    "&emsp;**思路**:如果单纯使用递归，可能深度太低，同时观察数列，有些信息可以重复使用，那么只保留前面两个数值即可，每次更新就行。充分利用之前的信息，即动态规划。"
   ]
  },
  {
   "cell_type": "code",
   "execution_count": 1,
   "metadata": {},
   "outputs": [],
   "source": [
    "class Solution:\n",
    "    def Fibonacci(self, n):\n",
    "        # write code here\n",
    "        if n <= 1:\n",
    "            return n \n",
    "        prev_two = 0\n",
    "        prev_one = 1\n",
    "        for i in range(2,n):\n",
    "            curr = prev_two + prev_one\n",
    "            prev_two = prev_one\n",
    "            prev_one = curr\n",
    "        return prev_one + prev_two"
   ]
  }
 ],
 "metadata": {
  "kernelspec": {
   "display_name": "Python 3",
   "language": "python",
   "name": "python3"
  },
  "language_info": {
   "codemirror_mode": {
    "name": "ipython",
    "version": 3
   },
   "file_extension": ".py",
   "mimetype": "text/x-python",
   "name": "python",
   "nbconvert_exporter": "python",
   "pygments_lexer": "ipython3",
   "version": "3.6.9"
  }
 },
 "nbformat": 4,
 "nbformat_minor": 4
}
