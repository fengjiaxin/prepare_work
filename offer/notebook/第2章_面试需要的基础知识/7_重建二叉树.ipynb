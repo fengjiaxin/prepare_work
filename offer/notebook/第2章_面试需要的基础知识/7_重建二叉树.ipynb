{
 "cells": [
  {
   "cell_type": "markdown",
   "metadata": {},
   "source": [
    "### 面试题7:重建二叉树\n",
    "\n",
    "&emsp;题目：输入某二叉树的前序遍历和中序遍历的结果，请重建该二叉树，假设输入的前序遍历和中序遍历的结果中都不含有重复的值。\n",
    "\n",
    "&emsp;**思路**:前序遍历是根左右，中序遍历是左右根，那么首先可以确定根节点以及左子树和右子树，可以通过根节点在中序遍历中的位置确定左子树的数量和右子树的数量，然后可以在前序遍历中找到左子树的位置和右子树的位置，然后递归使用。"
   ]
  },
  {
   "cell_type": "code",
   "execution_count": 1,
   "metadata": {},
   "outputs": [],
   "source": [
    "# class TreeNode:\n",
    "#     def __init__(self, x):\n",
    "#         self.val = x\n",
    "#         self.left = None\n",
    "#         self.right = None\n",
    "class Solution:\n",
    "    # 返回构造的TreeNode根节点\n",
    "    def reConstructBinaryTree(self, pre, tin):\n",
    "        # write code here\n",
    "        if not pre or not tin or len(pre) != len(tin):\n",
    "            return None\n",
    "        def helper(pre_start,pre_end,tin_start,tin_end):\n",
    "            if pre_start <= pre_end and tin_start <= tin_end:\n",
    "                val = pre[pre_start]\n",
    "                mid = tin.index(val)\n",
    "                left_num = mid - tin_start\n",
    "                right_num = tin_end - mid\n",
    "                root = TreeNode(val)\n",
    "                if left_num > 0:\n",
    "                    root.left = helper(pre_start+1,pre_start+left_num,tin_start,mid-1)\n",
    "                if right_num > 0:\n",
    "                    root.right = helper(pre_start+left_num + 1,pre_end,mid+1,tin_end)\n",
    "                return root\n",
    "        length = len(pre)\n",
    "        return helper(0,length-1,0,length-1)"
   ]
  }
 ],
 "metadata": {
  "kernelspec": {
   "display_name": "Python 3",
   "language": "python",
   "name": "python3"
  },
  "language_info": {
   "codemirror_mode": {
    "name": "ipython",
    "version": 3
   },
   "file_extension": ".py",
   "mimetype": "text/x-python",
   "name": "python",
   "nbconvert_exporter": "python",
   "pygments_lexer": "ipython3",
   "version": "3.6.9"
  }
 },
 "nbformat": 4,
 "nbformat_minor": 4
}
