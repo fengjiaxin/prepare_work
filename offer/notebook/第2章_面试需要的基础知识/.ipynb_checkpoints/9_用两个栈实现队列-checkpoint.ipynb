{
 "cells": [
  {
   "cell_type": "markdown",
   "metadata": {},
   "source": [
    "### 面试题9:用两个栈实现队列\n",
    "\n",
    "&emsp;题目：用两个栈实现队列的先进先出的功能\n",
    "\n",
    "&emsp;**思路**:中序遍历是左根右，如果该节点有右子树，那么下一个节点是右子树的最左叶子节点，如果该节点没有右子树，那么需要找到它的祖先节点，直到它是祖先节点的左节点，那么下一个节点是这个祖先节点"
   ]
  }
 ],
 "metadata": {
  "kernelspec": {
   "display_name": "Python 3",
   "language": "python",
   "name": "python3"
  },
  "language_info": {
   "codemirror_mode": {
    "name": "ipython",
    "version": 3
   },
   "file_extension": ".py",
   "mimetype": "text/x-python",
   "name": "python",
   "nbconvert_exporter": "python",
   "pygments_lexer": "ipython3",
   "version": "3.6.9"
  }
 },
 "nbformat": 4,
 "nbformat_minor": 4
}
