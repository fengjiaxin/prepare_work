{
 "cells": [
  {
   "cell_type": "markdown",
   "metadata": {},
   "source": [
    "### 面试题12:矩阵中的路径\n",
    "\n",
    "&emsp;题目：请设计一个函数，用来判断一个矩阵中是否存在一条包含某个字符串所有字符的路径，路径可以从矩阵的任意一格开始，每一步可以在矩阵中向左，右，上，下移动一格，如果一条路径经过了某一格，那么该路径不能再次进入该格子。\n",
    "\n",
    "&emsp;**思路**:需要设计一个辅助函数，从(x,y)开始是否包含字符串，可以使用回溯法。需要记录一个visited矩阵，如果访问的话需要赋值为True,然乎如果结束访问这个节点，需要将visited这个值设置为False"
   ]
  },
  {
   "cell_type": "code",
   "execution_count": 1,
   "metadata": {},
   "outputs": [
    {
     "name": "stdout",
     "output_type": "stream",
     "text": [
      "True\n"
     ]
    }
   ],
   "source": [
    "class Solution:\n",
    "    def hasPath(self, matrix, rows, cols, path):\n",
    "        # write code here\n",
    "        if not matrix or rows <= 0 or cols <= 0:\n",
    "            return False\n",
    "\n",
    "        visited = [[False for _ in range(cols)] for _ in range(rows)]\n",
    "        length = len(path)\n",
    "\n",
    "        # path_start:path开始的路径index\n",
    "        def helper(row, col, path_start):\n",
    "            if path_start == length:\n",
    "                return True\n",
    "            res = False\n",
    "            if 0 <= col < cols and 0 <= row < rows and matrix[row][col] == path[path_start] and not visited[row][col]:\n",
    "                visited[row][col] = True\n",
    "                path_start += 1\n",
    "\n",
    "                # 接下来可能往四个方向扩展\n",
    "                res = helper(row - 1, col, path_start) or helper(row + 1, col, path_start) \\\n",
    "                      or helper(row, col - 1,path_start) or helper(row, col + 1, path_start)\n",
    "                if not res:\n",
    "                    visited[row][col] = False\n",
    "                    path_start -= 1\n",
    "            return res\n",
    "\n",
    "        for i in range(rows):\n",
    "            for j in range(cols):\n",
    "                if helper(i, j, 0):\n",
    "                    return True\n",
    "        return False\n",
    "s = Solution()\n",
    "matrix = [['a','b','c','e'],['s','f','c','s'],['a','d','e','e']]\n",
    "path = 'abcced'\n",
    "res = s.hasPath(matrix,3,4,path)\n",
    "print(res)"
   ]
  }
 ],
 "metadata": {
  "kernelspec": {
   "display_name": "Python 3",
   "language": "python",
   "name": "python3"
  },
  "language_info": {
   "codemirror_mode": {
    "name": "ipython",
    "version": 3
   },
   "file_extension": ".py",
   "mimetype": "text/x-python",
   "name": "python",
   "nbconvert_exporter": "python",
   "pygments_lexer": "ipython3",
   "version": "3.6.9"
  }
 },
 "nbformat": 4,
 "nbformat_minor": 4
}
