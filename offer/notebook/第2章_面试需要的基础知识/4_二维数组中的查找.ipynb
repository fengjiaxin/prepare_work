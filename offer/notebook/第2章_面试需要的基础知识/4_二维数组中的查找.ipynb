{
 "cells": [
  {
   "cell_type": "markdown",
   "metadata": {},
   "source": [
    "### 面试题4:二维数组中的查找\n",
    "\n",
    "&emsp;题目：在一个二维数组中，每一行都是从左往右递增的顺序排序，每一列都是按照从上到下递增的顺序排序，请完成一个函数，输入这样的一个二维数组和一个整数，判断数组中是否含有该整数\n",
    "\n",
    "&emsp;**思路**:希望得到一个数，如果它比这个整数小可以往一个方向查找，如果它比这个整数大可以向另一个方向查找，因此一开始可以从右上角开始查找，如果这个数字比该整数大，那么可以向下查找，如果这个数字比该整数小，可以往左边查找"
   ]
  },
  {
   "cell_type": "code",
   "execution_count": 1,
   "metadata": {},
   "outputs": [],
   "source": [
    "class Solution:\n",
    "    # array 二维列表\n",
    "    def Find(self, target, array):\n",
    "        # write code here\n",
    "        if not array:\n",
    "            return False\n",
    "        rows = len(array)\n",
    "        cols = len(array[0])\n",
    "        start_x = cols - 1\n",
    "        start_y = 0\n",
    "        flag = False\n",
    "        while start_x >= 0 and start_y <= rows - 1:\n",
    "            temp = array[start_y][start_x]\n",
    "            if temp == target:\n",
    "                flag = True\n",
    "                break\n",
    "            elif temp < target:\n",
    "                start_y += 1\n",
    "            elif temp > target:\n",
    "                start_x -= 1\n",
    "        return flag"
   ]
  }
 ],
 "metadata": {
  "kernelspec": {
   "display_name": "Python 3",
   "language": "python",
   "name": "python3"
  },
  "language_info": {
   "codemirror_mode": {
    "name": "ipython",
    "version": 3
   },
   "file_extension": ".py",
   "mimetype": "text/x-python",
   "name": "python",
   "nbconvert_exporter": "python",
   "pygments_lexer": "ipython3",
   "version": "3.6.9"
  }
 },
 "nbformat": 4,
 "nbformat_minor": 4
}
