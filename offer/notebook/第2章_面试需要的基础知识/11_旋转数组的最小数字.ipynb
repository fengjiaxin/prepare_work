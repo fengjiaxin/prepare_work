{
 "cells": [
  {
   "cell_type": "markdown",
   "metadata": {},
   "source": [
    "### 面试题11:旋转数组的最小数字\n",
    "\n",
    "&emsp;题目：把一个数组最开始的若干个元素搬到数组的末尾，我们称之为数组的旋转，输入一个递增排序的数组的一个旋转，输出旋转数组的最小元素，例如数组{3,4,5,1,2}是{1,2,3,4,5}的一个旋转，该数组的最小值为1\n",
    "\n",
    "&emsp;**思路**:可以通过二分查找确定边界，希望left指向升序的最后一个元素，right指向降序的第一个元素，当left=right-1的时候就找到了最小元素，可以通过mid是前面递增子数组好事后面递减子数组来将范围去掉一半，有一种特殊情况，如果nums[left] == nums[mid] == nums[right]，是无法判断mid是前面的递增子序列还是递减子序列"
   ]
  },
  {
   "cell_type": "code",
   "execution_count": 1,
   "metadata": {},
   "outputs": [],
   "source": [
    "class Solution:\n",
    "    def minNumberInRotateArray(self, rotateArray):\n",
    "        # write code here\n",
    "        if not rotateArray:\n",
    "            return 0\n",
    "        left = 0\n",
    "        right = len(rotateArray) - 1\n",
    "        while left < right:\n",
    "            if left == right - 1:\n",
    "                return rotateArray[right]\n",
    "            mid = left + (right - left)//2\n",
    "            left_val = rotateArray[left]\n",
    "            mid_val = rotateArray[mid]\n",
    "            right_val = rotateArray[right]\n",
    "            if left_val == mid_val == right_val:\n",
    "                return min(rotateArray)\n",
    "            # 说明mid在递增子数组中，应该收缩left\n",
    "            if mid_val >= left_val:\n",
    "                left = mid\n",
    "            # 说明mid在递减子数组中，应该收缩right\n",
    "            elif mid_val < left_val:\n",
    "                right = mid"
   ]
  }
 ],
 "metadata": {
  "kernelspec": {
   "display_name": "Python 3",
   "language": "python",
   "name": "python3"
  },
  "language_info": {
   "codemirror_mode": {
    "name": "ipython",
    "version": 3
   },
   "file_extension": ".py",
   "mimetype": "text/x-python",
   "name": "python",
   "nbconvert_exporter": "python",
   "pygments_lexer": "ipython3",
   "version": "3.6.9"
  }
 },
 "nbformat": 4,
 "nbformat_minor": 4
}
