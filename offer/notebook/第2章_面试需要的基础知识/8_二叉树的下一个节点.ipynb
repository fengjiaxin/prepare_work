{
 "cells": [
  {
   "cell_type": "markdown",
   "metadata": {},
   "source": [
    "### 面试题8:二叉树的下一个节点\n",
    "\n",
    "&emsp;题目：给定一个二叉树和其中一个节点，如何找出中序遍历序列的下一个节点，树中的节点除了有两个分别指向左右子节点的指针，还有一个指向父节点的指针\n",
    "\n",
    "&emsp;**思路**:中序遍历是左根右，如果该节点有右子树，那么下一个节点是右子树的最左叶子节点，如果该节点没有右子树，那么需要找到它的祖先节点，直到它是祖先节点的左节点，那么下一个节点是这个祖先节点"
   ]
  },
  {
   "cell_type": "code",
   "execution_count": 1,
   "metadata": {},
   "outputs": [],
   "source": [
    "# class TreeLinkNode:\n",
    "#     def __init__(self, x):\n",
    "#         self.val = x\n",
    "#         self.left = None\n",
    "#         self.right = None\n",
    "#         self.next = None\n",
    "class Solution:\n",
    "    def GetNext(self, pNode):\n",
    "        # write code here\n",
    "        # 找到该节点的最左子节点\n",
    "        def get_left(node):\n",
    "            while node.left:\n",
    "                node = node.left\n",
    "            return node\n",
    "        # 向上查找，找到子节点是父节点的左子节点\n",
    "        def get_parent(node):\n",
    "            parent = node.next\n",
    "            while parent:\n",
    "                if node == parent.left:\n",
    "                    return parent\n",
    "                else:\n",
    "                    node = parent\n",
    "                    parent = parent.next\n",
    "            return None\n",
    "        if pNode.right:\n",
    "            return get_left(pNode.right)\n",
    "        else:\n",
    "            return get_parent(pNode)"
   ]
  }
 ],
 "metadata": {
  "kernelspec": {
   "display_name": "Python 3",
   "language": "python",
   "name": "python3"
  },
  "language_info": {
   "codemirror_mode": {
    "name": "ipython",
    "version": 3
   },
   "file_extension": ".py",
   "mimetype": "text/x-python",
   "name": "python",
   "nbconvert_exporter": "python",
   "pygments_lexer": "ipython3",
   "version": "3.6.9"
  }
 },
 "nbformat": 4,
 "nbformat_minor": 4
}
