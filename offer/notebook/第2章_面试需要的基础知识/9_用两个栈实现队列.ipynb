{
 "cells": [
  {
   "cell_type": "markdown",
   "metadata": {},
   "source": [
    "### 面试题9:用两个栈实现队列\n",
    "\n",
    "&emsp;题目：用两个栈实现队列的先进先出的功能\n",
    "\n",
    "&emsp;**思路**:其实就是push和pop怎么用栈实现，用两个栈实现，每次push的时候都放到stack1中，pop的时候，如果stack2是空，就将stack1的所有元素都放在stack2中，然后在弹出stack2"
   ]
  },
  {
   "cell_type": "code",
   "execution_count": 1,
   "metadata": {},
   "outputs": [],
   "source": [
    "class Solution:\n",
    "    def __init__(self):\n",
    "        self.stack1 = []\n",
    "        self.stack2 = []\n",
    "    def push(self, node):\n",
    "        # write code here\n",
    "        self.stack1.append(node)\n",
    "    def pop(self):\n",
    "        # return xx\n",
    "        if self.stack2:\n",
    "            return self.stack2.pop(-1)\n",
    "        while self.stack1:\n",
    "            self.stack2.append(self.stack1.pop(-1))\n",
    "        return self.stack2.pop(-1)"
   ]
  }
 ],
 "metadata": {
  "kernelspec": {
   "display_name": "Python 3",
   "language": "python",
   "name": "python3"
  },
  "language_info": {
   "codemirror_mode": {
    "name": "ipython",
    "version": 3
   },
   "file_extension": ".py",
   "mimetype": "text/x-python",
   "name": "python",
   "nbconvert_exporter": "python",
   "pygments_lexer": "ipython3",
   "version": "3.6.9"
  }
 },
 "nbformat": 4,
 "nbformat_minor": 4
}
