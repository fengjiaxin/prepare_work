{
 "cells": [
  {
   "cell_type": "markdown",
   "metadata": {},
   "source": [
    "### 面试题3:数组中重复的数字\n",
    "\n",
    "&emsp;题目：找出数组中重复的数字，在一个长度为n的数组里所有的数字都在0～n-1之间，数组中某些数字是重复的\n",
    "\n",
    "&emsp;**思路**: 可以先定义一个数组长度为n,初始化为0，然后遍历的时候，在指定下表index处标记为1，如果inde下标为1，表示该数子是重复的，可以返回"
   ]
  },
  {
   "cell_type": "code",
   "execution_count": null,
   "metadata": {},
   "outputs": [],
   "source": [
    "class Solution:\n",
    "    # 这里要特别注意~找到任意重复的一个值并赋值到duplication[0]\n",
    "    # 函数返回True/False\n",
    "    def duplicate(self, numbers, duplication):\n",
    "        # write code here\n",
    "        length = len(numbers)\n",
    "        temp_list = [0 for i in range(length)]\n",
    "        dup_val = None\n",
    "        for v in numbers:\n",
    "            if temp_list[v] == 1:\n",
    "                dup_val = v\n",
    "                break\n",
    "            else:\n",
    "                temp_list[v] = 1\n",
    "        if dup_val is None:\n",
    "            return False\n",
    "        else:\n",
    "            duplication[0] = dup_val\n",
    "            return True"
   ]
  }
 ],
 "metadata": {
  "kernelspec": {
   "display_name": "Python 3",
   "language": "python",
   "name": "python3"
  },
  "language_info": {
   "codemirror_mode": {
    "name": "ipython",
    "version": 3
   },
   "file_extension": ".py",
   "mimetype": "text/x-python",
   "name": "python",
   "nbconvert_exporter": "python",
   "pygments_lexer": "ipython3",
   "version": "3.6.9"
  }
 },
 "nbformat": 4,
 "nbformat_minor": 4
}
