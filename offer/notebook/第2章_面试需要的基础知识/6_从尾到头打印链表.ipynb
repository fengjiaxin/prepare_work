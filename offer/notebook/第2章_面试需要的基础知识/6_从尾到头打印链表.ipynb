{
 "cells": [
  {
   "cell_type": "markdown",
   "metadata": {},
   "source": [
    "### 面试题6:从尾到头打印链表\n",
    "\n",
    "&emsp;题目：输入一个链表的头节点，从尾到头反过来打印出每个节点的值。\n",
    "\n",
    "&emsp;**思路**:其实可以把节点放到栈中，依次弹出即可，也可使用递归的方式，每次先处理后面的节点，然后在处理该节点"
   ]
  },
  {
   "cell_type": "code",
   "execution_count": 1,
   "metadata": {},
   "outputs": [],
   "source": [
    "# class ListNode:\n",
    "#     def __init__(self, x):\n",
    "#         self.val = x\n",
    "#         self.next = None\n",
    "\n",
    "class Solution:\n",
    "    # 返回从尾部到头部的列表值序列，例如[1,2,3]\n",
    "    def printListFromTailToHead(self, listNode):\n",
    "        # write code here\n",
    "        res = []\n",
    "        def recur_helper(node):\n",
    "            if node:\n",
    "                recur_helper(node.next)\n",
    "                res.append(node.val)\n",
    "        recur_helper(listNode)\n",
    "        return res"
   ]
  }
 ],
 "metadata": {
  "kernelspec": {
   "display_name": "Python 3",
   "language": "python",
   "name": "python3"
  },
  "language_info": {
   "codemirror_mode": {
    "name": "ipython",
    "version": 3
   },
   "file_extension": ".py",
   "mimetype": "text/x-python",
   "name": "python",
   "nbconvert_exporter": "python",
   "pygments_lexer": "ipython3",
   "version": "3.6.9"
  }
 },
 "nbformat": 4,
 "nbformat_minor": 4
}
