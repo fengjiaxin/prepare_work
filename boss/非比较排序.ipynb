{
 "cells": [
  {
   "cell_type": "code",
   "execution_count": 1,
   "metadata": {},
   "outputs": [],
   "source": [
    "# 1.计数排序，时间复杂度O(n+k),这个算法在n个输入元素中每一个都是0到k的范围的整数，当k=O(n)时，排序的时间复杂度为O(n)\n",
    "\n",
    "# 思想：生成一个数组，长度为K(坐标为0 ~ k-1),value记录在数组中该元素出现的次数，然后遍历数组，如果出现次数为0，略过，否则生成value个该元素\n",
    "\n",
    "# 表示arr中的元素都在[0,k]中\n",
    "def countSort(arr,k):\n",
    "    vec = [0 for i in range(k+1)]\n",
    "    for val in arr:\n",
    "        vec[val] += 1\n",
    "    res = []\n",
    "    for i in range(k+1):\n",
    "        if vec[i] == 0:\n",
    "            continue\n",
    "        else:\n",
    "            res.extend([i for _ in range(vec[i])])\n",
    "    return res"
   ]
  },
  {
   "cell_type": "code",
   "execution_count": 2,
   "metadata": {},
   "outputs": [
    {
     "name": "stdout",
     "output_type": "stream",
     "text": [
      "[1, 2, 3, 3, 3, 4, 4, 5, 5, 7]\n"
     ]
    }
   ],
   "source": [
    "arr1 = [1,4,3,2,7,5,4,5,3,3]\n",
    "k = 10\n",
    "res = countSort(arr1,k)\n",
    "print(res)"
   ]
  },
  {
   "cell_type": "code",
   "execution_count": 3,
   "metadata": {},
   "outputs": [],
   "source": [
    "# 2.基数排序 ，时间复杂度为O(d*(n+k))，假设代排序的数子的最大位数为d位，每位的最大值为k,一般就是9\n",
    "# 思想：先对低维进行计数排序，得到一个新序列1，然后对新序列1次低维采用计数排序，以此类推，直到最高维d\n",
    "\n",
    "# 123,第0位为3，第1位为2，第2位为1，第3位为0\n",
    "def getBitNumber(val,number):\n",
    "    val_char_reverse = str(val)[::-1] # \"321\"\n",
    "    length = len(val_char_reverse)\n",
    "    if number < length:\n",
    "        return int(val_char_reverse[number])\n",
    "    else:\n",
    "        return 0\n",
    "\n",
    "# 对数组的第nunmber维进行排序\n",
    "def countSort(arr,number):\n",
    "    vec = [[] for _ in range(10)]\n",
    "    for val in arr:\n",
    "        bit = getBitNumber(val,number)\n",
    "        vec[bit].append(val)\n",
    "    res = []\n",
    "    for li in vec:\n",
    "        res.extend(li)\n",
    "    return res\n",
    "    \n",
    "def radixSort(arr,d):\n",
    "    curr = arr\n",
    "    for i in range(d):\n",
    "        curr = countSort(curr,i)\n",
    "    return curr"
   ]
  },
  {
   "cell_type": "code",
   "execution_count": 4,
   "metadata": {},
   "outputs": [
    {
     "name": "stdout",
     "output_type": "stream",
     "text": [
      "[14, 22, 28, 39, 43, 55, 65, 73, 81, 93]\n"
     ]
    }
   ],
   "source": [
    "arr2 = [73, 22, 93, 43, 55, 14, 28, 65, 39, 81]\n",
    "d = 2\n",
    "res = radixSort(arr2,d)\n",
    "print(res)"
   ]
  },
  {
   "cell_type": "code",
   "execution_count": 18,
   "metadata": {},
   "outputs": [],
   "source": [
    "# 3.桶排序，平均情况下的时间代价为O(n)的的排序算法\n",
    "# 这种排序假设输入数据服从均匀分布，而且需要已知待排序列的大概范围，是一种空间换时间的排序算法\n",
    "# 其实就是分成n个桶，然后把数字分到指定的桶，但是保证放到桶的位置是有序的\n",
    "\n",
    "# 来数学证明一下，为啥桶排序平均时间复杂度为O(n)\n",
    "# 假设有m个桶，如果均分分布，假设每个桶内含有元素为n/m,每个桶采用比较的时间复杂度为klogk\n",
    "# O(n) + O(m * (n/m) * log(n/m)) = O(n) + O(n * log(n/m))\n",
    "# 当m趋近于n时,n/m 约等于1，log(n/m)趋近于0\n",
    "# 所以时间复杂度趋近于O(n)\n",
    "\n",
    "#\n",
    "def bucketSort(arr,minValue,maxValue,bucketSize):\n",
    "    margin = (maxValue - minValue)//bucketSize\n",
    "    bucket = [[] for _ in range(bucketSize)]\n",
    "    for val in arr:\n",
    "        bucket_idx = (val - minValue)//margin\n",
    "#         print(bucket_idx)\n",
    "        bucket_arr = bucket[bucket_idx]\n",
    "        bucket_len = len(bucket_arr)\n",
    "        insert_idx = bucket_len - 1\n",
    "        for i in range(bucket_len):\n",
    "            if bucket_arr[i] > val:\n",
    "                insert_idx = i\n",
    "                break\n",
    "        bucket_arr.insert(insert_idx,val)\n",
    "    res = []\n",
    "    for li in bucket:\n",
    "        print(li)\n",
    "        res.extend(li)\n",
    "    return res"
   ]
  },
  {
   "cell_type": "code",
   "execution_count": 19,
   "metadata": {},
   "outputs": [
    {
     "name": "stdout",
     "output_type": "stream",
     "text": [
      "[0, 14, 16, 22, 22]\n",
      "[28, 31, 39, 45, 43]\n",
      "[54, 55, 65, 73, 73]\n",
      "[81, 93]\n",
      "[0, 14, 16, 22, 22, 28, 31, 39, 45, 43, 54, 55, 65, 73, 73, 81, 93]\n"
     ]
    }
   ],
   "source": [
    "arr3 = [73, 22, 93, 43, 55, 14, 28, 65, 39, 81,0,22,31,16,45,73,54]\n",
    "bucketSize = 4\n",
    "res = bucketSort(arr3,0,100,bucketSize)\n",
    "print(res)"
   ]
  }
 ],
 "metadata": {
  "kernelspec": {
   "display_name": "Python 3",
   "language": "python",
   "name": "python3"
  },
  "language_info": {
   "codemirror_mode": {
    "name": "ipython",
    "version": 3
   },
   "file_extension": ".py",
   "mimetype": "text/x-python",
   "name": "python",
   "nbconvert_exporter": "python",
   "pygments_lexer": "ipython3",
   "version": "3.6.10"
  }
 },
 "nbformat": 4,
 "nbformat_minor": 4
}
