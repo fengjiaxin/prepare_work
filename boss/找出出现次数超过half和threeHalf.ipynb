{
 "cells": [
  {
   "cell_type": "code",
   "execution_count": 1,
   "metadata": {},
   "outputs": [],
   "source": [
    "# 出现次数超过1/2或者1/3\n",
    "\n",
    "# 1.超过1/2\n",
    "# 思想：每次删除两个不同的数字"
   ]
  },
  {
   "cell_type": "code",
   "execution_count": 3,
   "metadata": {},
   "outputs": [],
   "source": [
    "def moreHalf(arr):\n",
    "    n1 = 0\n",
    "    c1 = 0\n",
    "    for ar in arr:\n",
    "        if ar == n1:\n",
    "            c1 += 1\n",
    "        else:\n",
    "            if c1 == 0:\n",
    "                n1 = ar\n",
    "                c1 = 1\n",
    "            else:\n",
    "                c1 -= 1\n",
    "    return n1"
   ]
  },
  {
   "cell_type": "code",
   "execution_count": 4,
   "metadata": {},
   "outputs": [],
   "source": [
    "arr = [1,2,2,1,1,3,1]\n",
    "res = moreHalf(arr)"
   ]
  },
  {
   "cell_type": "code",
   "execution_count": 5,
   "metadata": {},
   "outputs": [
    {
     "data": {
      "text/plain": [
       "1"
      ]
     },
     "execution_count": 5,
     "metadata": {},
     "output_type": "execute_result"
    }
   ],
   "source": [
    "res"
   ]
  },
  {
   "cell_type": "code",
   "execution_count": 6,
   "metadata": {},
   "outputs": [],
   "source": [
    "# 同理超过1/3\n",
    "def moreThanThree(arr):\n",
    "    n1 = 0\n",
    "    c1 = 0\n",
    "    n2 = 1\n",
    "    c2 = 0\n",
    "    for ar in arr:\n",
    "        if n1 == ar:\n",
    "            c1 += 1\n",
    "        elif n2 == ar:\n",
    "            c2 += 1\n",
    "        else:\n",
    "            if c1 == 0:\n",
    "                n1 = ar\n",
    "                c1 = 1\n",
    "            elif c2 == 0:\n",
    "                n2 = ar\n",
    "                c2 = 1\n",
    "            else:\n",
    "                c1 -= 1\n",
    "                c2 -= 1\n",
    "    return n1,n2"
   ]
  },
  {
   "cell_type": "code",
   "execution_count": 7,
   "metadata": {},
   "outputs": [],
   "source": [
    "arr2 = [1,2,3,2,2,4,3,3]\n",
    "n1,n2 = moreThanThree(arr2)"
   ]
  },
  {
   "cell_type": "code",
   "execution_count": 8,
   "metadata": {},
   "outputs": [
    {
     "data": {
      "text/plain": [
       "2"
      ]
     },
     "execution_count": 8,
     "metadata": {},
     "output_type": "execute_result"
    }
   ],
   "source": [
    "n1"
   ]
  },
  {
   "cell_type": "code",
   "execution_count": 9,
   "metadata": {},
   "outputs": [
    {
     "data": {
      "text/plain": [
       "3"
      ]
     },
     "execution_count": 9,
     "metadata": {},
     "output_type": "execute_result"
    }
   ],
   "source": [
    "n2"
   ]
  }
 ],
 "metadata": {
  "kernelspec": {
   "display_name": "Python 3",
   "language": "python",
   "name": "python3"
  },
  "language_info": {
   "codemirror_mode": {
    "name": "ipython",
    "version": 3
   },
   "file_extension": ".py",
   "mimetype": "text/x-python",
   "name": "python",
   "nbconvert_exporter": "python",
   "pygments_lexer": "ipython3",
   "version": "3.6.10"
  }
 },
 "nbformat": 4,
 "nbformat_minor": 4
}
